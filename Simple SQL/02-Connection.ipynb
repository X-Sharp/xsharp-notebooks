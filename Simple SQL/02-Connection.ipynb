{
 "cells": [
  {
   "cell_type": "markdown",
   "metadata": {},
   "source": [
    "# Load the *XSharp Language kernel*, and *SQLite package*"
   ]
  },
  {
   "cell_type": "code",
   "execution_count": 8,
   "metadata": {},
   "outputs": [
    {
     "data": {
      "text/html": [
       "<div><div></div><div></div><div><strong>Installed Packages</strong><ul><li><span>Microsoft.Data.Sqlite, 8.0.5</span></li><li><span>XSharpInteractive, 1.0.0</span></li></ul></div></div>"
      ]
     },
     "metadata": {},
     "output_type": "display_data"
    }
   ],
   "source": [
    "// <-= Press on the Arrow to run Me\n",
    "#r \"nuget: Microsoft.Data.Sqlite, 8.0.5\"\n",
    "#r \"nuget:XSharpInteractive,1.0.0\""
   ]
  },
  {
   "cell_type": "markdown",
   "metadata": {},
   "source": [
    "<span style=\"color:red\">\n",
    "<h2>Warning Dirty Trick !!</h2>\n",
    "As XSharp scripting engine doesn't support Nuget package load for now, we will have to force the load of the .DLL itself.<br />\n",
    "When you load a package, it is placed in your profile folder in the path :<br />\n",
    "</span>\n",
    "\"C:\\Users\\your login name\\.nuget\\packages\\microsoft.data.sqlite.core\\8.0.5\\lib\\net8.0\\Microsoft.Data.Sqlite.dll\"\n",
    "<span style=\"color:red\">\n",
    "In the following Notebooks, don't forget to adapt the loading path to your context.\n",
    "</span>"
   ]
  },
  {
   "cell_type": "code",
   "execution_count": 12,
   "metadata": {
    "dotnet_interactive": {
     "language": "xsharp"
    },
    "polyglot_notebook": {
     "kernelName": "xsharp"
    }
   },
   "outputs": [
    {
     "data": {
      "text/html": [
       "<div><span><p style=\"color: red\"></p><br /></span></div>"
      ]
     },
     "metadata": {},
     "output_type": "display_data"
    }
   ],
   "source": [
    "// Load the DLL in the XSharpInteractive context\n",
    "#r \"C:\\Users\\fabri\\.nuget\\packages\\microsoft.data.sqlite.core\\8.0.5\\lib\\net8.0\\Microsoft.Data.Sqlite.dll\""
   ]
  },
  {
   "cell_type": "markdown",
   "metadata": {},
   "source": [
    "# Connection"
   ]
  },
  {
   "cell_type": "code",
   "execution_count": 14,
   "metadata": {
    "dotnet_interactive": {
     "language": "xsharp"
    },
    "polyglot_notebook": {
     "kernelName": "xsharp"
    }
   },
   "outputs": [
    {
     "data": {
      "text/html": [
       "<div><span><p style=\"color: red\"></p><br /></span></div>"
      ]
     },
     "metadata": {},
     "output_type": "display_data"
    },
    {
     "name": "stdout",
     "output_type": "stream",
     "text": [
      "\n",
      "Création d'un ConnectionStringBuilder propre à SQLite\n",
      "Data Source=C:\\Temp\\Test.db"
     ]
    }
   ],
   "source": [
    "? \"Creation of a ConnectionString specific to SQLite\"\n",
    "var connectionString := Microsoft.Data.Sqlite.SqliteConnectionStringBuilder{}\n",
    "connectionString:DataSource = \"C:\\Temp\\Test.db\"\n",
    "? connectionString:ToString()"
   ]
  },
  {
   "cell_type": "code",
   "execution_count": 15,
   "metadata": {
    "dotnet_interactive": {
     "language": "xsharp"
    },
    "polyglot_notebook": {
     "kernelName": "xsharp"
    }
   },
   "outputs": [
    {
     "data": {
      "text/html": [
       "<div><span><p style=\"color: red\"></p><br /></span></div>"
      ]
     },
     "metadata": {},
     "output_type": "display_data"
    },
    {
     "name": "stdout",
     "output_type": "stream",
     "text": [
      "\n",
      "Création d'un ConnectionStringBuilder propre à SQLite\n",
      "Data Source=C:\\Temp\\Test.db"
     ]
    }
   ],
   "source": [
    "using System.IO\n",
    "using Microsoft.Data.Sqlite\n",
    "\n",
    "? \"Creation of a ConnectionString specific to SQLite\"\n",
    "var fichier := \"C:\\Temp\\Test.db\"\n",
    "var connectionString := SqliteConnectionStringBuilder{}\n",
    "connectionString:DataSource := fichier\n",
    "? connectionString:ToString()"
   ]
  },
  {
   "cell_type": "code",
   "execution_count": 35,
   "metadata": {
    "dotnet_interactive": {
     "language": "xsharp"
    },
    "polyglot_notebook": {
     "kernelName": "xsharp"
    }
   },
   "outputs": [
    {
     "data": {
      "text/html": [
       "<div><span><p style=\"color: red\"></p><br /></span></div>"
      ]
     },
     "metadata": {},
     "output_type": "display_data"
    },
    {
     "data": {
      "text/html": [
       "<div><span style=\"color: red\">System.IO.IOException: The process cannot access the file &#39;C:\\Temp\\Test.db&#39; because it is being used by another process.\r\n",
       "  + System.IO.FileSystem.DeleteFile(string)\r\n",
       "</span><br /></div>"
      ]
     },
     "metadata": {},
     "output_type": "display_data"
    }
   ],
   "source": [
    "//\n",
    "IF (File.Exists(fichier))\n",
    "    File.Delete(fichier)\n",
    "    ? i\"File {fichier} deleted.\"\n",
    "ENDIF\n",
    "//"
   ]
  },
  {
   "cell_type": "code",
   "execution_count": 32,
   "metadata": {
    "dotnet_interactive": {
     "language": "xsharp"
    },
    "polyglot_notebook": {
     "kernelName": "xsharp"
    }
   },
   "outputs": [
    {
     "data": {
      "text/html": [
       "<div><span><p style=\"color: red\"></p><br /></span></div>"
      ]
     },
     "metadata": {},
     "output_type": "display_data"
    },
    {
     "name": "stdout",
     "output_type": "stream",
     "text": [
      "\r\n",
      "Bienvenue Fabrice."
     ]
    }
   ],
   "source": [
    "var name := \"Fabrice\" //await Microsoft.DotNet.Interactive.Kernel.GetInputAsync(\"Tapez votre nom :\")\n",
    "? i\"Welcome {name}.\""
   ]
  },
  {
   "cell_type": "code",
   "execution_count": 34,
   "metadata": {
    "dotnet_interactive": {
     "language": "xsharp"
    },
    "polyglot_notebook": {
     "kernelName": "xsharp"
    }
   },
   "outputs": [
    {
     "data": {
      "text/html": [
       "<div><span><p style=\"color: red\"></p><br /></span></div>"
      ]
     },
     "metadata": {},
     "output_type": "display_data"
    },
    {
     "name": "stdout",
     "output_type": "stream",
     "text": [
      "\n",
      "Opening...\n",
      "Create and Fill..."
     ]
    },
    {
     "data": {
      "text/html": [
       "<div><span style=\"color: red\">Microsoft.Data.Sqlite.SqliteException: SQLite Error 1: &#39;table user already exists&#39;.\r\n",
       "  + Microsoft.Data.Sqlite.SqliteException.ThrowExceptionForRC(int, SQLitePCL.sqlite3)\r\n",
       "  + Microsoft.Data.Sqlite.SqliteDataReader.NextResult()\r\n",
       "  + Microsoft.Data.Sqlite.SqliteCommand.ExecuteReader(System.Data.CommandBehavior)\r\n",
       "  + Microsoft.Data.Sqlite.SqliteCommand.ExecuteReader()\r\n",
       "  + Microsoft.Data.Sqlite.SqliteCommand.ExecuteNonQuery()\r\n",
       "</span><br /></div>"
      ]
     },
     "metadata": {},
     "output_type": "display_data"
    }
   ],
   "source": [
    "BEGIN USING var connection := SqliteConnection{connectionString:ToString()}\n",
    "    ? \"Opening...\"\n",
    "    connection:Open()\n",
    "    ? \"Create and Fill...\"\n",
    "    BEGIN USING var command := connection:CreateCommand()\n",
    "        command:CommandText = ;\n",
    "        \"    CREATE TABLE user (\" +;\n",
    "        \"        id INTEGER NOT NULL PRIMARY KEY AUTOINCREMENT,\"+;\n",
    "        \"        name TEXT NOT NULL\"+;\n",
    "        \"    );\"+;\n",
    "        \"    INSERT INTO user\"+;\n",
    "        \"    VALUES  (1, 'Diana'),\"+;\n",
    "        \"            (2, 'Bruce'),\"+;\n",
    "        \"            (3, 'Peter'),\"+;\n",
    "        \"            (4, 'Natasha');\"\n",
    "        command:ExecuteNonQuery()\n",
    "        // Add yourself to the Table\n",
    "        ? \"Adding user...\"\n",
    "        command:CommandText = ;\n",
    "        \"    INSERT INTO user (name)\"+;\n",
    "        \"    VALUES (@name)\"\n",
    "        command:Parameters:AddWithValue(\"@name\", name)\n",
    "        command:ExecuteNonQuery()\n",
    "    END USING\n",
    "END USING"
   ]
  }
 ],
 "metadata": {
  "kernelspec": {
   "display_name": ".NET (C#)",
   "language": "C#",
   "name": ".net-csharp"
  },
  "polyglot_notebook": {
   "kernelInfo": {
    "defaultKernelName": "csharp",
    "items": [
     {
      "aliases": [],
      "languageName": "csharp",
      "name": "csharp"
     },
     {
      "aliases": [],
      "languageName": "X#",
      "name": "xsharp"
     }
    ]
   }
  }
 },
 "nbformat": 4,
 "nbformat_minor": 2
}
