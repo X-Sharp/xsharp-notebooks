{
 "cells": [
  {
   "cell_type": "markdown",
   "metadata": {},
   "source": [
    "# Load the *XSharp Language kernel*, and *SQLite package*"
   ]
  },
  {
   "cell_type": "code",
   "execution_count": null,
   "metadata": {
    "dotnet_interactive": {
     "language": "csharp"
    },
    "polyglot_notebook": {
     "kernelName": "csharp"
    }
   },
   "outputs": [],
   "source": [
    "// <-= Press on the Arrow to run Me\n",
    "#r \"nuget: Microsoft.Data.Sqlite, 8.0.5\"\n",
    "#r \"nuget:XSharpInteractive,1.0.0\""
   ]
  },
  {
   "cell_type": "markdown",
   "metadata": {},
   "source": [
    "<span style=\"color:red\">\n",
    "<h2>Warning !! Dirty Hack !!</h2>\n",
    "As XSharp scripting engine doesn't support Nuget package load for now, we will have to force the load of the .DLL itself.<br />\n",
    "When you load a package, it is placed in your profile folder in the path :<br />\n",
    "</span>\n",
    "\"C:\\Users\\your login name\\.nuget\\packages\\microsoft.data.sqlite.core\\8.0.5\\lib\\net8.0\\Microsoft.Data.Sqlite.dll\"\n",
    "<span style=\"color:red\"><br />\n",
    "In the following Notebooks, don't forget to adapt the path to **your** context.\n",
    "</span>"
   ]
  },
  {
   "cell_type": "code",
   "execution_count": null,
   "metadata": {
    "dotnet_interactive": {
     "language": "xsharp"
    },
    "polyglot_notebook": {
     "kernelName": "xsharp"
    }
   },
   "outputs": [],
   "source": [
    "// Load the DLL in the XSharpInteractive context\n",
    "#r \"C:\\Users\\fabri\\.nuget\\packages\\microsoft.data.sqlite.core\\8.0.5\\lib\\net8.0\\Microsoft.Data.Sqlite.dll\""
   ]
  },
  {
   "cell_type": "markdown",
   "metadata": {},
   "source": [
    "# Connection\n",
    "As with *standard\" DBMS that are using a server, we will need to *connect* to our SQLite database.  \n",
    "To do so, we will have to provide a **ConnectionString**, and we can easily do it by using a **ConnectionStringBuilder**.\n",
    "\n",
    "Where we have to specify a **Server** Name/Address, a **User** and a **Password**, we will have to give a **FilePath** to access the `DataSource`.\n",
    "\n",
    "> Try the following to see what we have as `ConnectionString`"
   ]
  },
  {
   "cell_type": "code",
   "execution_count": null,
   "metadata": {
    "dotnet_interactive": {
     "language": "xsharp"
    },
    "polyglot_notebook": {
     "kernelName": "xsharp"
    }
   },
   "outputs": [],
   "source": [
    "? \"Creation of a ConnectionString specific to SQLite\"\n",
    "var connectionString := Microsoft.Data.Sqlite.SqliteConnectionStringBuilder{}\n",
    "connectionString:DataSource := \"Test.db\" // No specific Path, the file Test.db should be in the same folder as the Notebook\n",
    "? connectionString:ToString()"
   ]
  },
  {
   "cell_type": "markdown",
   "metadata": {},
   "source": [
    "When you want to use a **CLASS** that appears inside a **NAMESPACE**, you have two solutions :\n",
    "- Indicate it's Fully Qualified Named, as above\n",
    "- Indicate the NAMESPACE in a using close as below, and the compiler will resolve the name by itelf"
   ]
  },
  {
   "cell_type": "code",
   "execution_count": null,
   "metadata": {
    "dotnet_interactive": {
     "language": "xsharp"
    },
    "polyglot_notebook": {
     "kernelName": "xsharp"
    }
   },
   "outputs": [],
   "source": [
    "using System.IO\n",
    "using Microsoft.Data.Sqlite\n",
    "\n",
    "? \"Creation of a ConnectionString specific to SQLite\"\n",
    "var connectionString := SqliteConnectionStringBuilder{}\n",
    "var file := \"Test.db\"\n",
    "connectionString:DataSource := file // No specific Path, the file Test.db should be in the same folder as the Notebook\n",
    "? connectionString:ToString()"
   ]
  },
  {
   "cell_type": "markdown",
   "metadata": {},
   "source": [
    "As we will repeat the run of this Script, we may have to delete the generated file.  \n",
    "As it will appear in the same folder as the Notebook, you delete it from Visual Studio Code, or we can ask DotNet to do the job.  \n",
    "The `System.IO` namespace contains a lot of tools in file management, and `Delete` is one of them."
   ]
  },
  {
   "cell_type": "code",
   "execution_count": null,
   "metadata": {
    "dotnet_interactive": {
     "language": "xsharp"
    },
    "polyglot_notebook": {
     "kernelName": "xsharp"
    }
   },
   "outputs": [],
   "source": [
    "//\n",
    "IF (File.Exists(file))\n",
    "    File.Delete(file)\n",
    "    ? i\"File {file} deleted.\"\n",
    "ENDIF\n",
    "//"
   ]
  },
  {
   "cell_type": "code",
   "execution_count": null,
   "metadata": {
    "dotnet_interactive": {
     "language": "xsharp"
    },
    "polyglot_notebook": {
     "kernelName": "xsharp"
    }
   },
   "outputs": [],
   "source": [
    "var name := \"Fabrice\" \n",
    "? i\"Welcome {name}.\""
   ]
  },
  {
   "cell_type": "code",
   "execution_count": null,
   "metadata": {
    "dotnet_interactive": {
     "language": "xsharp"
    },
    "polyglot_notebook": {
     "kernelName": "xsharp"
    }
   },
   "outputs": [],
   "source": [
    "BEGIN USING var connection := SqliteConnection{connectionString:ToString()}\n",
    "    ? \"Opening...\"\n",
    "    connection:Open()\n",
    "    ? \"Create DataBase...\"\n",
    "    BEGIN USING var command := connection:CreateCommand()\n",
    "        command:CommandText = ;\n",
    "        \"    CREATE TABLE user (\" +;\n",
    "        \"        id INTEGER NOT NULL PRIMARY KEY AUTOINCREMENT,\"+;\n",
    "        \"        name TEXT NOT NULL\"+;\n",
    "        \"    );\"+;\n",
    "        \"    INSERT INTO user\"+;\n",
    "        \"    VALUES  (1, 'Diana'),\"+;\n",
    "        \"            (2, 'Bruce'),\"+;\n",
    "        \"            (3, 'Peter'),\"+;\n",
    "        \"            (4, 'Natasha');\"\n",
    "        command:ExecuteNonQuery()\n",
    "    END USING\n",
    "END USING\n",
    "\n"
   ]
  },
  {
   "cell_type": "code",
   "execution_count": null,
   "metadata": {
    "dotnet_interactive": {
     "language": "xsharp"
    },
    "polyglot_notebook": {
     "kernelName": "xsharp"
    }
   },
   "outputs": [],
   "source": [
    "BEGIN USING var connection := SqliteConnection{connectionString:ToString()}\n",
    "    BEGIN USING var command := connection:CreateCommand()\n",
    "        // Add yourself to the Table\n",
    "        ? \"Adding user...\"\n",
    "        command:CommandText = ;\n",
    "        \"    INSERT INTO user (name)\"+;\n",
    "        \"    VALUES (@name)\"\n",
    "        command:Parameters:AddWithValue(\"@name\", name)\n",
    "        command:ExecuteNonQuery()\n",
    "    END USING\n",
    "END USING"
   ]
  }
 ],
 "metadata": {
  "kernelspec": {
   "display_name": ".NET (C#)",
   "language": "C#",
   "name": ".net-csharp"
  },
  "polyglot_notebook": {
   "kernelInfo": {
    "defaultKernelName": "csharp",
    "items": [
     {
      "aliases": [],
      "languageName": "csharp",
      "name": "csharp"
     },
     {
      "aliases": [],
      "languageName": "X#",
      "name": "xsharp"
     }
    ]
   }
  }
 },
 "nbformat": 4,
 "nbformat_minor": 2
}
