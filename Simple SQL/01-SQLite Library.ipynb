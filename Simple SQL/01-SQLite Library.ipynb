{
 "cells": [
  {
   "cell_type": "markdown",
   "metadata": {},
   "source": [
    "# Libraries & Nuget\n",
    "\n",
    "X# is a compiled language. In order to produce an application, we write code then we use a compiler and set of tools that forms the developement chain.  \n",
    "But even if the language is powerfull, it only gave us commands and programming structures (Tests, Branches, Loops, ...).\n",
    "\n",
    "\n",
    "We will some functions or classes, tools to access some capabilities (Streams, Files, Network, DataBases, ...)\n",
    "Some of these are part of the **DotNet Framework** we are using.\n",
    "That **Framework** contains set of classes that are organized in libraries, and are grouped inside **namespace**.  \n",
    "When you want to specify a **namespace**, you use the `using` keyword at the beginning of your code, or you will have to use the **Fully Qualified Name** of the classes you want to use.\n",
    "\n",
    "In one of the [FirstSteps]() Notebook, we are using the **namespace** `System.IO` in order to use files and streams.\n",
    "\n",
    "But what happens when you want to use fonctionalities that doesn't exist in the standard **Framework** ?\n",
    "You will need to install libraries that provide it, then reference them in your project : That's what **Nuget Packages** are used for.\n",
    "\n",
    "## Looking for the Magic Wand\n",
    "\n",
    "It exist a *magical* bank of libraries called [Nuget.org](https://www.nuget.org/).  \n",
    "\n",
    "In the beginning of this serie of Notebooks, we will use `SQLite` that is a *ServerLess* DBMS (Database Management System), so we have no server to install. We will pass *Queries* to the DBMS, that will use *local* files.  \n",
    "\n",
    "On the `Nuget` website, search for SQLite... \n",
    "You can see that we have *a lot of* **packages** for that name !! :)\n",
    "\n",
    "The one we will use is simply called `Microsoft.Data.Sqlite`, for which several versions are available : We will use `8.0.5`.  \n",
    "\n",
    "> Hint : The difference between `Microsoft.Data.Sqlite` and `Microsoft.Data.Sqlite.Core` packages is that the one we use contains the **Dotnet** layer and the **DBMS Engine**, where `Core` doesn't embedded the **SQLite Engine**.\n",
    "\n",
    "In a Notebook, if you have followed the [How To Start](../HowToStart.ipynb) Notebook or one of the [FirstSteps]() Notebooks, you know own to load a Nuget Package in Memory. We will proceed the same way for our **SQLite package**.\n",
    "\n",
    "> Execute the following bloc to load it."
   ]
  },
  {
   "cell_type": "code",
   "execution_count": null,
   "metadata": {
    "dotnet_interactive": {
     "language": "csharp"
    },
    "polyglot_notebook": {
     "kernelName": "csharp"
    }
   },
   "outputs": [],
   "source": [
    "#r \"nuget: Microsoft.Data.Sqlite, 8.0.5\""
   ]
  },
  {
   "cell_type": "markdown",
   "metadata": {},
   "source": [
    "Ok, if wasn't existing on your PC the `Microsoft.Data.Sqlite` has be downloaded, and loaded in memory.  \n",
    "In the next Notebooks, we will start by loading `XSharpInteractive` and `Microsoft.Data.Sqlite`, before using it.\n"
   ]
  }
 ],
 "metadata": {
  "kernelspec": {
   "display_name": ".NET (C#)",
   "language": "C#",
   "name": ".net-csharp"
  },
  "polyglot_notebook": {
   "kernelInfo": {
    "defaultKernelName": "csharp",
    "items": [
     {
      "aliases": [],
      "languageName": "csharp",
      "name": "csharp"
     }
    ]
   }
  }
 },
 "nbformat": 4,
 "nbformat_minor": 2
}
