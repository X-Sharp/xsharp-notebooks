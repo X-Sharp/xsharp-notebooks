{
 "cells": [
  {
   "cell_type": "markdown",
   "metadata": {},
   "source": [
    "# 加载 *XSharp 语言内核* 和 *SQLite package*"
   ]
  },
  {
   "cell_type": "code",
   "execution_count": null,
   "metadata": {
    "dotnet_interactive": {
     "language": "csharp"
    },
    "polyglot_notebook": {
     "kernelName": "csharp"
    }
   },
   "outputs": [],
   "source": [
    "// <-= 点击左侧箭头执行代码\n",
    "#r \"nuget: Microsoft.Data.Sqlite, 8.0.5\"\n",
    "#r \"nuget:XSharpInteractive,1.0.0\""
   ]
  },
  {
   "cell_type": "markdown",
   "metadata": {},
   "source": [
    "<span style=\"color:red\">\n",
    "<h2>警告!! Dirty Hack !!</h2>\n",
    "由于 XSharp 脚本引擎暂时不支持 Nuget 软件包的加载，因此我们必须强制加载 .DLL 本身。当你加载软件包时，它会被放置在你的配置文件文件夹中，路径为：<br />\n",
    "\"C:\\Users\\your login name\\.nuget\\packages\\microsoft.data.sqlite.core\\8.0.5\\lib\\net8.0\\Microsoft.Data.Sqlite.dll\"\n",
    "<span style=\"color:red\"><br />\n",
    "在下面的笔记中，请不要忘记根据您的实际情况调整路径！\n",
    "</span>"
   ]
  },
  {
   "cell_type": "code",
   "execution_count": null,
   "metadata": {
    "dotnet_interactive": {
     "language": "xsharp"
    },
    "polyglot_notebook": {
     "kernelName": "xsharp"
    }
   },
   "outputs": [],
   "source": [
    "// 在 XSharpInteractive 环境中加载 DLL\n",
    "#r \"C:\\Users\\fabri\\.nuget\\packages\\microsoft.data.sqlite.core\\8.0.5\\lib\\net8.0\\Microsoft.Data.Sqlite.dll\""
   ]
  },
  {
   "cell_type": "markdown",
   "metadata": {},
   "source": [
    "# 连接\n",
    "与使用 *标准\" 数据库管理系统一样，我们需要 *连接* 到我们的 SQLite 数据库。 \n",
    "为此，我们必须提供 **连接字符串**，使用 **ConnectionStringBuilder** 就可以轻松实现。\n",
    "\n",
    "我们必须指定 **服务器** 名称和地址、**用户名** 和 **密码**，还必须提供 **文件路径** 以访问 “数据源”。\n",
    "\n",
    "> 试试下面的方法，看看我们的 `ConnectionString` 是什么"
   ]
  },
  {
   "cell_type": "code",
   "execution_count": null,
   "metadata": {
    "dotnet_interactive": {
     "language": "xsharp"
    },
    "polyglot_notebook": {
     "kernelName": "xsharp"
    }
   },
   "outputs": [],
   "source": [
    "? \"创建 SQLite 专用连接字符串\"\n",
    "var connectionString := Microsoft.Data.Sqlite.SqliteConnectionStringBuilder{}\n",
    "connectionString:DataSource := \"Test.db\" // 无特定路径, Test.db 文件应与笔记位于同一文件夹中\n",
    "? connectionString:ToString()"
   ]
  },
  {
   "cell_type": "markdown",
   "metadata": {},
   "source": [
    "如果要使用出现在 **命名空间** 内的 **CLASS**，有两种解决方案：\n",
    "- 如上所述，标明它的完全限定名\n",
    "- 如下所示，在 using 中指明命名空间，编译器将自行解析该名称"
   ]
  },
  {
   "cell_type": "code",
   "execution_count": null,
   "metadata": {
    "dotnet_interactive": {
     "language": "xsharp"
    },
    "polyglot_notebook": {
     "kernelName": "xsharp"
    }
   },
   "outputs": [],
   "source": [
    "using System.IO\n",
    "using Microsoft.Data.Sqlite\n",
    "\n",
    "? \"创建 SQLite 专用连接字符串\"\n",
    "var connectionString := SqliteConnectionStringBuilder{}\n",
    "var file := \"Test.db\"\n",
    "connectionString:DataSource := file // 无特定路径, Test.db 文件应与笔记位于同一文件夹中\n",
    "? connectionString:ToString()"
   ]
  },
  {
   "cell_type": "markdown",
   "metadata": {},
   "source": [
    "由于我们会重复运行该脚本，因此可能需要删除生成的文件。 \n",
    "由于该文件将出现在与笔记相同的文件夹中，因此可以从 Visual Studio Code 中删除该文件，或者请 DotNet 来完成这项工作。 \n",
    "`System.IO` 命名空间包含许多文件管理工具，`Delete` 就是其中之一。"
   ]
  },
  {
   "cell_type": "code",
   "execution_count": null,
   "metadata": {
    "dotnet_interactive": {
     "language": "xsharp"
    },
    "polyglot_notebook": {
     "kernelName": "xsharp"
    }
   },
   "outputs": [],
   "source": [
    "//\n",
    "IF (File.Exists(file))\n",
    "    File.Delete(file)\n",
    "    ? i\"文件 {file} 已删除\"\n",
    "ENDIF\n",
    "//"
   ]
  },
  {
   "cell_type": "code",
   "execution_count": null,
   "metadata": {
    "dotnet_interactive": {
     "language": "xsharp"
    },
    "polyglot_notebook": {
     "kernelName": "xsharp"
    }
   },
   "outputs": [],
   "source": [
    "var name := \"Fabrice\" \n",
    "? i\"Welcome {name}.\""
   ]
  },
  {
   "cell_type": "code",
   "execution_count": null,
   "metadata": {
    "dotnet_interactive": {
     "language": "xsharp"
    },
    "polyglot_notebook": {
     "kernelName": "xsharp"
    }
   },
   "outputs": [],
   "source": [
    "BEGIN USING var connection := SqliteConnection{connectionString:ToString()}\n",
    "    ? \"打开...\"\n",
    "    connection:Open()\n",
    "    ? \"创建数据库...\"\n",
    "    BEGIN USING var command := connection:CreateCommand()\n",
    "        command:CommandText = ;\n",
    "        \"    CREATE TABLE user (\" +;\n",
    "        \"        id INTEGER NOT NULL PRIMARY KEY AUTOINCREMENT,\"+;\n",
    "        \"        name TEXT NOT NULL\"+;\n",
    "        \"    );\"+;\n",
    "        \"    INSERT INTO user\"+;\n",
    "        \"    VALUES  (1, 'Diana'),\"+;\n",
    "        \"            (2, 'Bruce'),\"+;\n",
    "        \"            (3, 'Peter'),\"+;\n",
    "        \"            (4, 'Natasha');\"\n",
    "        command:ExecuteNonQuery()\n",
    "    END USING\n",
    "END USING\n",
    "\n"
   ]
  },
  {
   "cell_type": "code",
   "execution_count": null,
   "metadata": {
    "dotnet_interactive": {
     "language": "xsharp"
    },
    "polyglot_notebook": {
     "kernelName": "xsharp"
    }
   },
   "outputs": [],
   "source": [
    "BEGIN USING var connection := SqliteConnection{connectionString:ToString()}\n",
    "    BEGIN USING var command := connection:CreateCommand()\n",
    "        // 将自己添加至用户表\n",
    "        ? \"增加用户...\"\n",
    "        command:CommandText = ;\n",
    "        \"    INSERT INTO user (name)\"+;\n",
    "        \"    VALUES (@name)\"\n",
    "        command:Parameters:AddWithValue(\"@name\", name)\n",
    "        command:ExecuteNonQuery()\n",
    "    END USING\n",
    "END USING"
   ]
  }
 ],
 "metadata": {
  "kernelspec": {
   "display_name": ".NET (C#)",
   "language": "C#",
   "name": ".net-csharp"
  },
  "polyglot_notebook": {
   "kernelInfo": {
    "defaultKernelName": "csharp",
    "items": [
     {
      "aliases": [],
      "languageName": "csharp",
      "name": "csharp"
     },
     {
      "aliases": [],
      "languageName": "X#",
      "name": "xsharp"
     }
    ]
   }
  }
 },
 "nbformat": 4,
 "nbformat_minor": 2
}
