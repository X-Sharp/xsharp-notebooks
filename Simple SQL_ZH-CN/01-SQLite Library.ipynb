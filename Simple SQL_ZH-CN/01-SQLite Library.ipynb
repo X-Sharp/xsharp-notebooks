{
 "cells": [
  {
   "cell_type": "markdown",
   "metadata": {},
   "source": [
    "# 库和 Nuget\n",
    "\n",
    "X# 是一种编译语言。为了开发一个应用程序，我们先编写代码，然后使用编译器和一系列工具，这就形成了开发链。 \n",
    "但是，即使这种语言功能强大，它也只能为我们提供命令和编程结构（测试、分支、循环......）。\n",
    "\n",
    "\n",
    "我们需要一些函数或类、工具来访问一些功能（流、文件、网络、数据库......）。\n",
    "其中一些是我们正在使用的 **DotNet Framework** 的一部分。\n",
    "该 **Framework** 包含一组类，这些类被组织在库中，并被归入 **命名空间**。 \n",
    "当你想指定一个 **命名空间** 时，你可以在代码开头使用 `using` 关键字，或者使用你想使用的类的 **完全限定名**。\n",
    "\n",
    "在 [FirstSteps_ZH-CN]() 笔记中，我们使用了 `System.IO` 这个**命名空间**  来使用文件和流。\n",
    "\n",
    "但如果要使用标准 **Framework** 中不存在的功能，该怎么办呢？\n",
    "您需要安装提供这些功能的库，然后在您的项目中引用它们：这就是 **Nuget 软件包**。\n",
    "\n",
    "## 寻找魔杖\n",
    "\n",
    "有一个 *神奇* 的库，名为 [Nuget.org](https://www.nuget.org/)。 \n",
    "\n",
    "在本系列笔记的开头，我们将使用 “SQLite”，这是一个 *ServerLess(无服务)* 的数据库管理系统（DBMS），因此我们无需安装服务器。我们将使用 *本地* 文件在数据库管理系统中进行 *查询* 。 \n",
    "\n",
    "在 “Nuget ”网站上搜索 SQLite... \n",
    "你可以看到有很多 **packages(包)** 都是这个名字！！:)\n",
    "\n",
    "我们要使用的软件包叫 “Microsoft.Data.Sqlite”，它有多个版本：我们将使用 “8.0.5” 这个版本。 \n",
    "\n",
    "> 提示：“Microsoft.Data.Sqlite” 包与 “Microsoft.Data.Sqlite.Core” 包的区别在于，我们使用的 “Microsoft.Data.Sqlite” 包含 **Dotnet** 层和 **DBMS Engine**，而 “Core” 包不包含 **SQLite Engine**。\n",
    "\n",
    "在笔记中，如果你已经学习了 [如何开始](.../HowToStart_CN.ipynb) 或 [FirstSteps_ZH-CN]() 笔记，你就会知道如何在内存中加载 Nuget 包。我们将以同样的方式处理我们的 **SQLite package**。\n",
    "\n",
    "> 执行以下程序来进行加载。"
   ]
  },
  {
   "cell_type": "code",
   "execution_count": null,
   "metadata": {
    "dotnet_interactive": {
     "language": "csharp"
    },
    "polyglot_notebook": {
     "kernelName": "csharp"
    }
   },
   "outputs": [],
   "source": [
    "#r \"nuget: Microsoft.Data.Sqlite, 8.0.5\""
   ]
  },
  {
   "cell_type": "markdown",
   "metadata": {},
   "source": [
    "OK，如果你的电脑上还没有 “Microsoft.Data.Sqlite”，那么 “Microsoft.Data.Sqlite ”已经下载并加载到内存中了。 \n",
    "在接下来的笔记中，我们将首先加载 `XSharpInteractive` 和 `Microsoft.Data.Sqlite`，然后再使用它。"
   ]
  }
 ],
 "metadata": {
  "kernelspec": {
   "display_name": ".NET (C#)",
   "language": "C#",
   "name": ".net-csharp"
  },
  "polyglot_notebook": {
   "kernelInfo": {
    "defaultKernelName": "csharp",
    "items": [
     {
      "aliases": [],
      "languageName": "csharp",
      "name": "csharp"
     }
    ]
   }
  }
 },
 "nbformat": 4,
 "nbformat_minor": 2
}
