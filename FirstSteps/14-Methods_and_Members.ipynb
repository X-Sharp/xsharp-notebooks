{
 "cells": [
  {
   "cell_type": "markdown",
   "metadata": {},
   "source": [
    "# Load the *XSharp Language kernel*."
   ]
  },
  {
   "cell_type": "code",
   "execution_count": null,
   "metadata": {
    "dotnet_interactive": {
     "language": "csharp"
    },
    "polyglot_notebook": {
     "kernelName": "csharp"
    }
   },
   "outputs": [],
   "source": [
    "// <-= Press on the Arrow to run Me\n",
    "#r \"nuget:XSharpInteractive\""
   ]
  },
  {
   "cell_type": "markdown",
   "metadata": {},
   "source": [
    "# Methods and Members\n",
    "\n",
    "Here's our bank account: It doesn't do much for the moment, but displays its owner and balance.  \n",
    "It doesn't display its number yet.  \n",
    "\n",
    "We're also going to work on a Transaction class, which has been added for you.\n",
    "\n",
    "> Execute each piece of code and see what is displayed. This is what we ended with last time."
   ]
  },
  {
   "cell_type": "code",
   "execution_count": null,
   "metadata": {
    "dotnet_interactive": {
     "language": "xsharp"
    },
    "polyglot_notebook": {
     "kernelName": "xsharp"
    }
   },
   "outputs": [],
   "source": [
    "CLASS BankAccount\n",
    "    // Properties (#1)\n",
    "    PUBLIC PROPERTY Number AS STRING AUTO GET SET\n",
    "    PUBLIC PROPERTY Owner AS STRING AUTO GET SET\n",
    "    PUBLIC PROPERTY Balance AS Decimal AUTO GET\n",
    "        \n",
    "    // Constructor (#2)\n",
    "    PUBLIC CONSTRUCTOR( name AS STRING, initialBalance AS DECIMAL )\n",
    "        SELF:Owner := name\n",
    "        SELF:Balance := initialBalance\n",
    "    END CONSTRUCTOR\n",
    "    \n",
    "    // Methods (#4)\n",
    "    PUBLIC METHOD MakeDeposit( amount AS DECIMAL, depositDate AS DateTime, notes AS STRING ) AS VOID\n",
    "\n",
    "    END METHOD\n",
    "\n",
    "    PUBLIC METHOD MakeWithdrawal( amount AS DECIMAL, withdrawDate AS DateTime, notes AS STRING ) AS VOID\n",
    "\n",
    "    END METHOD\n",
    "END CLASS"
   ]
  },
  {
   "cell_type": "code",
   "execution_count": null,
   "metadata": {
    "dotnet_interactive": {
     "language": "xsharp"
    },
    "polyglot_notebook": {
     "kernelName": "xsharp"
    }
   },
   "outputs": [],
   "source": [
    "var account := BankAccount{ \"Bruce\", 1000 }\n",
    "? i\"The account number [{account:Number}] belongs to {account:Owner}\"\n",
    "? i\"It has been created with {account:Balance} Euros.\""
   ]
  },
  {
   "cell_type": "markdown",
   "metadata": {},
   "source": [
    "## 1 : Account Number\n",
    "\n",
    "We need a starting number, which we'll use for all new bank account creations, to make sure that the numbers are unique. \n",
    "\n",
    "Below is the code for this “base” number. What does it mean?\n",
    "\n",
    "- **PRIVATE**: This means that the use of this number is internal to the class. It is impossible to use it except from the internal code.\n",
    "- **STATIC**: This means that this number is unique for **all** `BankAccount` **objects**. If one account changes it, all the others see the change. It's one way of making sure our bank account numbers are unique! As soon as a bank account has used its value for its number, we'll add 1 to this “base” and the next account created will have a new Numero.  \n",
    "\n",
    "> Copy the code below and paste it in the // Properties section of the `BankAccount` class.\n",
    "\n",
    "        PRIVATE STATIC accountBaseNumber := 1234567890 AS INT\n",
    "\n",
    "> Copy this other part of code and add it to the constructor.\n",
    "\n",
    "        SELF:Number := accountBaseNumber:ToString()\n",
    "        accountBaseNumber ++\n",
    "\n",
    "> Run this code and see what happens!"
   ]
  },
  {
   "cell_type": "code",
   "execution_count": null,
   "metadata": {
    "dotnet_interactive": {
     "language": "xsharp"
    },
    "polyglot_notebook": {
     "kernelName": "xsharp"
    }
   },
   "outputs": [],
   "source": [
    "CLASS BankAccount\n",
    "    // Properties (#1)\n",
    "    PUBLIC PROPERTY Number AS STRING AUTO GET SET\n",
    "    PUBLIC PROPERTY Owner AS STRING AUTO GET SET\n",
    "    PUBLIC PROPERTY Balance AS Decimal AUTO GET\n",
    "    // (Paste first part here!)\n",
    "        \n",
    "    // Constructor (#2)\n",
    "    PUBLIC CONSTRUCTOR( name AS STRING, initialBalance AS DECIMAL )\n",
    "        SELF:Owner := name\n",
    "        SELF:Balance := initialBalance\n",
    "        // (Paste second part here!)\n",
    "        \n",
    "    END CONSTRUCTOR\n",
    "    \n",
    "    // Methods (#4)\n",
    "    PUBLIC METHOD MakeDeposit( amount AS DECIMAL, depositDate AS DateTime, notes AS STRING ) AS VOID\n",
    "\n",
    "    END METHOD\n",
    "\n",
    "    PUBLIC METHOD MakeWithdrawal( amount AS DECIMAL, withdrawDate AS DateTime, notes AS STRING ) AS VOID\n",
    "\n",
    "    END METHOD\n",
    "END CLASS"
   ]
  },
  {
   "cell_type": "code",
   "execution_count": null,
   "metadata": {
    "dotnet_interactive": {
     "language": "xsharp"
    },
    "polyglot_notebook": {
     "kernelName": "xsharp"
    }
   },
   "outputs": [],
   "source": [
    "var account := BankAccount{ \"Bruce\", 1000 }\n",
    "? i\"The account number [{account:Number}] belongs to {account:Owner}\"\n",
    "? i\"It has been created with {account:Balance} Euros.\""
   ]
  },
  {
   "cell_type": "markdown",
   "metadata": {},
   "source": [
    "> Mmmm.... Try to run the creation-code several times, and try to guess what's happening... ;)"
   ]
  },
  {
   "cell_type": "markdown",
   "metadata": {},
   "source": [
    "## 2: Transaction Properties\n",
    "\n",
    "The next part you need is a balance! One way you could do this is just keep the value.  \n",
    "However, another way to do it is to create a history of transactions. \n",
    "\n",
    "To do that, you're going to make a transaction class, that records one transaction.\n",
    "\n",
    "> Paste the following Properties in the `Transaction` CLASS\n",
    "\n",
    "    PUBLIC PROPERTY Amount AS DECIMAL AUTO GET\n",
    "    PUBLIC PROPERTY Date AS DateTime AUTO GET\n",
    "    PUBLIC PROPERTY Notes AS STRING AUTO GET\n"
   ]
  },
  {
   "cell_type": "code",
   "execution_count": null,
   "metadata": {
    "dotnet_interactive": {
     "language": "xsharp"
    },
    "polyglot_notebook": {
     "kernelName": "xsharp"
    }
   },
   "outputs": [],
   "source": [
    "CLASS Transaction\n",
    "    // Properties (Paste here!)\n",
    "\n",
    "    // Constructor\n",
    "\n",
    "END CLASS"
   ]
  },
  {
   "cell_type": "markdown",
   "metadata": {},
   "source": [
    "You can notice that these properties are only indicated as `GET` : It means that, except inside the `CONSTRUCTOR`, these properties are *read-only*. "
   ]
  },
  {
   "cell_type": "markdown",
   "metadata": {},
   "source": [
    "## 3: Transaction Constructor\n",
    "\n",
    "Now, let's add a `CONSTRUCTOR` to the class!\n",
    "\n",
    "> Add the following code to the `Transaction` Class.\n",
    "\n",
    "    PUBLIC CONSTRUCTOR( trAmount AS Decimal, trDate AS DateTime, trNote AS String )\n",
    "        SELF:Amount := trAmount\n",
    "        SELF:Date := trDate\n",
    "        SELF:Notes := trNote\n",
    "    END CONSTRUCTOR"
   ]
  },
  {
   "cell_type": "code",
   "execution_count": null,
   "metadata": {
    "dotnet_interactive": {
     "language": "xsharp"
    },
    "polyglot_notebook": {
     "kernelName": "xsharp"
    }
   },
   "outputs": [],
   "source": [
    "CLASS Transaction\n",
    "    // Properties\n",
    "    PUBLIC PROPERTY Amount AS DECIMAL AUTO GET\n",
    "    PUBLIC PROPERTY Date AS DateTime AUTO GET\n",
    "    PUBLIC PROPERTY Notes AS STRING AUTO GET\n",
    "    \n",
    "    // Constructor (Paste here!)\n",
    "\n",
    "END CLASS"
   ]
  },
  {
   "cell_type": "markdown",
   "metadata": {},
   "source": [
    "## 4: Add `Transaction` support\n",
    "\n",
    "Now that we have a transaction class, we will use it in bank account.   \n",
    "First, you need to make a list of transactions.\n",
    "\n",
    "> Copy the following code into the Properties section.\n",
    "\n",
    "    PRIVATE allTransactions := List<Transaction>{} AS List<Transaction>"
   ]
  },
  {
   "cell_type": "code",
   "execution_count": null,
   "metadata": {
    "dotnet_interactive": {
     "language": "xsharp"
    },
    "polyglot_notebook": {
     "kernelName": "xsharp"
    }
   },
   "outputs": [],
   "source": [
    "using System.Collections.Generic\n",
    "\n",
    "CLASS BankAccount\n",
    "    // Properties\n",
    "    PUBLIC PROPERTY Number AS STRING AUTO GET SET\n",
    "    PUBLIC PROPERTY Owner AS STRING AUTO GET SET\n",
    "    PUBLIC PROPERTY Balance AS Decimal AUTO GET\n",
    "    PRIVATE STATIC accountBaseNumber := 1234567890 AS INT\n",
    "    // Paste here\n",
    "        \n",
    "    // Constructor\n",
    "    PUBLIC CONSTRUCTOR( name AS STRING, initialBalance AS DECIMAL )\n",
    "        SELF:Owner := name\n",
    "        SELF:Balance := initialBalance\n",
    "        SELF:Number := accountBaseNumber:ToString()\n",
    "        accountBaseNumber ++\n",
    "    END CONSTRUCTOR\n",
    "    \n",
    "    // Methods\n",
    "    PUBLIC METHOD MakeDeposit( amount AS DECIMAL, depositDate AS DateTime, notes AS STRING ) AS VOID\n",
    "\n",
    "    END METHOD\n",
    "\n",
    "    PUBLIC METHOD MakeWithdrawal( amount AS DECIMAL, withdrawDate AS DateTime, notes AS STRING ) AS VOID\n",
    "\n",
    "    END METHOD\n",
    "END CLASS"
   ]
  },
  {
   "cell_type": "markdown",
   "metadata": {},
   "source": [
    "## 5 : Calculating the `Balance`\n",
    "\n",
    "Now that you have a list of transactions that you can use, you will use it to calculate the Balance.  \n",
    "What you want to do is, whenever someone wants to get Balance, to check the list of transactions and tallies it all up, before returning the answer.   \n",
    "You can do this by attaching some instructions to the `GET` in Balance!\n",
    "\n",
    "    PUBLIC PROPERTY Balance AS Decimal\n",
    "        GET\n",
    "            VAR currentBalance := 0.0M\n",
    "            FOREACH VAR item IN SELF:allTransactions\n",
    "                currentBalance += item:Amount\n",
    "            NEXT\n",
    "            RETURN currentBalance\n",
    "        END GET\n",
    "    END PROPERTY"
   ]
  },
  {
   "cell_type": "code",
   "execution_count": null,
   "metadata": {
    "dotnet_interactive": {
     "language": "xsharp"
    },
    "polyglot_notebook": {
     "kernelName": "xsharp"
    }
   },
   "outputs": [],
   "source": [
    "using System.Collections.Generic\n",
    "\n",
    "CLASS BankAccount\n",
    "    // Properties\n",
    "    PUBLIC PROPERTY Number AS STRING AUTO GET SET\n",
    "    PUBLIC PROPERTY Owner AS STRING AUTO GET SET\n",
    "    PUBLIC PROPERTY Balance AS Decimal AUTO GET     // Replace this line\n",
    "    PRIVATE STATIC accountBaseNumber := 1234567890 AS INT\n",
    "    PRIVATE allTransactions := List<Transaction>{} AS List<Transaction>\n",
    "        \n",
    "    // Constructor\n",
    "    PUBLIC CONSTRUCTOR( name AS STRING, initialBalance AS DECIMAL )\n",
    "        SELF:Owner := name\n",
    "        SELF:Balance := initialBalance\n",
    "        SELF:Number := accountBaseNumber:ToString()\n",
    "        accountBaseNumber ++\n",
    "    END CONSTRUCTOR\n",
    "    \n",
    "    // Methods\n",
    "    PUBLIC METHOD MakeDeposit( amount AS DECIMAL, depositDate AS DateTime, notes AS STRING ) AS VOID\n",
    "\n",
    "    END METHOD\n",
    "\n",
    "    PUBLIC METHOD MakeWithdrawal( amount AS DECIMAL, withdrawDate AS DateTime, notes AS STRING ) AS VOID\n",
    "\n",
    "    END METHOD\n",
    "END CLASS"
   ]
  },
  {
   "cell_type": "markdown",
   "metadata": {},
   "source": [
    "## 6 : Correcting errors\n",
    "If you try to run the previous code-block, you may have noticed an error : The `Balance` cannot be assigned to -- it is read only.  \n",
    "There's a new error you created! Because whenever you're getting Balance, it goes through a process of summing up the list of transactions, you can't just say that Balance is initial balance. You won't fix this entirely in this module, but you can make the code usable for now.\n",
    "\n",
    "Remove the line `SELF:Balance := initialBalance`"
   ]
  },
  {
   "cell_type": "code",
   "execution_count": null,
   "metadata": {
    "dotnet_interactive": {
     "language": "xsharp"
    },
    "polyglot_notebook": {
     "kernelName": "xsharp"
    }
   },
   "outputs": [],
   "source": [
    "using System.Collections.Generic\n",
    "\n",
    "CLASS BankAccount\n",
    "    // Properties\n",
    "    PUBLIC PROPERTY Number AS STRING AUTO GET SET\n",
    "    PUBLIC PROPERTY Owner AS STRING AUTO GET SET\n",
    "    PUBLIC PROPERTY Balance AS Decimal\n",
    "        GET\n",
    "            VAR currentBalance := 0.0M\n",
    "            FOREACH VAR item IN SELF:allTransactions\n",
    "                currentBalance += item:Amount\n",
    "            NEXT\n",
    "            RETURN currentBalance\n",
    "        END GET\n",
    "    END PROPERTY\n",
    "    PRIVATE STATIC accountBaseNumber := 1234567890 AS INT\n",
    "    PRIVATE allTransactions := List<Transaction>{} AS List<Transaction>\n",
    "        \n",
    "    // Constructor\n",
    "    PUBLIC CONSTRUCTOR( name AS STRING, initialBalance AS DECIMAL )\n",
    "        SELF:Owner := name\n",
    "        SELF:Balance := initialBalance  //delete this line\n",
    "        SELF:Number := accountBaseNumber:ToString()\n",
    "        accountBaseNumber ++\n",
    "    END CONSTRUCTOR\n",
    "    \n",
    "    // Methods\n",
    "    PUBLIC METHOD MakeDeposit( amount AS DECIMAL, depositDate AS DateTime, notes AS STRING ) AS VOID\n",
    "\n",
    "    END METHOD\n",
    "\n",
    "    PUBLIC METHOD MakeWithdrawal( amount AS DECIMAL, withdrawDate AS DateTime, notes AS STRING ) AS VOID\n",
    "\n",
    "    END METHOD\n",
    "END CLASS"
   ]
  },
  {
   "cell_type": "markdown",
   "metadata": {},
   "source": [
    "## Review: Where did Initial Balance go?\n",
    "Here's our final code for this module below.  \n",
    "There's a problem though! You no longer have an initial balance and have 0 money! Since we tied up your balance with transactions, we're going to need to be able to make deposits and withdrawals to put money in the bank. We'll see>  that in the next notebook!\n",
    "\n",
    "> Run the code cells below.\n",
    "\n",
    "> Try making your own transaction methods before the next notebook! Where are you getting stuck? What do you need to learn?"
   ]
  },
  {
   "cell_type": "code",
   "execution_count": 13,
   "metadata": {
    "dotnet_interactive": {
     "language": "xsharp"
    },
    "polyglot_notebook": {
     "kernelName": "xsharp"
    }
   },
   "outputs": [
    {
     "data": {
      "text/html": [
       "<div><span><p style=\"color: red\"></p><br /></span></div>"
      ]
     },
     "metadata": {},
     "output_type": "display_data"
    }
   ],
   "source": [
    "CLASS Transaction\n",
    "    // Properties\n",
    "    PUBLIC PROPERTY Amount AS DECIMAL AUTO GET\n",
    "    PUBLIC PROPERTY Date AS DateTime AUTO GET\n",
    "    PUBLIC PROPERTY Notes AS STRING AUTO GET\n",
    "    \n",
    "    // Constructor \n",
    "    PUBLIC CONSTRUCTOR( trAmount AS Decimal, trDate AS DateTime, trNote AS String )\n",
    "        SELF:Amount := trAmount\n",
    "        SELF:Date := trDate\n",
    "        SELF:Notes := trNote\n",
    "    END CONSTRUCTOR\n",
    "\n",
    "END CLASS"
   ]
  },
  {
   "cell_type": "code",
   "execution_count": null,
   "metadata": {
    "dotnet_interactive": {
     "language": "xsharp"
    },
    "polyglot_notebook": {
     "kernelName": "xsharp"
    }
   },
   "outputs": [],
   "source": [
    "using System.Collections.Generic\n",
    "\n",
    "CLASS BankAccount\n",
    "    // Properties\n",
    "    PUBLIC PROPERTY Number AS STRING AUTO GET SET\n",
    "    PUBLIC PROPERTY Owner AS STRING AUTO GET SET\n",
    "    PUBLIC PROPERTY Balance AS Decimal\n",
    "        GET\n",
    "            VAR currentBalance := 0.0M\n",
    "            FOREACH VAR item IN SELF:allTransactions\n",
    "                currentBalance += item:Amount\n",
    "            NEXT\n",
    "            RETURN currentBalance\n",
    "        END GET\n",
    "    END PROPERTY\n",
    "    PRIVATE STATIC accountBaseNumber := 1234567890 AS INT\n",
    "    PRIVATE allTransactions := List<Transaction>{} AS List<Transaction>\n",
    "        \n",
    "    // Constructor\n",
    "    PUBLIC CONSTRUCTOR( name AS STRING, initialBalance AS DECIMAL )\n",
    "        SELF:Owner := name\n",
    "        SELF:Number := accountBaseNumber:ToString()\n",
    "        accountBaseNumber ++\n",
    "    END CONSTRUCTOR\n",
    "    \n",
    "    // Methods\n",
    "    PUBLIC METHOD MakeDeposit( amount AS DECIMAL, depositDate AS DateTime, notes AS STRING ) AS VOID\n",
    "\n",
    "    END METHOD\n",
    "\n",
    "    PUBLIC METHOD MakeWithdrawal( amount AS DECIMAL, withdrawDate AS DateTime, notes AS STRING ) AS VOID\n",
    "\n",
    "    END METHOD\n",
    "END CLASS"
   ]
  }
 ],
 "metadata": {
  "kernelspec": {
   "display_name": ".NET (C#)",
   "language": "C#",
   "name": ".net-csharp"
  },
  "polyglot_notebook": {
   "kernelInfo": {
    "defaultKernelName": "csharp",
    "items": [
     {
      "aliases": [],
      "languageName": "csharp",
      "name": "csharp"
     },
     {
      "aliases": [],
      "languageName": "X#",
      "name": "xsharp"
     }
    ]
   }
  }
 },
 "nbformat": 4,
 "nbformat_minor": 2
}
