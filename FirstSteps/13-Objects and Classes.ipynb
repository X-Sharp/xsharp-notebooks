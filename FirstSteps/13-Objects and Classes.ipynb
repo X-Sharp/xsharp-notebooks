{
 "cells": [
  {
   "cell_type": "markdown",
   "metadata": {},
   "source": [
    "# Load the *XSharp Language kernel*."
   ]
  },
  {
   "cell_type": "code",
   "execution_count": null,
   "metadata": {
    "dotnet_interactive": {
     "language": "csharp"
    },
    "polyglot_notebook": {
     "kernelName": "csharp"
    }
   },
   "outputs": [],
   "source": [
    "// <-= Press on the Arrow to run Me\n",
    "#r \"nuget:XSharpInteractive\""
   ]
  },
  {
   "cell_type": "markdown",
   "metadata": {},
   "source": [
    "# Objects and Classes\n",
    "\n",
    "## Object Oriented Programming\n",
    "Objects are a way to mimic the real world in coding.  \n",
    "\n",
    "If you take the concept of a person, they can have a name, address, height, all of these properties that change from person to person.  \n",
    "Object oriented coding packages that type of information, so that you can easily make a person with all those details.  \n",
    "\n",
    "There are lots of stuff you can do with objects, but for now you can start with the basics."
   ]
  },
  {
   "cell_type": "markdown",
   "metadata": {},
   "source": [
    "In order to create an *Object* in memory, we will need to first create a *model* or a *template* for that *Object* : This is called a **Class**\n",
    "\n",
    "- **Objects**: Objects are instances of classes. They hold the actual data values as well as the ability to perform operations defined by the class.\n",
    "- **Methods**: Methods are functions or actions defined within a class. They define the behavior of objects. They can perform various operations, manipulate data, and interact with other objects. They are usually identified with verbs.\n",
    "- **Properties**: Properties, also known as attributes or fields, are the data members of a class. They store the characteristics or data associated with an object. They are usually identified with nouns."
   ]
  },
  {
   "cell_type": "markdown",
   "metadata": {},
   "source": [
    "In the next few notebooks, you will make create a bank account with these attributes :  \n",
    "> It has a 10-digit number that uniquely identifies the account.  \n",
    "It has a string to store the name of the owner.  \n",
    "You can retrieve the balance. \n",
    "You can do deposits.  \n",
    "You can do withdrawals.  \n",
    "Withdrawals cannot result in a negative balance.\n",
    "The initial balance cannot be negative."
   ]
  },
  {
   "cell_type": "markdown",
   "metadata": {},
   "source": [
    "## 1. Properties\n",
    "You can ***get*** and ***set*** a property value: sometimes you want to only want a user to see a variable but not change it. Other times you want the user to be able to change a variable. \n",
    "***get*** lets you see the variable, ***set*** lets you change it. (right?)\n",
    "\n",
    "> Type the code below into the BankAccount object under //Properties\n",
    "\n",
    "        PUBLIC PROPERTY Number AS STRING AUTO GET SET\n",
    "        PUBLIC PROPERTY Owner AS STRING AUTO GET SET\n",
    "        PUBLIC PROPERTY Balance AS Decimal AUTO GET"
   ]
  },
  {
   "cell_type": "code",
   "execution_count": null,
   "metadata": {
    "dotnet_interactive": {
     "language": "xsharp"
    },
    "polyglot_notebook": {
     "kernelName": "xsharp"
    }
   },
   "outputs": [],
   "source": [
    "CLASS BankAccount\n",
    "    // Properties (paste under here)\n",
    "    PUBLIC PROPERTY Number AS STRING AUTO GET SET\n",
    "    PUBLIC PROPERTY Owner AS STRING AUTO GET SET\n",
    "    PUBLIC PROPERTY Balance AS Decimal AUTO GET\n",
    "        \n",
    "    // Constructor\n",
    "\n",
    "    // Methods\n",
    "\n",
    "END CLASS"
   ]
  },
  {
   "cell_type": "markdown",
   "metadata": {},
   "source": [
    "## 2. Constructor\n",
    "As the name states, a Constructor is what creates a specific instance of an object.  \n",
    "Creating a BankAccount class, like you're doing now, is like making a template for all bank accounts. It's not a specific account.  \n",
    "The constructor is what will make a singular account, with all the actual details. You give the constructor all the details you want for a specific account, and it assigns the details to the new object's properties.\n",
    "\n",
    "`SELF` is a styling choice. It makes explicit that the property `Owner` is the variable of *that* specific *instance*.  \n",
    "In the future, you'll have several instances to interact, and this will become a bit more explicit. You can also write `Owner` instead of `SELF:Owner` if you want! `SELF` indicates that the context of assignation is the object we are currently manipulating.\n",
    "\n",
    "As with Functions, a Constructor can receive parameters.  \n",
    "We are receiving the variables `name` and `initialBalance` and are initializing a bank account object with these values.\n",
    "\n",
    "> Type the constructor code into the BankAccount below, under //Constructor\n",
    "\n",
    "    PUBLIC CONSTRUCTOR( name AS STRING, initialBalance AS DECIMAL )\n",
    "        SELF:Owner := name\n",
    "        SELF:Balance := initialBalance\n",
    "    END CONSTRUCTOR"
   ]
  },
  {
   "cell_type": "code",
   "execution_count": null,
   "metadata": {
    "dotnet_interactive": {
     "language": "xsharp"
    },
    "polyglot_notebook": {
     "kernelName": "xsharp"
    }
   },
   "outputs": [],
   "source": [
    "CLASS BankAccount\n",
    "    // Properties \n",
    "    PUBLIC PROPERTY Number AS STRING AUTO GET SET\n",
    "    PUBLIC PROPERTY Owner AS STRING AUTO GET SET\n",
    "    PUBLIC PROPERTY Balance AS Decimal AUTO GET\n",
    "        \n",
    "    // Constructor (paste here)\n",
    "    PUBLIC CONSTRUCTOR( name AS STRING, initialBalance AS DECIMAL )\n",
    "        SELF:Owner := name\n",
    "        SELF:Balance := initialBalance\n",
    "    END CONSTRUCTOR\n",
    "    \n",
    "    // Methods\n",
    "\n",
    "END CLASS"
   ]
  }
 ],
 "metadata": {
  "kernelspec": {
   "display_name": ".NET (C#)",
   "language": "C#",
   "name": ".net-csharp"
  },
  "polyglot_notebook": {
   "kernelInfo": {
    "defaultKernelName": "csharp",
    "items": [
     {
      "aliases": [],
      "languageName": "csharp",
      "name": "csharp"
     },
     {
      "aliases": [],
      "languageName": "X#",
      "name": "xsharp"
     }
    ]
   }
  }
 },
 "nbformat": 4,
 "nbformat_minor": 2
}
