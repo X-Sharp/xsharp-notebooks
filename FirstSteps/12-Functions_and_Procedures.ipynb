{
 "cells": [
  {
   "cell_type": "markdown",
   "metadata": {},
   "source": [
    "# Load the *XSharp Language kernel*."
   ]
  },
  {
   "cell_type": "code",
   "execution_count": null,
   "metadata": {
    "dotnet_interactive": {
     "language": "csharp"
    },
    "polyglot_notebook": {
     "kernelName": "csharp"
    }
   },
   "outputs": [],
   "source": [
    "// <-= Press on the Arrow to run Me\n",
    "#r \"nuget:XSharpInteractive\""
   ]
  },
  {
   "cell_type": "markdown",
   "metadata": {},
   "source": [
    "# Functions and Procedures\n",
    "Functions and Procedures are blocks of code, but they have different characteristics:  \n",
    "- **Function**: It encapsulates a sequence of instructions carrying out specific processing independent of the rest of the program. A function can be reused in the same program or in another. It returns the result of the process.  \n",
    "- **Procedure**: It accomplishes a specific task, but does not return a value.\n",
    "\n",
    "> Try the following code"
   ]
  },
  {
   "cell_type": "code",
   "execution_count": null,
   "metadata": {
    "dotnet_interactive": {
     "language": "xsharp"
    },
    "polyglot_notebook": {
     "kernelName": "xsharp"
    }
   },
   "outputs": [],
   "source": [
    "PROCEDURE PrintHello()\n",
    "    ? \"Hello XSharp!\"\n",
    "END PROCEDURE\n",
    "\n",
    "PrintHello()\n",
    "PrintHello()"
   ]
  },
  {
   "cell_type": "markdown",
   "metadata": {},
   "source": [
    "What have done there ?\n",
    "- `PROCEDURE` indicates the start of the block\n",
    "- `PrintHello` gives a name to the block, used when you want to call it.\n",
    "- `END PROCEDURE` mark the end of the block\n",
    "\n",
    "Then we call the block twice, so it executes two times."
   ]
  },
  {
   "cell_type": "markdown",
   "metadata": {},
   "source": [
    "### Parameters\n",
    "Functions or Procedures can receive parameters. Parameters are variables that are specified within the parentheses of a function definition. They represent the data that a function/procedure expects to receive when it is called. Parameters allow you to pass values into a function/procedure so that the function can perform its task using those values.\n",
    "\n",
    "> Try the code below"
   ]
  },
  {
   "cell_type": "code",
   "execution_count": null,
   "metadata": {
    "dotnet_interactive": {
     "language": "xsharp"
    },
    "polyglot_notebook": {
     "kernelName": "xsharp"
    }
   },
   "outputs": [],
   "source": [
    "PROCEDURE PrintHello( sayHello AS STRING )\n",
    "    ? i\"Hello {sayHello}\"\n",
    "END PROCEDURE\n",
    "\n",
    "PrintHello(\"Fabrice\")\n",
    "PrintHello(\"Chris\")"
   ]
  },
  {
   "cell_type": "markdown",
   "metadata": {},
   "source": [
    "### Function\n",
    "When writing a Function, you will have to specify the type of the result, and use the RETURN keyword to indicate what value you want to return.\n",
    "\n",
    "> Try this code"
   ]
  },
  {
   "cell_type": "code",
   "execution_count": null,
   "metadata": {
    "dotnet_interactive": {
     "language": "xsharp"
    },
    "polyglot_notebook": {
     "kernelName": "xsharp"
    }
   },
   "outputs": [],
   "source": [
    "FUNCTION AddTen( parameter AS int ) AS INT\n",
    "    parameter := parameter + 10\n",
    "    RETURN parameter\n",
    "END FUNCTION\n",
    "\n",
    "VAR x := 15\n",
    "? AddTen( x )\n",
    "? x\n",
    "x := AddTen( x )\n",
    "? x"
   ]
  },
  {
   "cell_type": "markdown",
   "metadata": {},
   "source": [
    "Notice that when passing a parameter, it is passed by value. It means here that the value of `X` is duplicated and copied into `parameter`. That's why, after the first call, the value of x has not changed. "
   ]
  },
  {
   "cell_type": "markdown",
   "metadata": {},
   "source": [
    "Finally, when you have several Functions or Procedures, the `END` marker is not mandatory.  \n",
    "Then first block will end when the next one starts, but it's a good practice to always put the `END` marker. "
   ]
  },
  {
   "cell_type": "code",
   "execution_count": null,
   "metadata": {
    "dotnet_interactive": {
     "language": "xsharp"
    },
    "polyglot_notebook": {
     "kernelName": "xsharp"
    }
   },
   "outputs": [],
   "source": [
    "FUNCTION AddTen( parameter AS int ) AS INT\n",
    "    parameter := parameter + 10\n",
    "    RETURN parameter\n",
    "\n",
    "PROCEDURE PrintHello( sayHello AS STRING )\n",
    "    ? i\"Hello {sayHello}\"\n",
    "END PROCEDURE\n",
    "\n",
    "PrintHello(\"Nikos\")"
   ]
  },
  {
   "cell_type": "markdown",
   "metadata": {},
   "source": [
    "# Sandbox\n",
    "\n",
    "> Create a Function that add a VAT rate to a price, both values passed as parameter, and return the result.\n",
    "> Get the result and print it.\n",
    "> Create a list of prices, then call the function for each price, and the total of all prices with VAT, then print the grand total."
   ]
  },
  {
   "cell_type": "code",
   "execution_count": null,
   "metadata": {
    "dotnet_interactive": {
     "language": "xsharp"
    },
    "polyglot_notebook": {
     "kernelName": "xsharp"
    }
   },
   "outputs": [],
   "source": [
    "? \"Sandbox\""
   ]
  }
 ],
 "metadata": {
  "kernelspec": {
   "display_name": ".NET (C#)",
   "language": "C#",
   "name": ".net-csharp"
  },
  "polyglot_notebook": {
   "kernelInfo": {
    "defaultKernelName": "csharp",
    "items": [
     {
      "aliases": [],
      "languageName": "csharp",
      "name": "csharp"
     },
     {
      "aliases": [],
      "languageName": "X#",
      "name": "xsharp"
     }
    ]
   }
  }
 },
 "nbformat": 4,
 "nbformat_minor": 2
}
