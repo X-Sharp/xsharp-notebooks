{
 "cells": [
  {
   "cell_type": "markdown",
   "metadata": {},
   "source": [
    "# Load the *XSharp Language kernel*."
   ]
  },
  {
   "cell_type": "code",
   "execution_count": null,
   "metadata": {
    "dotnet_interactive": {
     "language": "csharp"
    },
    "polyglot_notebook": {
     "kernelName": "csharp"
    }
   },
   "outputs": [],
   "source": [
    "// <-= Press on the Arrow to run Me\n",
    "#r \"nuget:XSharpInteractive,1.0.0\""
   ]
  },
  {
   "cell_type": "markdown",
   "metadata": {},
   "source": [
    "# Fibonacci\n",
    "In mathematics, the Fibonacci sequence is a sequence in which each number is the sum of the two preceding ones.  \n",
    "You start with 1 and 1 :  \n",
    "1 + 1 = 2 (1, 1, 2) 1 + 2 = 3 (1, 1, 2, 3) 2 + 3 = 5 (1, 1, 2, 3, 5) 3 + 5 = 8 (1, 1, 2, 3, 5, 8) and so on.  \n",
    "There are lots of stuff in nature that follow this number sequence, and has lots of cool stuff if you want to look it up!\n",
    "\n",
    "> Start with the base numbers: Here's a list with just 1, 1 in it.  \n",
    "Run it and see what happens."
   ]
  },
  {
   "cell_type": "code",
   "execution_count": null,
   "metadata": {
    "dotnet_interactive": {
     "language": "xsharp"
    },
    "polyglot_notebook": {
     "kernelName": "xsharp"
    }
   },
   "outputs": [],
   "source": [
    "using System.Collections.Generic\n",
    "\n",
    "var fibonacciNumbers := List<int>{}\n",
    "fibonacciNumbers:Add(1)\n",
    "fibonacciNumbers:Add(1)\n",
    "\n",
    "foreach var item in fibonacciNumbers\n",
    "    ? item\n",
    "next"
   ]
  },
  {
   "cell_type": "markdown",
   "metadata": {},
   "source": [
    "Ok, but we don't want just 1,1 in it!  \n",
    "In this code, you're using the last two numbers of the list, adding them together to make the next number, then adding it to the list.\n",
    "\n",
    "> Run the code to try it out."
   ]
  },
  {
   "cell_type": "code",
   "execution_count": null,
   "metadata": {
    "dotnet_interactive": {
     "language": "xsharp"
    },
    "polyglot_notebook": {
     "kernelName": "xsharp"
    }
   },
   "outputs": [],
   "source": [
    "using System.Collections.Generic\n",
    "\n",
    "var fibonacciNumbers := List<int>{}\n",
    "fibonacciNumbers:Add(1)\n",
    "fibonacciNumbers:Add(1)\n",
    "\n",
    "var lastOne := fibonacciNumbers[fibonacciNumbers:Count - 1]         // Take the last number in the list\n",
    "var beforeLastOne := fibonacciNumbers[fibonacciNumbers:Count - 2]   // Take the second to last number in the list\n",
    "\n",
    "fibonacciNumbers:Add(lastOne + beforeLastOne)   // Add the previous numbers together, and attach the sum to the end of the list\n",
    "\n",
    "foreach var item in fibonacciNumbers\n",
    "    ? item\n",
    "next"
   ]
  },
  {
   "cell_type": "markdown",
   "metadata": {},
   "source": [
    "### Count -1\n",
    "Remember what we have seen the [09-Array, Lists and Collections](09-Array,%20Lists%20and%20Collections.ipynb) Notebook :  \n",
    "Count tells you how many items are in a list.  \n",
    "But, as List is a Dotnet Type, the index of an item starts at zero. So, if you only had one item in your list, the count would be one, but the index of the item would be 0. The index and count of the last item is always one off."
   ]
  },
  {
   "cell_type": "markdown",
   "metadata": {},
   "source": [
    "## Challenge: Fibonacci to 20th number\n",
    "We've given you a base of code that deals with Fibonacci. Can you make a list that has the first 20 fibonacci numbers?\n",
    "\n",
    "> Make and print a list that has the first 20 fibonacci numbers."
   ]
  },
  {
   "cell_type": "code",
   "execution_count": null,
   "metadata": {
    "dotnet_interactive": {
     "language": "xsharp"
    },
    "polyglot_notebook": {
     "kernelName": "xsharp"
    }
   },
   "outputs": [],
   "source": [
    "? \"Challenge\""
   ]
  },
  {
   "cell_type": "markdown",
   "metadata": {},
   "source": [
    "## Tips and tricks\n",
    "The final number should be 6765.  \n",
    "\n",
    "Could you make a for loop? A foreach loop? A while loop?  \n",
    "Which kind of loop do you prefer and which would be more useful?\n",
    "\n",
    "Are you getting close, but are you one number off? That's a really common issue! Remember that > and >= are similar, but they end up being one off from the other. Try playing around with that?  \n",
    "\n",
    "Remember that you're starting with two items in the list already.\n"
   ]
  }
 ],
 "metadata": {
  "kernelspec": {
   "display_name": ".NET (C#)",
   "language": "C#",
   "name": ".net-csharp"
  },
  "polyglot_notebook": {
   "kernelInfo": {
    "defaultKernelName": "csharp",
    "items": [
     {
      "aliases": [],
      "languageName": "csharp",
      "name": "csharp"
     },
     {
      "aliases": [],
      "languageName": "X#",
      "name": "xsharp"
     }
    ]
   }
  }
 },
 "nbformat": 4,
 "nbformat_minor": 2
}
