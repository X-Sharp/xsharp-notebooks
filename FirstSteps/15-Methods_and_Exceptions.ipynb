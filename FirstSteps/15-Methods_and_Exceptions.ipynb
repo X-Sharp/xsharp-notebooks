{
 "cells": [
  {
   "cell_type": "markdown",
   "metadata": {},
   "source": [
    "# Load the *XSharp Language kernel*."
   ]
  },
  {
   "cell_type": "code",
   "execution_count": 1,
   "metadata": {
    "dotnet_interactive": {
     "language": "csharp"
    },
    "polyglot_notebook": {
     "kernelName": "csharp"
    }
   },
   "outputs": [],
   "source": [
    "// <-= Press on the Arrow to run Me\n",
    "#r \"nuget:XSharpInteractive\""
   ]
  },
  {
   "cell_type": "markdown",
   "metadata": {},
   "source": [
    "# Methods and Exceptions\n",
    "\n",
    "Here's our bank account: It doesn't do much for the moment, but displays its owner and balance.   \n",
    "\n",
    "We're also going to work on a Transaction class, which has been added for you.\n",
    "\n",
    "> Execute each piece of code and see what is displayed. This is what we ended with last time."
   ]
  },
  {
   "cell_type": "code",
   "execution_count": 2,
   "metadata": {
    "dotnet_interactive": {
     "language": "xsharp"
    },
    "polyglot_notebook": {
     "kernelName": "xsharp"
    }
   },
   "outputs": [],
   "source": [
    "CLASS Transaction\n",
    "    // Properties\n",
    "    PUBLIC PROPERTY Amount AS DECIMAL AUTO GET\n",
    "    PUBLIC PROPERTY Date AS DateTime AUTO GET\n",
    "    PUBLIC PROPERTY Notes AS STRING AUTO GET\n",
    "    \n",
    "    // Constructor \n",
    "    PUBLIC CONSTRUCTOR( trAmount AS Decimal, trDate AS DateTime, trNote AS String )\n",
    "        SELF:Amount := trAmount\n",
    "        SELF:Date := trDate\n",
    "        SELF:Notes := trNote\n",
    "    END CONSTRUCTOR\n",
    "\n",
    "END CLASS"
   ]
  },
  {
   "cell_type": "code",
   "execution_count": null,
   "metadata": {
    "dotnet_interactive": {
     "language": "xsharp"
    },
    "polyglot_notebook": {
     "kernelName": "xsharp"
    }
   },
   "outputs": [],
   "source": [
    "using System.Collections.Generic\n",
    "\n",
    "CLASS BankAccount\n",
    "    // Properties\n",
    "    PUBLIC PROPERTY Number AS STRING AUTO GET SET\n",
    "    PUBLIC PROPERTY Owner AS STRING AUTO GET SET\n",
    "    PUBLIC PROPERTY Balance AS Decimal\n",
    "        GET\n",
    "            VAR currentBalance := 0.0M\n",
    "            FOREACH VAR item IN SELF:allTransactions\n",
    "                currentBalance += item:Amount\n",
    "            NEXT\n",
    "            RETURN currentBalance\n",
    "        END GET\n",
    "    END PROPERTY\n",
    "    PRIVATE STATIC accountBaseNumber := 1234567890 AS INT\n",
    "    PRIVATE allTransactions := List<Transaction>{} AS List<Transaction>\n",
    "        \n",
    "    // Constructor\n",
    "    PUBLIC CONSTRUCTOR( name AS STRING, initialBalance AS DECIMAL )\n",
    "        SELF:Owner := name\n",
    "        SELF:Number := accountBaseNumber:ToString()\n",
    "        accountBaseNumber ++\n",
    "    END CONSTRUCTOR\n",
    "    \n",
    "    // Methods\n",
    "    PUBLIC METHOD MakeDeposit( amount AS DECIMAL, depositDate AS DateTime, notes AS STRING ) AS VOID\n",
    "\n",
    "    END METHOD\n",
    "\n",
    "    PUBLIC METHOD MakeWithdrawal( amount AS DECIMAL, withdrawDate AS DateTime, notes AS STRING ) AS VOID\n",
    "\n",
    "    END METHOD\n",
    "END CLASS"
   ]
  },
  {
   "cell_type": "code",
   "execution_count": null,
   "metadata": {
    "dotnet_interactive": {
     "language": "xsharp"
    },
    "polyglot_notebook": {
     "kernelName": "xsharp"
    }
   },
   "outputs": [],
   "source": [
    "var account := BankAccount{ \"Bruce\", 1000 }\n",
    "? i\"The account number [{account:Number}] belongs to {account:Owner}\"\n",
    "? i\"It has been created with {account:Balance} Euros.\""
   ]
  },
  {
   "cell_type": "markdown",
   "metadata": {},
   "source": [
    "## 1 : Adding deposits\n",
    "First things first, it is time to make a deposit method.  \n",
    "This addition will make a transaction with the amount, date, and a note that you're depositing, and then adds it to the transaction list.\n",
    "\n",
    "> Add this code inside `MakeDeposit`.\n",
    "\n",
    "    var deposit := Transaction{ amount, depositDate, notes }\n",
    "    allTransactions:Add(deposit)"
   ]
  },
  {
   "cell_type": "code",
   "execution_count": null,
   "metadata": {
    "dotnet_interactive": {
     "language": "xsharp"
    },
    "polyglot_notebook": {
     "kernelName": "xsharp"
    }
   },
   "outputs": [],
   "source": [
    "using System.Collections.Generic\n",
    "\n",
    "CLASS BankAccount\n",
    "    // Properties\n",
    "    PUBLIC PROPERTY Number AS STRING AUTO GET SET\n",
    "    PUBLIC PROPERTY Owner AS STRING AUTO GET SET\n",
    "    PUBLIC PROPERTY Balance AS Decimal\n",
    "        GET\n",
    "            VAR currentBalance := 0.0M\n",
    "            FOREACH VAR item IN SELF:allTransactions\n",
    "                currentBalance += item:Amount\n",
    "            NEXT\n",
    "            RETURN currentBalance\n",
    "        END GET\n",
    "    END PROPERTY\n",
    "    PRIVATE STATIC accountBaseNumber := 1234567890 AS INT\n",
    "    PRIVATE allTransactions := List<Transaction>{} AS List<Transaction>\n",
    "        \n",
    "    // Constructor\n",
    "    PUBLIC CONSTRUCTOR( name AS STRING, initialBalance AS DECIMAL )\n",
    "        SELF:Owner := name\n",
    "        SELF:Number := accountBaseNumber:ToString()\n",
    "        accountBaseNumber ++\n",
    "    END CONSTRUCTOR\n",
    "    \n",
    "    // Methods\n",
    "    PUBLIC METHOD MakeDeposit( amount AS DECIMAL, depositDate AS DateTime, notes AS STRING ) AS VOID\n",
    "        // Add code here\n",
    "    END METHOD\n",
    "\n",
    "    PUBLIC METHOD MakeWithdrawal( amount AS DECIMAL, withdrawDate AS DateTime, notes AS STRING ) AS VOID\n",
    "\n",
    "    END METHOD\n",
    "END CLASS"
   ]
  },
  {
   "cell_type": "markdown",
   "metadata": {},
   "source": [
    "## 2 : Exceptions\n",
    "\n",
    "> The X# language's exception handling features help you deal with any unexpected or exceptional situations that occur when a program is running.  \n",
    "In many cases, an exception may be thrown not by a method that your code has called directly, but by another method further down in the call stack, maybe somewhere in a part of an external code that you are not using correctly, that did not receive the right information for its process.  \n",
    "But, as you are providing some code to manage a BankAccount and its Transactions, your code can throw some exceptions when something goes wrong.\n",
    "\n",
    "So, what if someone tries to deposit negative money?  \n",
    "It doesn't make sense, but currently the method allows for that : What you can do is throwing an exception.  \n",
    "Before doing anything, you check that the amount deposited is more than 0. If it is, great, the code moves on to adding the transaction. If not, the code throws an exception, where it stops the code and prints out the issue.\n",
    "\n",
    "> Place this code in the very beginning of the `MakeDeposit` method.\n",
    "\n",
    "    IF (amount <= 0)\n",
    "        THROW ArgumentOutOfRangeException{ nameof(amount), \"Amount of deposit must be positive\" }\n",
    "    ENDIF "
   ]
  },
  {
   "cell_type": "code",
   "execution_count": null,
   "metadata": {
    "dotnet_interactive": {
     "language": "xsharp"
    },
    "polyglot_notebook": {
     "kernelName": "xsharp"
    }
   },
   "outputs": [],
   "source": [
    "using System.Collections.Generic\n",
    "\n",
    "CLASS BankAccount\n",
    "    // Properties\n",
    "    PUBLIC PROPERTY Number AS STRING AUTO GET SET\n",
    "    PUBLIC PROPERTY Owner AS STRING AUTO GET SET\n",
    "    PUBLIC PROPERTY Balance AS Decimal\n",
    "        GET\n",
    "            VAR currentBalance := 0.0M\n",
    "            FOREACH VAR item IN SELF:allTransactions\n",
    "                currentBalance += item:Amount\n",
    "            NEXT\n",
    "            RETURN currentBalance\n",
    "        END GET\n",
    "    END PROPERTY\n",
    "    PRIVATE STATIC accountBaseNumber := 1234567890 AS INT\n",
    "    PRIVATE allTransactions := List<Transaction>{} AS List<Transaction>\n",
    "        \n",
    "    // Constructor\n",
    "    PUBLIC CONSTRUCTOR( name AS STRING, initialBalance AS DECIMAL )\n",
    "        SELF:Owner := name\n",
    "        SELF:Number := accountBaseNumber:ToString()\n",
    "        accountBaseNumber ++\n",
    "    END CONSTRUCTOR\n",
    "    \n",
    "    // Methods\n",
    "    PUBLIC METHOD MakeDeposit( amount AS DECIMAL, depositDate AS DateTime, notes AS STRING ) AS VOID\n",
    "        // Add code here\n",
    "\n",
    "        var deposit := Transaction{ amount, depositDate, notes }\n",
    "        allTransactions:Add(deposit)\n",
    "    END METHOD\n",
    "\n",
    "    PUBLIC METHOD MakeWithdrawal( amount AS DECIMAL, withdrawDate AS DateTime, notes AS STRING ) AS VOID\n",
    "\n",
    "    END METHOD\n",
    "END CLASS"
   ]
  },
  {
   "cell_type": "markdown",
   "metadata": {},
   "source": [
    "### 2.1 But what happens after throwing an `Exception` ?\n",
    "\n",
    "If you did **not** provide some code to handle the `Exception`, the .NET Runtime will get it and show an Error message with the text of the Exception.  \n",
    "\n",
    "But you can also prepare that situation in your code.  \n",
    "To do so, you will create this kind of architecture :  \n",
    "\n",
    "    TRY \n",
    "        // Do stuff\n",
    "    CATCH e AS Exception \n",
    "        // Provide some code to handle the error\n",
    "        // It can be a Message Window, a logging system, or some default action to ignore the Error\n",
    "    FINALLY \n",
    "        // Clean up\n",
    "    END TRY\n",
    "\n",
    "Please note that the `FINALLY` block is not mandatory, but can be usefull as it execute in all situations : With or Without an Exception.\n",
    "\n",
    "*At the end of this serie of Notebooks, you will have the opportunity to create your full X# application based on our/your code. That construction might be helpfull in several points.*\n",
    "    "
   ]
  },
  {
   "cell_type": "markdown",
   "metadata": {},
   "source": [
    "# 3: Add Withdrawal\n",
    "Now, we will add some code to allow Withdrawal.\n",
    "\n",
    "> Add this code to MakeWithdrawal.\n",
    "\n",
    "    IF (amount <= 0)\n",
    "        THROW ArgumentOutOfRangeException{ nameof(amount), \"Amount of withdrawal must be positive\" }\n",
    "    ENDIF\n",
    "    IF (Balance - amount < 0)\n",
    "        THROW InvalidOperationException{ \"Not sufficient funds for this withdrawal\" }\n",
    "    ENDIF\n",
    "    var withdrawal = Transaction{-amount, withdrawDate, notes}\n",
    "    allTransactions:Add(withdrawal)"
   ]
  },
  {
   "cell_type": "code",
   "execution_count": null,
   "metadata": {
    "dotnet_interactive": {
     "language": "xsharp"
    },
    "polyglot_notebook": {
     "kernelName": "xsharp"
    }
   },
   "outputs": [],
   "source": [
    "using System.Collections.Generic\n",
    "\n",
    "CLASS BankAccount\n",
    "    // Properties\n",
    "    PUBLIC PROPERTY Number AS STRING AUTO GET SET\n",
    "    PUBLIC PROPERTY Owner AS STRING AUTO GET SET\n",
    "    PUBLIC PROPERTY Balance AS Decimal\n",
    "        GET\n",
    "            VAR currentBalance := 0.0M\n",
    "            FOREACH VAR item IN SELF:allTransactions\n",
    "                currentBalance += item:Amount\n",
    "            NEXT\n",
    "            RETURN currentBalance\n",
    "        END GET\n",
    "    END PROPERTY\n",
    "    PRIVATE STATIC accountBaseNumber := 1234567890 AS INT\n",
    "    PRIVATE allTransactions := List<Transaction>{} AS List<Transaction>\n",
    "        \n",
    "    // Constructor\n",
    "    PUBLIC CONSTRUCTOR( name AS STRING, initialBalance AS DECIMAL )\n",
    "        SELF:Owner := name\n",
    "        SELF:Number := accountBaseNumber:ToString()\n",
    "        accountBaseNumber ++\n",
    "    END CONSTRUCTOR\n",
    "    \n",
    "    // Methods\n",
    "    PUBLIC METHOD MakeDeposit( amount AS DECIMAL, depositDate AS DateTime, notes AS STRING ) AS VOID\n",
    "        // \n",
    "        IF (amount <= 0)\n",
    "            THROW ArgumentOutOfRangeException{ nameof(amount), \"Amount of deposit must be positive\" }\n",
    "        ENDIF \n",
    "        var deposit := Transaction{ amount, depositDate, notes }\n",
    "        allTransactions:Add(deposit)\n",
    "    END METHOD\n",
    "\n",
    "    PUBLIC METHOD MakeWithdrawal( amount AS DECIMAL, withdrawDate AS DateTime, notes AS STRING ) AS VOID\n",
    "        // Add code below\n",
    "        \n",
    "    END METHOD\n",
    "END CLASS"
   ]
  },
  {
   "cell_type": "markdown",
   "metadata": {},
   "source": [
    "# 4: Creating initial deposit\n",
    "Now that you can do deposits and withdrawals, you can finally make an initial deposit again.  \n",
    "\n",
    "What you'll do is create a deposit of the initial amount when you're first constructing the bank account.\n",
    "\n",
    "> Add this code to the BankAccount constructor.\n",
    "\n",
    "    SELF:MakeDeposit(initialBalance, DateTime.Now, \"Initial balance\")"
   ]
  },
  {
   "cell_type": "code",
   "execution_count": null,
   "metadata": {
    "dotnet_interactive": {
     "language": "xsharp"
    },
    "polyglot_notebook": {
     "kernelName": "xsharp"
    }
   },
   "outputs": [],
   "source": [
    "using System.Collections.Generic\n",
    "\n",
    "CLASS BankAccount\n",
    "    // Properties\n",
    "    PUBLIC PROPERTY Number AS STRING AUTO GET SET\n",
    "    PUBLIC PROPERTY Owner AS STRING AUTO GET SET\n",
    "    PUBLIC PROPERTY Balance AS Decimal\n",
    "        GET\n",
    "            VAR currentBalance := 0.0M\n",
    "            FOREACH VAR item IN SELF:allTransactions\n",
    "                currentBalance += item:Amount\n",
    "            NEXT\n",
    "            RETURN currentBalance\n",
    "        END GET\n",
    "    END PROPERTY\n",
    "    PRIVATE STATIC accountBaseNumber := 1234567890 AS INT\n",
    "    PRIVATE allTransactions := List<Transaction>{} AS List<Transaction>\n",
    "        \n",
    "    // Constructor\n",
    "    PUBLIC CONSTRUCTOR( name AS STRING, initialBalance AS DECIMAL )\n",
    "        SELF:Owner := name\n",
    "        SELF:Number := accountBaseNumber:ToString()\n",
    "        accountBaseNumber ++\n",
    "        // Add initial deposit code here\n",
    "        \n",
    "    END CONSTRUCTOR\n",
    "    \n",
    "    // Methods\n",
    "    PUBLIC METHOD MakeDeposit( amount AS DECIMAL, depositDate AS DateTime, notes AS STRING ) AS VOID\n",
    "        // \n",
    "        IF (amount <= 0)\n",
    "            THROW ArgumentOutOfRangeException{ nameof(amount), \"Amount of deposit must be positive\" }\n",
    "        ENDIF \n",
    "        var deposit := Transaction{ amount, depositDate, notes }\n",
    "        allTransactions:Add(deposit)\n",
    "    END METHOD\n",
    "\n",
    "    PUBLIC METHOD MakeWithdrawal( amount AS DECIMAL, withdrawDate AS DateTime, notes AS STRING ) AS VOID\n",
    "        // \n",
    "        IF (amount <= 0)\n",
    "            THROW ArgumentOutOfRangeException{ nameof(amount), \"Amount of withdrawal must be positive\" }\n",
    "        ENDIF\n",
    "        IF (Balance - amount < 0)\n",
    "            THROW InvalidOperationException{ \"Not sufficient funds for this withdrawal\" }\n",
    "        ENDIF\n",
    "        var withdrawal = Transaction{-amount, withdrawDate, notes}\n",
    "        allTransactions:Add(withdrawal)\n",
    "    END METHOD\n",
    "END CLASS"
   ]
  },
  {
   "cell_type": "markdown",
   "metadata": {},
   "source": [
    "# Create and test the Application\n",
    "\n",
    "You will find the whole code in the block below.\n",
    "Then, we have added some lines in the test code, because you can now make deposits and withdrawals. Test it out!\n",
    "\n",
    "> Run the following cells, including the new stuff in the test code.\n",
    "> Make your own deposit and withdrawal. "
   ]
  },
  {
   "cell_type": "code",
   "execution_count": 9,
   "metadata": {
    "dotnet_interactive": {
     "language": "xsharp"
    },
    "polyglot_notebook": {
     "kernelName": "xsharp"
    }
   },
   "outputs": [],
   "source": [
    "CLASS Transaction\n",
    "    // Properties\n",
    "    PUBLIC PROPERTY Amount AS DECIMAL AUTO GET\n",
    "    PUBLIC PROPERTY Date AS DateTime AUTO GET\n",
    "    PUBLIC PROPERTY Notes AS STRING AUTO GET\n",
    "    \n",
    "    // Constructor \n",
    "    PUBLIC CONSTRUCTOR( trAmount AS Decimal, trDate AS DateTime, trNote AS String )\n",
    "        SELF:Amount := trAmount\n",
    "        SELF:Date := trDate\n",
    "        SELF:Notes := trNote\n",
    "    END CONSTRUCTOR\n",
    "\n",
    "END CLASS\n",
    "\n",
    "using System.Collections.Generic\n",
    "\n",
    "CLASS BankAccount\n",
    "    // Properties\n",
    "    PUBLIC PROPERTY Number AS STRING AUTO GET SET\n",
    "    PUBLIC PROPERTY Owner AS STRING AUTO GET SET\n",
    "    PUBLIC PROPERTY Balance AS Decimal\n",
    "        GET\n",
    "            VAR currentBalance := 0.0M\n",
    "            FOREACH VAR item IN SELF:allTransactions\n",
    "                currentBalance += item:Amount\n",
    "            NEXT\n",
    "            RETURN currentBalance\n",
    "        END GET\n",
    "    END PROPERTY\n",
    "    PRIVATE STATIC accountBaseNumber := 1234567890 AS INT\n",
    "    PRIVATE allTransactions := List<Transaction>{} AS List<Transaction>\n",
    "        \n",
    "    // Constructor\n",
    "    PUBLIC CONSTRUCTOR( name AS STRING, initialBalance AS DECIMAL )\n",
    "        SELF:Owner := name\n",
    "        SELF:Number := accountBaseNumber:ToString()\n",
    "        accountBaseNumber ++\n",
    "        // \n",
    "        SELF:MakeDeposit(initialBalance, DateTime.Now, \"Initial balance\")\n",
    "    END CONSTRUCTOR\n",
    "    \n",
    "    // Methods\n",
    "    PUBLIC METHOD MakeDeposit( amount AS DECIMAL, depositDate AS DateTime, notes AS STRING ) AS VOID\n",
    "        // \n",
    "        IF (amount <= 0)\n",
    "            THROW ArgumentOutOfRangeException{ nameof(amount), \"Amount of deposit must be positive\" }\n",
    "        ENDIF \n",
    "        var deposit := Transaction{ amount, depositDate, notes }\n",
    "        allTransactions:Add(deposit)\n",
    "    END METHOD\n",
    "\n",
    "    PUBLIC METHOD MakeWithdrawal( amount AS DECIMAL, withdrawDate AS DateTime, notes AS STRING ) AS VOID\n",
    "        // \n",
    "        IF (amount <= 0)\n",
    "            THROW ArgumentOutOfRangeException{ nameof(amount), \"Amount of withdrawal must be positive\" }\n",
    "        ENDIF\n",
    "        IF (Balance - amount < 0)\n",
    "            THROW InvalidOperationException{ \"Not sufficient funds for this withdrawal\" }\n",
    "        ENDIF\n",
    "        var withdrawal = Transaction{-amount, withdrawDate, notes}\n",
    "        allTransactions:Add(withdrawal)\n",
    "    END METHOD\n",
    "END CLASS"
   ]
  },
  {
   "cell_type": "code",
   "execution_count": 11,
   "metadata": {
    "dotnet_interactive": {
     "language": "xsharp"
    },
    "polyglot_notebook": {
     "kernelName": "xsharp"
    }
   },
   "outputs": [],
   "source": [
    "var account := BankAccount{ \"Bruce\", 1000 }\n",
    "? i\"The account number [{account:Number}] belongs to {account:Owner}\"\n",
    "? i\"It has been created with {account:Balance} Euros.\"\n",
    "\n",
    "account:MakeWithdrawal(500, DateTime.Now, \"Batcave Rent payment\")\n",
    "? i\"New Balance : {account:Balance} €.\"\n",
    "\n",
    "account:MakeDeposit(100, DateTime.Now, \"Peter Parker paid me back\")\n",
    "? i\"New Balance : {account:Balance} €.\""
   ]
  },
  {
   "cell_type": "markdown",
   "metadata": {},
   "source": [
    "# Review\n",
    "\n",
    "You did it! You've now successfully made a bank account class that has the following attributes:\n",
    "- It has a 10-digit number that uniquely identifies the bank account.\n",
    "- It has a string that stores the name or names of the owners.\n",
    "- The balance can be retrieved.\n",
    "- It accepts deposits.\n",
    "- It accepts withdrawals.\n",
    "- The initial balance must be positive.\n",
    "- Withdrawals cannot result in a negative balance."
   ]
  },
  {
   "cell_type": "markdown",
   "metadata": {},
   "source": [
    "# Playground\n",
    "Now that you've created a bank account class, you can play around with it!\n",
    "\n",
    "Create a way to list out the list of transactions, including the time and notes.  \n",
    "You have a test code below, but you can change it to match your own coding style.\n",
    "\n",
    "In the following example, we are retrieving the List<Transaction> as an array of Transaction, then enumerate it to print the values.\n",
    "\n",
    "***Note :***  \n",
    "You will find the full code in a .prg file in the current folder, and also in a Notebook called FirsStepsCode.dib.  \n",
    "You can use the code with a new project in MS Visual Studio, or with our XIDE.  \n",
    "We will use the Notebook in the next Notebooks, based on these [explanations](../ExternalCode.md)."
   ]
  },
  {
   "cell_type": "code",
   "execution_count": null,
   "metadata": {
    "dotnet_interactive": {
     "language": "xsharp"
    },
    "polyglot_notebook": {
     "kernelName": "xsharp"
    }
   },
   "outputs": [],
   "source": [
    "// UnComment this line to load the external Notebook (Read ../ExternalCode.md first to understand what it means)\n",
    "//#!import FirstStepsCode.dib\n",
    "\n",
    "var account := BankAccount{ \"Bruce\", 1000 }\n",
    "? i\"The account number [{account:Number}] belongs to {account:Owner}\"\n",
    "? i\"It has been created with {account:Balance} Euros.\"\n",
    "\n",
    "account:MakeWithdrawal(500, DateTime.Now, \"Batcave Rent payment\")\n",
    "? i\"New Balance : {account:Balance} €.\"\n",
    "\n",
    "account:MakeDeposit(100, DateTime.Now, \"Peter Parker paid me back\")\n",
    "? i\"New Balance : {account:Balance} €.\"\n",
    "\n",
    "? \"Operations list: \"\n",
    "var list := account:Transactions\n",
    "FOR VAR i:= 1 TO list:Length\n",
    "    VAR dt := string.Format(\"{0:dd/MM/yyyy}\", list[i]:Date)\n",
    "    var am := string.Format(\"{0,15:N2}\", list[i]:Amount)\n",
    "    ? dt + am + \"   \" + list[i]:Notes\n",
    "NEXT\n"
   ]
  }
 ],
 "metadata": {
  "kernelspec": {
   "display_name": ".NET (C#)",
   "language": "C#",
   "name": ".net-csharp"
  },
  "polyglot_notebook": {
   "kernelInfo": {
    "defaultKernelName": "csharp",
    "items": [
     {
      "aliases": [],
      "languageName": "csharp",
      "name": "csharp"
     },
     {
      "aliases": [],
      "languageName": "X#",
      "name": "xsharp"
     }
    ]
   }
  }
 },
 "nbformat": 4,
 "nbformat_minor": 2
}
