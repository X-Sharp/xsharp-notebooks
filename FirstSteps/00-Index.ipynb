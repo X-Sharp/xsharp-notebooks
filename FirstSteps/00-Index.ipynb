{
 "cells": [
  {
   "cell_type": "markdown",
   "metadata": {},
   "source": [
    "# Index\n",
    "\n",
    "| Lesson |\n",
    "|-----|\n",
    "| [Index                        ]( 00-Index.ipynb                           ) |\n",
    "| [Variable usage               ]( 01-Variable_Usage.ipynb                  ) |\n",
    "| [What is a String             ]( 02-What_is_a_String.ipynb                ) |\n",
    "| [XSharp Strings               ]( 02b-XSharp_Strings.ipynb                 ) |\n",
    "| [Integers Part 1              ]( 03-Integers_Part_1.ipynb                 ) |\n",
    "| [Integers Part 2              ]( 04-Integers_Part_2.ipynb                 ) |\n",
    "| [Decimals                     ]( 05-Decimals.ipynb                        ) |\n",
    "| [Conditional                  ]( 06-Conditional.ipynb                     ) |\n",
    "| [Loops                        ]( 07-Loops.ipynb                           ) |\n",
    "| [Loops and Branches           ]( 08-Loops_and_Branches.ipynb              ) |\n",
    "| [Array, Lists and Collections ]( 09-Array_Lists_and_Collections.ipynb    ) |\n",
    "| [Search, Sort and Manage Lists]( 10-Search_Sort_and_Manage_Lists.ipynb   ) |\n",
    "| [Practice Lists               ]( 11-Practice_Lists.ipynb                  ) |\n",
    "| [Functions and Procedures     ]( 12-Functions_and_Procedures.ipynb        ) |\n",
    "| [Objects and Classes          ]( 13-Objects_and_Classes.ipynb             ) |\n",
    "\n",
    "\n",
    "                       \n"
   ]
  }
 ],
 "metadata": {
  "kernelspec": {
   "display_name": ".NET (C#)",
   "language": "C#",
   "name": ".net-csharp"
  },
  "polyglot_notebook": {
   "kernelInfo": {
    "defaultKernelName": "csharp",
    "items": [
     {
      "aliases": [],
      "languageName": "csharp",
      "name": "csharp"
     },
     {
      "aliases": [],
      "languageName": "X#",
      "name": "xsharp"
     }
    ]
   }
  }
 },
 "nbformat": 4,
 "nbformat_minor": 2
}
