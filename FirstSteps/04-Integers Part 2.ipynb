{
 "cells": [
  {
   "cell_type": "markdown",
   "metadata": {},
   "source": [
    "# Load the *XSharp Language kernel*."
   ]
  },
  {
   "cell_type": "code",
   "execution_count": null,
   "metadata": {
    "dotnet_interactive": {
     "language": "csharp"
    },
    "polyglot_notebook": {
     "kernelName": "csharp"
    }
   },
   "outputs": [],
   "source": [
    "// <-= Press on the Arrow to run Me\n",
    "#r \"nuget:XSharpInteractive,1.0.0\""
   ]
  },
  {
   "cell_type": "markdown",
   "metadata": {},
   "source": [
    "# Integers : Part 2\n",
    "We have seen previously that when doing math with integers, you only get integers as a result.  \n",
    "The numbers are truncated, which just means that the remainder is cut off. You can find the remainder with **%**, the remainder operator.  \n",
    "The remainder is the *left over* amount from a division problem.\n",
    "\n",
    "> Try this code"
   ]
  },
  {
   "cell_type": "code",
   "execution_count": null,
   "metadata": {
    "dotnet_interactive": {
     "language": "xsharp"
    },
    "polyglot_notebook": {
     "kernelName": "xsharp"
    }
   },
   "outputs": [],
   "source": [
    "var a := 7\n",
    "var b := 4\n",
    "var c := 3\n",
    "var d := (a + b) / c\n",
    "var e := (a + b) % c\n",
    "? i\"quotient: {d}\"\n",
    "? i\"remainder: {e}\""
   ]
  },
  {
   "cell_type": "markdown",
   "metadata": {},
   "source": [
    "So, what happens here ?  \n",
    "When you take 11 and divide it by 3, there are 3x3 that fit into 11, with 2 as leftover (or remaining).  \n",
    "That's why 3 is the quotient, and 2 is the remainder"
   ]
  },
  {
   "cell_type": "markdown",
   "metadata": {},
   "source": [
    "### Size of an Integer\n",
    "Due to the way Integers are stored, they have a limit to their size.\n",
    "\n",
    "> You can ask what are the limits. Can you try with int64 and int128 ?"
   ]
  },
  {
   "cell_type": "code",
   "execution_count": null,
   "metadata": {
    "dotnet_interactive": {
     "language": "xsharp"
    },
    "polyglot_notebook": {
     "kernelName": "xsharp"
    }
   },
   "outputs": [],
   "source": [
    "VAR min := int32.MinValue\n",
    "VAR max := int32.MaxValue\n",
    "? i\"The range for Integers is from {min} to {max}.\""
   ]
  },
  {
   "cell_type": "markdown",
   "metadata": {},
   "source": [
    "The question is : What happens when you go beyond ?"
   ]
  },
  {
   "cell_type": "code",
   "execution_count": null,
   "metadata": {
    "dotnet_interactive": {
     "language": "xsharp"
    },
    "polyglot_notebook": {
     "kernelName": "xsharp"
    }
   },
   "outputs": [],
   "source": [
    "VAR max := int32.MaxValue\n",
    "max := max +3\n",
    "? i\"The new max is {max}.\""
   ]
  },
  {
   "cell_type": "markdown",
   "metadata": {},
   "source": [
    "The result looks like the previous *min* value. What happens is that is works a bit like a mechanical counter of car, when you reach the top value, is will go back to the minimum and then continue."
   ]
  }
 ],
 "metadata": {
  "kernelspec": {
   "display_name": ".NET (C#)",
   "language": "C#",
   "name": ".net-csharp"
  },
  "polyglot_notebook": {
   "kernelInfo": {
    "defaultKernelName": "csharp",
    "items": [
     {
      "aliases": [],
      "languageName": "csharp",
      "name": "csharp"
     },
     {
      "aliases": [],
      "languageName": "X#",
      "name": "xsharp"
     }
    ]
   }
  }
 },
 "nbformat": 4,
 "nbformat_minor": 2
}
