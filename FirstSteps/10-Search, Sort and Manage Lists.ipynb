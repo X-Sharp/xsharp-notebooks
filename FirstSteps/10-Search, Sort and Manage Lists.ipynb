{
 "cells": [
  {
   "cell_type": "markdown",
   "metadata": {},
   "source": [
    "# Load the *XSharp Language kernel*."
   ]
  },
  {
   "cell_type": "code",
   "execution_count": null,
   "metadata": {
    "dotnet_interactive": {
     "language": "csharp"
    },
    "polyglot_notebook": {
     "kernelName": "csharp"
    }
   },
   "outputs": [],
   "source": [
    "// <-= Press on the Arrow to run Me\n",
    "#r \"nuget:XSharpInteractive,1.0.0\""
   ]
  },
  {
   "cell_type": "markdown",
   "metadata": {},
   "source": [
    "# Search, Sort and Manage Lists"
   ]
  },
  {
   "cell_type": "markdown",
   "metadata": {},
   "source": [
    "### Search\n",
    "In the previous notebook, you learned how to find what item was stored at a specific index. Now, given an item, we can check if it exist and find out its index.\n",
    "\n",
    "> Run the code  \n",
    "> What is position of Angel ?  \n",
    "> What is the position of \"Robert\" ?  "
   ]
  },
  {
   "cell_type": "code",
   "execution_count": null,
   "metadata": {
    "dotnet_interactive": {
     "language": "xsharp"
    },
    "polyglot_notebook": {
     "kernelName": "xsharp"
    }
   },
   "outputs": [],
   "source": [
    "using System.Collections.Generic\n",
    "VAR mySuperHeroes := List<String>{ <string>{\"Cyclops\", \"Beast\", \"Marvel Girl\", \"Angel\"} }\n",
    "var lookingFor := \"Beast\"\n",
    "? i\"{lookingFor} exist in the List ? {mySuperHeroes:Contains(lookingFor)}\"\n",
    "var position = mySuperHeroes:IndexOf(lookingFor)\n",
    "? i\"Found {lookingFor} at {position}\""
   ]
  },
  {
   "cell_type": "markdown",
   "metadata": {},
   "source": [
    "#### What does -1 mean?\n",
    "If IndexOf() returns -1, then that means it couldn't find the item in the list. In fact, you can make a little if statement that works in not finding the item:\n",
    "\n",
    "> Run the code.  \n",
    "> Test with a few different names."
   ]
  },
  {
   "cell_type": "code",
   "execution_count": null,
   "metadata": {
    "dotnet_interactive": {
     "language": "xsharp"
    },
    "polyglot_notebook": {
     "kernelName": "xsharp"
    }
   },
   "outputs": [],
   "source": [
    "using System.Collections.Generic\n",
    "VAR mySuperHeroes := List<String>{ <string>{\"Cyclops\", \"Beast\", \"Marvel Girl\", \"Angel\"} }\n",
    "var lookingFor := \"Beast\"\n",
    "var position = mySuperHeroes:IndexOf(lookingFor)\n",
    "IF position == -1\n",
    "    ? i\"{lookingFor} was not found\"\n",
    "ELSE\n",
    "    ? i\"Found {lookingFor} at {position}\"\n",
    "ENDIF\n"
   ]
  },
  {
   "cell_type": "markdown",
   "metadata": {},
   "source": [
    "### Sort\n",
    "Until now, you've set names in a random order. But sometimes it's nice to have a sorted list.  \n",
    "`Sort()` takes a list and organizes it. It looks at the element types and organizes in the most reasonable way it can see  \n",
    "- String are sorted alphabetically\n",
    "- Numbers are organized from smallest to largest.\n",
    "\n",
    "Be aware that `Sort()` changes the list itself and you don't have to save the action to a new object.\n",
    "\n",
    "> Test the code  \n",
    "> Add other names to see them get sorted."
   ]
  },
  {
   "cell_type": "code",
   "execution_count": null,
   "metadata": {
    "dotnet_interactive": {
     "language": "xsharp"
    },
    "polyglot_notebook": {
     "kernelName": "xsharp"
    }
   },
   "outputs": [],
   "source": [
    "using System.Collections.Generic\n",
    "VAR mySuperHeroes := List<String>{ <string>{\"Cyclops\", \"Beast\", \"Marvel Girl\", \"Angel\"} }\n",
    "? \"Before Sort:\"\n",
    "FOREACH VAR hero IN mySuperHeroes\n",
    "    ? hero\n",
    "NEXT\n",
    "mySuperHeroes:Sort()\n",
    "? \"-==-\"\n",
    "? \"After Sort:\"\n",
    "FOREACH VAR hero IN mySuperHeroes\n",
    "    ? hero\n",
    "NEXT"
   ]
  },
  {
   "cell_type": "markdown",
   "metadata": {},
   "source": [
    "#### Change Sort\n",
    "What if you want to sort in reverse order ? `Sort()` accept a parameter for that.  \n",
    "\n",
    "> Try this code"
   ]
  },
  {
   "cell_type": "code",
   "execution_count": null,
   "metadata": {
    "dotnet_interactive": {
     "language": "xsharp"
    },
    "polyglot_notebook": {
     "kernelName": "xsharp"
    }
   },
   "outputs": [],
   "source": [
    "using System.Collections.Generic\n",
    "VAR mySuperHeroes := List<String>{ <string>{\"Cyclops\", \"Beast\", \"Marvel Girl\", \"Angel\"} }\n",
    "? \"Before Sort:\"\n",
    "FOREACH VAR hero IN mySuperHeroes\n",
    "    ? hero\n",
    "NEXT\n",
    "mySuperHeroes:Sort({|a,b| a:CompareTo(b)})\n",
    "? \"-==-\"\n",
    "? \"After Sort:\"\n",
    "FOREACH VAR hero IN mySuperHeroes\n",
    "    ? hero\n",
    "NEXT"
   ]
  },
  {
   "cell_type": "markdown",
   "metadata": {},
   "source": [
    "##### What happens here ?\n",
    "`|a,b|` are two elements of the List for comparaison, `|` is used as a separator for parameters and code used for sort.   \n",
    "`a:CompareTo(b)` compare a with b and :\n",
    "- return -1, if a precedes b\n",
    "- return 0, if a equals b\n",
    "- return 1, if b precedes a\n",
    "-1, 0, 1 are the values that Sort() is expecting to organize the elements.\n",
    "\n",
    "> Try to change the way Sort() is done by exchanging a and b order as parameters. "
   ]
  },
  {
   "cell_type": "markdown",
   "metadata": {},
   "source": [
    "### List Management\n",
    "You can also use various methods in order to manage a List<T> management :\n",
    "- RemoveAt, to delete an element through its position.\n",
    "- Insert, to insert at a specific position an element .\n",
    "- Clear, to empty the list.\n",
    "- Reverse, to ... Guess what ;)\n",
    "\n",
    "> Try these methods on the cell below, and let your creativity help you !\n"
   ]
  },
  {
   "cell_type": "code",
   "execution_count": null,
   "metadata": {
    "dotnet_interactive": {
     "language": "xsharp"
    },
    "polyglot_notebook": {
     "kernelName": "xsharp"
    }
   },
   "outputs": [],
   "source": [
    "using System.Collections.Generic\n",
    "VAR mySuperHeroes := List<String>{ <string>{\"Cyclops\", \"Beast\", \"Marvel Girl\", \"Angel\"} }\n",
    "\n",
    "mySuperHeroes:Insert( 1, \"Professeur Xavier\" )\n",
    "FOREACH VAR hero IN mySuperHeroes\n",
    "    ? hero\n",
    "NEXT\n"
   ]
  },
  {
   "cell_type": "markdown",
   "metadata": {},
   "source": [
    "# Sandbox\n",
    "\n",
    "\n",
    "> Make a list of groceries, and call the List `groceries`, then sort them! \n",
    "> what is the index that 'Carrots' is at?\n",
    "> Remove an element, and Insert another one, tehn sort again.\n",
    "\n",
    "> Try making a list of numbers! Do they sort in the way you expect? Change the sort order."
   ]
  },
  {
   "cell_type": "code",
   "execution_count": null,
   "metadata": {
    "dotnet_interactive": {
     "language": "xsharp"
    },
    "polyglot_notebook": {
     "kernelName": "xsharp"
    }
   },
   "outputs": [],
   "source": [
    "? \"Sandbox\""
   ]
  }
 ],
 "metadata": {
  "kernelspec": {
   "display_name": ".NET (C#)",
   "language": "C#",
   "name": ".net-csharp"
  },
  "polyglot_notebook": {
   "kernelInfo": {
    "defaultKernelName": "csharp",
    "items": [
     {
      "aliases": [],
      "languageName": "csharp",
      "name": "csharp"
     },
     {
      "aliases": [],
      "languageName": "X#",
      "name": "xsharp"
     }
    ]
   }
  }
 },
 "nbformat": 4,
 "nbformat_minor": 2
}
