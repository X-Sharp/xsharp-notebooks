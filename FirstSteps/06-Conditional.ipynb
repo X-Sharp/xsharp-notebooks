{
 "cells": [
  {
   "cell_type": "markdown",
   "metadata": {},
   "source": [
    "# Load the *XSharp Language kernel*."
   ]
  },
  {
   "cell_type": "code",
   "execution_count": null,
   "metadata": {
    "dotnet_interactive": {
     "language": "csharp"
    },
    "polyglot_notebook": {
     "kernelName": "csharp"
    }
   },
   "outputs": [],
   "source": [
    "// <-= Press on the Arrow to run Me\n",
    "#r \"nuget:XSharpInteractive\""
   ]
  },
  {
   "cell_type": "markdown",
   "metadata": {},
   "source": [
    "# Conditional\n",
    "Conditionals are programming language commands for handling decision.\n",
    "\n",
    "### Simple IF\n",
    "**IF** statement is used in choice situation.\n",
    "\n",
    "> Try this code"
   ]
  },
  {
   "cell_type": "code",
   "execution_count": null,
   "metadata": {
    "dotnet_interactive": {
     "language": "xsharp"
    },
    "polyglot_notebook": {
     "kernelName": "xsharp"
    }
   },
   "outputs": [],
   "source": [
    "var a := 7\n",
    "var b := 4\n",
    "IF a + b > 10\n",
    "    ? \"The result is greater than 10.\"\n",
    "ENDIF"
   ]
  },
  {
   "cell_type": "markdown",
   "metadata": {},
   "source": [
    "If we try to *say* the statement, we can translate it like this :  \n",
    "\"if a plus b is greater than 10, write the line 'The result is greater than 10'\".\n",
    "\n",
    "What would happen if a + b is less than 10? Try editing the previous code to see.\n",
    "\n",
    "You didn't had a message ? Perfect! It means that the **condition** `(a + b is greater than 10)` of the if statement wasn't met, the code didn't go into the if statement, and therefore had nothing to print."
   ]
  },
  {
   "cell_type": "markdown",
   "metadata": {},
   "source": [
    "### What is a Condition ?\n",
    "The condition is the statement in parentheses after the if.  \n",
    "A condition is a ``boolean``, which means it has to return a **true** or **false**. \n",
    "You will use symbols such as `>`, `<`, `<=`, `>=` or `==` and `=`."
   ]
  },
  {
   "cell_type": "code",
   "execution_count": null,
   "metadata": {
    "dotnet_interactive": {
     "language": "xsharp"
    },
    "polyglot_notebook": {
     "kernelName": "xsharp"
    }
   },
   "outputs": [],
   "source": [
    "VAR logicVar := 3 > 5\n",
    "? i\"The condition is {logicVar}\""
   ]
  },
  {
   "cell_type": "markdown",
   "metadata": {},
   "source": [
    "### Boolean or LOGIC\n",
    "In XSharp, you can also use `LOGIC` to define a variable of Dotnet type `boolean`.  \n",
    "This is for xBase compatibilty reason, as XSharp support several xBase dialects. In the same area, you can also use the xBase symbols for **true** .T., or **false** .F.\n",
    "So you can use one or the other when defining variables.\n",
    "\n",
    "> Try it, and change the boolean/logic value."
   ]
  },
  {
   "cell_type": "code",
   "execution_count": null,
   "metadata": {
    "dotnet_interactive": {
     "language": "xsharp"
    },
    "polyglot_notebook": {
     "kernelName": "xsharp"
    }
   },
   "outputs": [],
   "source": [
    "LOCAL varBool AS boolean\n",
    "varBool := TRUE\n",
    "LOCAL varLogic AS LOGIC\n",
    "varLogic := .T.\n",
    "IF varLogic == varBool\n",
    "    ? \"Both are True\"\n",
    "ENDIF"
   ]
  },
  {
   "cell_type": "markdown",
   "metadata": {},
   "source": [
    "### ELSE\n",
    "In the previous code-cell, if the condition of the if statement weren't met, the entire if statement was skipped.  \n",
    "But what if you want to do something both cases? **else** is what happens if the conditional comes out **false**.\n",
    "\n",
    "> Try this code, and change the values and the conditional to see the different results."
   ]
  },
  {
   "cell_type": "code",
   "execution_count": null,
   "metadata": {
    "dotnet_interactive": {
     "language": "xsharp"
    },
    "polyglot_notebook": {
     "kernelName": "xsharp"
    }
   },
   "outputs": [],
   "source": [
    "var a := 4\n",
    "var b := 4\n",
    "IF a + b > 10\n",
    "    ? \"The result is greater than 10.\"\n",
    "ELSE\n",
    "    ? \"The result is not greater than 10.\"\n",
    "ENDIF"
   ]
  },
  {
   "cell_type": "markdown",
   "metadata": {},
   "source": [
    "### ELSEIF\n",
    "But, you may have more than one condition to evaluate before choosing the **ELSE** statements.  \n",
    "This possible using the **elseif** structure. \n",
    "\n",
    "> Try to run this code, and change the value of `nNumber` to see the result, then change the conditions."
   ]
  },
  {
   "cell_type": "code",
   "execution_count": null,
   "metadata": {
    "dotnet_interactive": {
     "language": "xsharp"
    },
    "polyglot_notebook": {
     "kernelName": "xsharp"
    }
   },
   "outputs": [],
   "source": [
    "LOCAL nNumber := 50 AS INT\n",
    "IF nNumber < 50\n",
    " ? \"Less than 50\"\n",
    "ELSEIF nNumber = 50\n",
    " ? \"Is equal to 50\"\n",
    "ELSE\n",
    " ? \"Greater than 50\"\n",
    "ENDIF"
   ]
  },
  {
   "cell_type": "markdown",
   "metadata": {},
   "source": [
    "You can note that the elements from the **elseif** condition may not be related to the one in **if**, but this is not really *clean* to do it."
   ]
  },
  {
   "cell_type": "markdown",
   "metadata": {},
   "source": [
    "### Combine conditions\n",
    "If you want to create more complex conditions, you can use boolean operators :\n",
    "- .AND.\n",
    "- .OR.\n",
    "- .NOT."
   ]
  },
  {
   "cell_type": "code",
   "execution_count": null,
   "metadata": {
    "dotnet_interactive": {
     "language": "xsharp"
    },
    "polyglot_notebook": {
     "kernelName": "xsharp"
    }
   },
   "outputs": [],
   "source": [
    "var a := 4\n",
    "var b := 5\n",
    "var c := 3\n",
    "IF a + b + c > 10 .AND. a == b\n",
    "    ? \"The result is greater than 10.\"\n",
    "    ? \"and a equals b\"\n",
    "ELSE\n",
    "    ? \"The result is not greater than 10.\"\n",
    "    ? \"or a does not equal b\"\n",
    "ENDIF"
   ]
  },
  {
   "cell_type": "markdown",
   "metadata": {},
   "source": [
    "For the ease of reading, you can group conditions using parenthesis, but this not mandatory.\n",
    "\n",
    "> Modify the previous code by adding parenthesis aroud each condition."
   ]
  },
  {
   "cell_type": "markdown",
   "metadata": {},
   "source": [
    "# Sandbox\n",
    "\n",
    "> Try out the .OR. symbol in place of the .AND. in the previous code. \n",
    "\n",
    "> What if you put **if** statements inside of **if** statements (a nested **if** statement)?\n"
   ]
  },
  {
   "cell_type": "code",
   "execution_count": null,
   "metadata": {
    "dotnet_interactive": {
     "language": "xsharp"
    },
    "polyglot_notebook": {
     "kernelName": "xsharp"
    }
   },
   "outputs": [],
   "source": [
    "? \"Sandbox\""
   ]
  }
 ],
 "metadata": {
  "kernelspec": {
   "display_name": ".NET (C#)",
   "language": "C#",
   "name": ".net-csharp"
  },
  "polyglot_notebook": {
   "kernelInfo": {
    "defaultKernelName": "csharp",
    "items": [
     {
      "aliases": [],
      "languageName": "csharp",
      "name": "csharp"
     },
     {
      "aliases": [],
      "languageName": "X#",
      "name": "xsharp"
     }
    ]
   }
  }
 },
 "nbformat": 4,
 "nbformat_minor": 2
}
