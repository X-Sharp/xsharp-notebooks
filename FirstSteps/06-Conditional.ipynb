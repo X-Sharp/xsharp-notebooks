{
 "cells": [
  {
   "cell_type": "markdown",
   "metadata": {},
   "source": [
    "# Load the *XSharp Language kernel*."
   ]
  },
  {
   "cell_type": "code",
   "execution_count": null,
   "metadata": {
    "dotnet_interactive": {
     "language": "csharp"
    },
    "polyglot_notebook": {
     "kernelName": "csharp"
    }
   },
   "outputs": [],
   "source": [
    "// <-= Press on the Arrow to run Me\n",
    "#r \"nuget:XSharpInteractive,1.0.0\""
   ]
  },
  {
   "cell_type": "markdown",
   "metadata": {},
   "source": [
    "# Conditional\n",
    "Conditionals are programming language commands for handling decision.\n",
    "\n",
    "### Simple IF\n",
    "**IF** statement is used in choice situation.\n",
    "\n",
    "> Try this code"
   ]
  },
  {
   "cell_type": "code",
   "execution_count": null,
   "metadata": {
    "dotnet_interactive": {
     "language": "xsharp"
    },
    "polyglot_notebook": {
     "kernelName": "xsharp"
    }
   },
   "outputs": [],
   "source": [
    "var a := 7\n",
    "var b := 4\n",
    "IF a + b > 10\n",
    "    ? \"The result is greater than 10.\"\n",
    "ENDIF"
   ]
  },
  {
   "cell_type": "markdown",
   "metadata": {},
   "source": [
    "If we try to *say* the statement, we can translate it like this :  \n",
    "\"if a plus b is greater than 10, write the line 'The result is greater than 10'\".\n",
    "\n",
    "What would happen if a + b is less than 10? Try editing the previous code to see.\n",
    "\n",
    "You didn't had a message ? Perfect! It means that the **condition** `(a + b is greater than 10)` of the if statement wasn't met, the code didn't go into the if statement, and therefore had nothing to print."
   ]
  },
  {
   "cell_type": "markdown",
   "metadata": {},
   "source": [
    "### What is a Condition ?\n",
    "The condition is the statement in parentheses after the if.  \n",
    "A condition is a ``boolean``, which means it has to return a **true** or **false**. \n",
    "You will use symbols such as `>`, `<`, `<=`, `>=` or `==`."
   ]
  },
  {
   "cell_type": "code",
   "execution_count": null,
   "metadata": {
    "dotnet_interactive": {
     "language": "xsharp"
    },
    "polyglot_notebook": {
     "kernelName": "xsharp"
    }
   },
   "outputs": [],
   "source": [
    "VAR boolVar := 3 > 5\n",
    "? i\"The condition is {boolVar}\""
   ]
  },
  {
   "cell_type": "markdown",
   "metadata": {},
   "source": [
    "### ELSE\n",
    "In the previous code-cell, if the condition of the if statement weren't met, the entire if statement was skipped.  \n",
    "But what if you want to do something both cases? **else** is what happens if the conditional comes out **false**.\n",
    "\n",
    "> Try this code, and change the values and the conditional to see the different results."
   ]
  },
  {
   "cell_type": "code",
   "execution_count": null,
   "metadata": {
    "dotnet_interactive": {
     "language": "xsharp"
    },
    "polyglot_notebook": {
     "kernelName": "xsharp"
    }
   },
   "outputs": [],
   "source": [
    "var a := 4\n",
    "var b := 4\n",
    "IF a + b > 10\n",
    "    ? \"The result is greater than 10.\"\n",
    "ELSE\n",
    "    ? \"The result is not greater than 10.\"\n",
    "ENDIF"
   ]
  }
 ],
 "metadata": {
  "kernelspec": {
   "display_name": ".NET (C#)",
   "language": "C#",
   "name": ".net-csharp"
  },
  "polyglot_notebook": {
   "kernelInfo": {
    "defaultKernelName": "csharp",
    "items": [
     {
      "aliases": [],
      "languageName": "csharp",
      "name": "csharp"
     },
     {
      "aliases": [],
      "languageName": "X#",
      "name": "xsharp"
     }
    ]
   }
  }
 },
 "nbformat": 4,
 "nbformat_minor": 2
}
