{
 "cells": [
  {
   "cell_type": "markdown",
   "metadata": {},
   "source": [
    "# Load the *XSharp Language kernel*."
   ]
  },
  {
   "cell_type": "code",
   "execution_count": null,
   "metadata": {
    "dotnet_interactive": {
     "language": "csharp"
    },
    "polyglot_notebook": {
     "kernelName": "csharp"
    }
   },
   "outputs": [],
   "source": [
    "// <-= Press on the Arrow to run Me\n",
    "#r \"nuget:XSharpInteractive\""
   ]
  },
  {
   "cell_type": "markdown",
   "metadata": {},
   "source": [
    "# Objects and Classes\n",
    "\n",
    "## Object Oriented Programming\n",
    "Objects are a way to mimic the real world in coding.  \n",
    "\n",
    "If you take the concept of a ***person***, they can have a name, address, height, all of these properties that change from person to person.  \n",
    "Object oriented coding packages that type of information, so that you can easily make a person with all those details.  \n",
    "\n",
    "There are lots of stuff you can do with objects, but for now you can start with the basics."
   ]
  },
  {
   "cell_type": "markdown",
   "metadata": {},
   "source": [
    "In order to create an *Object* in memory, we will need to first create a *model* or a *template* for that *Object* : This is called a **Class**\n",
    "\n",
    "- **Objects**: Objects are instances of classes. They hold the actual data values as well as the ability to perform operations defined by the class. They *exists* in memory.  \n",
    "- **Methods**: Methods are functions or actions defined within a class. They define the behavior of objects. They can perform various operations, manipulate data, and interact with other objects. They are usually identified with verbs.\n",
    "- **Properties**: Properties, also known as attributes or fields, are the data members of a class. They store the characteristics or data associated with an object. They are usually identified with nouns. With X#, Fields and Properties are not exactly the same but forget it for now."
   ]
  },
  {
   "cell_type": "markdown",
   "metadata": {},
   "source": [
    "In the next few notebooks, you will make create a bank account with these attributes :  \n",
    "> It has a 10-digit number that uniquely identifies the account.  \n",
    "It has a string to store the name of the owner.  \n",
    "You can retrieve the balance.  \n",
    "You can do deposits.  \n",
    "You can do withdrawals.  \n",
    "Withdrawals cannot result in a negative balance.  \n",
    "The initial balance cannot be negative."
   ]
  },
  {
   "cell_type": "markdown",
   "metadata": {},
   "source": [
    "## 1. Properties\n",
    "You can ***get*** and ***set*** a property value: sometimes you want to only want a user to see a variable but not change it. Other times you want the user to be able to change a variable. \n",
    "***get*** lets you see the variable, ***set*** lets you change it. (right?)\n",
    "\n",
    "> Type the code below into the BankAccount object under //Properties\n",
    "\n",
    "        PUBLIC PROPERTY Number AS STRING AUTO GET SET\n",
    "        PUBLIC PROPERTY Owner AS STRING AUTO GET SET\n",
    "        PUBLIC PROPERTY Balance AS Decimal AUTO GET"
   ]
  },
  {
   "cell_type": "code",
   "execution_count": null,
   "metadata": {
    "dotnet_interactive": {
     "language": "xsharp"
    },
    "polyglot_notebook": {
     "kernelName": "xsharp"
    }
   },
   "outputs": [],
   "source": [
    "CLASS BankAccount\n",
    "    // Properties (paste under here)\n",
    "        \n",
    "    // Constructor\n",
    "\n",
    "    // Methods\n",
    "\n",
    "END CLASS"
   ]
  },
  {
   "cell_type": "markdown",
   "metadata": {},
   "source": [
    "## 2. Constructor\n",
    "As the name states, a Constructor is what ***creates*** a specific instance of an object.  \n",
    "Creating a BankAccount class, like you're doing now, is like making a template for all bank accounts. It's not a specific account.  \n",
    "The constructor is what will ***make*** a singular account, with all the actual details. You give the constructor all the details you want for a specific account, and it assigns the details to the ***new object***'s properties.\n",
    "\n",
    "> Look a the code below :\n",
    "\n",
    "Using `SELF` inside a `METHOD` is a styling choice.   \n",
    "It makes explicit that the code you are writing inside a `METHOD` is relative to the current object that you are using : Property `Owner` is the variable of *that* specific *instance*.  \n",
    "In the future, you'll have several instances to interact, and this will become a bit more explicit. You can also write `Owner` instead of `SELF:Owner` if you want! `SELF` indicates that the context of assignation is the object we are currently manipulating.\n",
    "\n",
    "As with Functions/Procedure, a Constructor can receive parameters, but it will not return a value.  \n",
    "We are receiving the variables `name` and `initialBalance` and are initializing a bank account object with these values.\n",
    "\n",
    "> Type the constructor code into the BankAccount below, under //Constructor\n",
    "\n",
    "    PUBLIC CONSTRUCTOR( name AS STRING, initialBalance AS DECIMAL )\n",
    "        SELF:Owner := name\n",
    "        SELF:Balance := initialBalance\n",
    "    END CONSTRUCTOR"
   ]
  },
  {
   "cell_type": "code",
   "execution_count": null,
   "metadata": {
    "dotnet_interactive": {
     "language": "xsharp"
    },
    "polyglot_notebook": {
     "kernelName": "xsharp"
    }
   },
   "outputs": [],
   "source": [
    "CLASS BankAccount\n",
    "    // Properties \n",
    "    PUBLIC PROPERTY Number AS STRING AUTO GET SET\n",
    "    PUBLIC PROPERTY Owner AS STRING AUTO GET SET\n",
    "    PUBLIC PROPERTY Balance AS Decimal AUTO GET\n",
    "        \n",
    "    // Constructor (paste here)\n",
    "    \n",
    "    // Methods\n",
    "\n",
    "END CLASS"
   ]
  },
  {
   "cell_type": "markdown",
   "metadata": {},
   "source": [
    "## 3. Create an Object\n",
    "\n",
    "Now that you have written the code, let's create a `BankAccount`!\n",
    "\n",
    "> Run the two code cells below to create a specific bank account. \n",
    ">> Does it do what you expected?\n",
    "\n",
    "> Change the code to make a bank account for yourself. \n",
    ">> How much money do you want in your bank account?"
   ]
  },
  {
   "cell_type": "code",
   "execution_count": null,
   "metadata": {
    "dotnet_interactive": {
     "language": "xsharp"
    },
    "polyglot_notebook": {
     "kernelName": "xsharp"
    }
   },
   "outputs": [],
   "source": [
    "CLASS BankAccount\n",
    "    // Properties \n",
    "    PUBLIC PROPERTY Number AS STRING AUTO GET SET\n",
    "    PUBLIC PROPERTY Owner AS STRING AUTO GET SET\n",
    "    PUBLIC PROPERTY Balance AS Decimal AUTO GET\n",
    "        \n",
    "    // Constructor \n",
    "    PUBLIC CONSTRUCTOR( name AS STRING, initialBalance AS DECIMAL )\n",
    "        SELF:Owner := name\n",
    "        SELF:Balance := initialBalance\n",
    "    END CONSTRUCTOR\n",
    "    \n",
    "    // Methods\n",
    "\n",
    "END CLASS"
   ]
  },
  {
   "cell_type": "code",
   "execution_count": null,
   "metadata": {
    "dotnet_interactive": {
     "language": "xsharp"
    },
    "polyglot_notebook": {
     "kernelName": "xsharp"
    }
   },
   "outputs": [],
   "source": [
    "var account := BankAccount{ \"Bruce\", 1000 }\n",
    "? i\"The account number [{account:Number}] belongs to {account:Owner}\"\n",
    "? i\"It has been created with {account:Balance} Euros.\""
   ]
  },
  {
   "cell_type": "markdown",
   "metadata": {},
   "source": [
    "#### What about the account:Number?\n",
    "You may have noticed that the code didn't print out anything for account.Number.  \n",
    "That's okay! You haven't put anything in it yet. You'll learn about it in another notebook."
   ]
  },
  {
   "cell_type": "markdown",
   "metadata": {},
   "source": [
    "## 4: Methods\n",
    "Methods (some languages talks about *member functions*) exist to do actions with an object or change the object variables.  \n",
    "\n",
    "These two methods will make a deposit (add money) and make a withdrawal (take out money). You'll be adding code in the methods later, but for now you just want to add the empty versions.\n",
    "\n",
    "> Copy the methods prototypes below and add them to BankAccount under // Methods\n",
    "\n",
    "    PUBLIC METHOD MakeDeposit( amount AS DECIMAL, depositDate AS DateTime, notes AS STRING ) AS VOID\n",
    "\n",
    "    END METHOD\n",
    "\n",
    "    PUBLIC METHOD MakeWithdrawal( amount AS DECIMAL, withdrawDate AS DateTime, notes AS STRING ) AS VOID\n",
    "\n",
    "    END METHOD"
   ]
  },
  {
   "cell_type": "code",
   "execution_count": null,
   "metadata": {
    "dotnet_interactive": {
     "language": "xsharp"
    },
    "polyglot_notebook": {
     "kernelName": "xsharp"
    }
   },
   "outputs": [],
   "source": [
    "CLASS BankAccount\n",
    "    // Properties \n",
    "    PUBLIC PROPERTY Number AS STRING AUTO GET SET\n",
    "    PUBLIC PROPERTY Owner AS STRING AUTO GET SET\n",
    "    PUBLIC PROPERTY Balance AS Decimal AUTO GET\n",
    "        \n",
    "    // Constructor \n",
    "    PUBLIC CONSTRUCTOR( name AS STRING, initialBalance AS DECIMAL )\n",
    "        SELF:Owner := name\n",
    "        SELF:Balance := initialBalance\n",
    "    END CONSTRUCTOR\n",
    "    \n",
    "    // Methods (paste here)\n",
    "\n",
    "END CLASS"
   ]
  },
  {
   "cell_type": "markdown",
   "metadata": {},
   "source": [
    "## Review\n",
    "\n",
    "Here's a version of `BankAccount` with which to complete this notebook.   \n",
    "\n",
    "We'll be adding more elements later, but why not try it for yourself, just to see what you might be missing?\n",
    "\n",
    "> Can you add a 10-digit code? What does your object need to be unique?\n",
    ">\n",
    "> Try adding the code for the deposit method! What should it do?\n",
    ">\n",
    "> How do I check that the initial balance is positive?"
   ]
  },
  {
   "cell_type": "code",
   "execution_count": null,
   "metadata": {
    "dotnet_interactive": {
     "language": "xsharp"
    },
    "polyglot_notebook": {
     "kernelName": "xsharp"
    }
   },
   "outputs": [],
   "source": [
    "CLASS BankAccount\n",
    "    // Properties (#1)\n",
    "    PUBLIC PROPERTY Number AS STRING AUTO GET SET\n",
    "    PUBLIC PROPERTY Owner AS STRING AUTO GET SET\n",
    "    PUBLIC PROPERTY Balance AS Decimal AUTO GET\n",
    "        \n",
    "    // Constructor (#2)\n",
    "    PUBLIC CONSTRUCTOR( name AS STRING, initialBalance AS DECIMAL )\n",
    "        SELF:Owner := name\n",
    "        SELF:Balance := initialBalance\n",
    "    END CONSTRUCTOR\n",
    "    \n",
    "    // Methods (#4)\n",
    "    PUBLIC METHOD MakeDeposit( amount AS DECIMAL, depositDate AS DateTime, notes AS STRING ) AS VOID\n",
    "\n",
    "    END METHOD\n",
    "\n",
    "    PUBLIC METHOD MakeWithdrawal( amount AS DECIMAL, withdrawDate AS DateTime, notes AS STRING ) AS VOID\n",
    "\n",
    "    END METHOD\n",
    "END CLASS"
   ]
  },
  {
   "cell_type": "code",
   "execution_count": null,
   "metadata": {
    "dotnet_interactive": {
     "language": "xsharp"
    },
    "polyglot_notebook": {
     "kernelName": "xsharp"
    }
   },
   "outputs": [],
   "source": [
    "var account := BankAccount{ \"Bruce\", 1000 }\n",
    "? i\"The account number [{account:Number}] belongs to {account:Owner}\"\n",
    "? i\"It has been created with {account:Balance} Euros.\""
   ]
  }
 ],
 "metadata": {
  "kernelspec": {
   "display_name": ".NET (C#)",
   "language": "C#",
   "name": ".net-csharp"
  },
  "polyglot_notebook": {
   "kernelInfo": {
    "defaultKernelName": "csharp",
    "items": [
     {
      "aliases": [],
      "languageName": "csharp",
      "name": "csharp"
     },
     {
      "aliases": [],
      "languageName": "X#",
      "name": "xsharp"
     }
    ]
   }
  }
 },
 "nbformat": 4,
 "nbformat_minor": 2
}
