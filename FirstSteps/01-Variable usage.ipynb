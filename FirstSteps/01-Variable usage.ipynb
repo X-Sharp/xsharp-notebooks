{
 "cells": [
  {
   "cell_type": "markdown",
   "metadata": {},
   "source": [
    "# Load the *XSharp Language kernel*."
   ]
  },
  {
   "cell_type": "code",
   "execution_count": null,
   "metadata": {},
   "outputs": [],
   "source": [
    "// <-= Press on the Arrow to run Me\n",
    "#i \"nuget:E:\\source\\repos\\XSharpInteractive_Net\\XSharpInteractive\\bin\\Debug\"\n",
    "#r \"nuget:XSharpInteractive,1.0.0\""
   ]
  },
  {
   "cell_type": "markdown",
   "metadata": {},
   "source": [
    "# Declare and use a variable  \n",
    "> In order to write a message in the console, you can either use the .NET method `Console.WriteLine` or the xBase `?` command.\n",
    "\n",
    "A **variable** is a symbol that you can use to store a value.  \n",
    "For example, you can declare a new variable called `aFriend` that you can use with `?` to print a string of chars.  \n",
    "You can declare the variable using the keyword `var` that will *guess* the type for you (here `STRING`) when you use `:=` which is the set-value operator.  \n",
    "Or you can specify the type by declaring the variable first using `LOCAL` and `AS STRING`\n",
    "\n",
    "> Test the following code, and check the result.\n",
    ">\n",
    "> Then change the content of the variables and test again."
   ]
  },
  {
   "cell_type": "code",
   "execution_count": null,
   "metadata": {
    "dotnet_interactive": {
     "language": "xsharp"
    },
    "polyglot_notebook": {
     "kernelName": "xsharp"
    }
   },
   "outputs": [],
   "source": [
    "var aFriend := \"Fabrice\"\n",
    "? aFriend\n",
    "Local anotherOne AS STRING\n",
    "anotherOne := \"Robert\"\n",
    "? anotherOne"
   ]
  },
  {
   "cell_type": "markdown",
   "metadata": {},
   "source": [
    "## String combination\n",
    "\n",
    "You can combine several strings using `+` to create a new string, that you can print to the console. By doing so, you are creating a new string from a **variable** and a **constant**."
   ]
  },
  {
   "cell_type": "code",
   "execution_count": null,
   "metadata": {
    "dotnet_interactive": {
     "language": "xsharp"
    },
    "polyglot_notebook": {
     "kernelName": "xsharp"
    }
   },
   "outputs": [],
   "source": [
    "Console.WriteLine( \"Hello \" + aFriend + \" and \" + anotherOne + \" !\" )\n"
   ]
  },
  {
   "cell_type": "markdown",
   "metadata": {},
   "source": [
    "## String interpolation\n",
    "\n",
    "There's a better way to do this by placing the **variable** between { and } to tell X# to replace that position of text with the **value** of the **variable** : This is called string interpolation.  \n",
    "Add a **i** before the opening quote to enable string interpolation for the string.\n"
   ]
  },
  {
   "cell_type": "code",
   "execution_count": null,
   "metadata": {
    "dotnet_interactive": {
     "language": "xsharp"
    },
    "polyglot_notebook": {
     "kernelName": "xsharp"
    }
   },
   "outputs": [],
   "source": [
    "aFriend := \"Chris\"\n",
    "anotherOne := \"Nikos\"\n",
    "\n",
    "Console.WriteLine( i\"Hello {aFriend} and {anotherOne} !\" )"
   ]
  },
  {
   "cell_type": "markdown",
   "metadata": {},
   "source": [
    "## Sandbox : Exercise yourself !\n",
    "\n",
    "Each Notebook will end with a little exercise. This is a place where you can write some code yourself, instead of following some pre-written code.  \n",
    "Try to print word and variables, that you define yourself with your choosen names.\n",
    "\n",
    "> Define some variables with food, and create de recipe !"
   ]
  },
  {
   "cell_type": "code",
   "execution_count": null,
   "metadata": {
    "dotnet_interactive": {
     "language": "xsharp"
    },
    "polyglot_notebook": {
     "kernelName": "xsharp"
    }
   },
   "outputs": [],
   "source": [
    "? \"Sandbox\""
   ]
  }
 ],
 "metadata": {
  "kernelspec": {
   "display_name": ".NET (C#)",
   "language": "C#",
   "name": ".net-csharp"
  },
  "polyglot_notebook": {
   "kernelInfo": {
    "defaultKernelName": "csharp",
    "items": [
     {
      "aliases": [],
      "languageName": "csharp",
      "name": "csharp"
     },
     {
      "aliases": [],
      "languageName": "X#",
      "name": "xsharp"
     }
    ]
   }
  }
 },
 "nbformat": 4,
 "nbformat_minor": 2
}
