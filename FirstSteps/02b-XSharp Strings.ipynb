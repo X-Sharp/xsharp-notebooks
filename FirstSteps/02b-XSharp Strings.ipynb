{
 "cells": [
  {
   "cell_type": "markdown",
   "metadata": {},
   "source": [
    "# Load the *XSharp Language kernel*."
   ]
  },
  {
   "cell_type": "code",
   "execution_count": null,
   "metadata": {
    "dotnet_interactive": {
     "language": "csharp"
    },
    "polyglot_notebook": {
     "kernelName": "csharp"
    }
   },
   "outputs": [],
   "source": [
    "// <-= Press on the Arrow to run Me\n",
    "#r \"nuget:XSharpInteractive,1.0.0\""
   ]
  },
  {
   "cell_type": "markdown",
   "metadata": {
    "dotnet_interactive": {
     "language": "csharp"
    },
    "polyglot_notebook": {
     "kernelName": "csharp"
    }
   },
   "source": [
    "# XSharp Strings\n",
    "What we have done in the previous Notebook is manipulating strings the *Dotnet Way*. But dont't forget that XSharp has some xBase roots.   \n",
    "We will explore some of the functions that comes from xBase that XSharp support natively, but remember that these Notebooks are running in a striped down version of X# :   \n",
    "If you want to have a full support of the various dialects that X# supports, you will have to create a ***real*** application.\n",
    "\n",
    "## Loading XSharp Core\n",
    "This will provide some of the functions that are shared between all xBase dialects.  \n",
    "Due to our xbase roots, per default XSharp language is **NOT case sensitive**, so you can write and use the variables or functions names in mixed cases.\n",
    "\n",
    "> Try to run the following code\n"
   ]
  },
  {
   "cell_type": "code",
   "execution_count": null,
   "metadata": {
    "dotnet_interactive": {
     "language": "xsharp"
    },
    "polyglot_notebook": {
     "kernelName": "xsharp"
    }
   },
   "outputs": [],
   "source": [
    "#r \"C:\\Program Files (x86)\\XSharp\\Redist\\XSharp.Core.dll\"\n",
    "using XSharp.Core\n",
    "\n",
    "? Functions.Upper(\"upper size me!\")"
   ]
  },
  {
   "cell_type": "markdown",
   "metadata": {},
   "source": [
    "Before going further, let's have a look at the previous code cell :\n",
    "- `#r \"C:\\Program Files (x86)\\XSharp\\Redist\\XSharp.Core.dll\"`  \n",
    "This loads the external library `Xsharp.Code.Dll` into the **XSharpInteractive** memory. Adapt the path to your installation if needed.\n",
    "- `Functions.Upper()`  \n",
    "This will call the `Upper()` function, from the group of tools named `Functions`. In a standard X# application, you don't have to specify the `Functions.` part and just call `Upper()`. Notice you have a put a **dot** between `Functions` and the function name.\n",
    "- `using XSharp.Core`  \n",
    "Doing with shorten what we have to write in order to call the various functions. Without this, you should have written the call as `XSharp.Core.Functions.Upper()`"
   ]
  },
  {
   "cell_type": "markdown",
   "metadata": {},
   "source": [
    "## Extracts of xBase support with XSharp\n",
    "The following cell contains some of the functions XSharp is supporting.\n",
    "\n",
    "> Try and play with that code block, change the value, change the casing of function names and var names."
   ]
  },
  {
   "cell_type": "code",
   "execution_count": null,
   "metadata": {
    "dotnet_interactive": {
     "language": "xsharp"
    },
    "polyglot_notebook": {
     "kernelName": "xsharp"
    }
   },
   "outputs": [],
   "source": [
    "var oneString := \"X# is an open source development language for .NET, based on the xBase language\"\n",
    "\n",
    "? Functions.Upper( oneString )\n",
    "? Functions.Lower( oneString )\n",
    "? Functions.IsLower( Functions.Lower( oneString ) )\n",
    "? Functions.Substr3( oneString, 66, 5 )\n",
    "\n",
    "oneString := \"   XSharp Rocks !   \"\n",
    "? \":\" + oneString + \":\"\n",
    "? \":\" + Functions.Ltrim(  oneString ) + \":\"\n",
    "? \":\" + Functions.Rtrim(  oneString ) + \":\"\n",
    "? \":\" + Functions.Alltrim(  oneString ) + \":\"\n",
    "\n",
    "oneString := \"1234\"\n",
    "? Functions.IsDigit( oneString )\n",
    "? Functions.IsAlpha( oneString )\n",
    "? Functions.IsSpace( oneString )"
   ]
  }
 ],
 "metadata": {
  "kernelspec": {
   "display_name": ".NET (C#)",
   "language": "C#",
   "name": ".net-csharp"
  },
  "polyglot_notebook": {
   "kernelInfo": {
    "defaultKernelName": "csharp",
    "items": [
     {
      "aliases": [],
      "name": "csharp"
     },
     {
      "aliases": [],
      "languageName": "X#",
      "name": "xsharp"
     }
    ]
   }
  }
 },
 "nbformat": 4,
 "nbformat_minor": 2
}
