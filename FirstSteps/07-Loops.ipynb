{
 "cells": [
  {
   "cell_type": "markdown",
   "metadata": {},
   "source": [
    "# Load the *XSharp Language kernel*."
   ]
  },
  {
   "cell_type": "code",
   "execution_count": null,
   "metadata": {
    "dotnet_interactive": {
     "language": "csharp"
    },
    "polyglot_notebook": {
     "kernelName": "csharp"
    }
   },
   "outputs": [],
   "source": [
    "// <-= Press on the Arrow to run Me\n",
    "#r \"nuget:XSharpInteractive,1.0.0\""
   ]
  },
  {
   "cell_type": "markdown",
   "metadata": {},
   "source": [
    "# Loops\n",
    "In most programming languages, a loop is a control flow statement that allows code to be executed repeatedly.\n",
    "\n",
    "\n",
    "## (DO) WHILE loop\n",
    "The `WHILE` loop can be thought of as a repeating if statement, using a **Boolean** condition. \n",
    "\n",
    "> Try this code"
   ]
  },
  {
   "cell_type": "code",
   "execution_count": null,
   "metadata": {
    "dotnet_interactive": {
     "language": "xsharp"
    },
    "polyglot_notebook": {
     "kernelName": "xsharp"
    }
   },
   "outputs": [],
   "source": [
    "var counter := 1\n",
    "WHILE counter <= 10\n",
    "    ? i\"Using WHILE in XSharp, the counter is {counter}.\"\n",
    "    counter += 1\n",
    "END"
   ]
  },
  {
   "cell_type": "markdown",
   "metadata": {},
   "source": [
    "***How does it works ?***  \n",
    "`WHILE` check the condition `counter <= 10` :  \n",
    "If **TRUE**, it executes the loop. Then it checks it again. It will keep going through the loop until the condition is **FALSE**. \n",
    "\n",
    "You have to keep in mind that in such repetition, the **condition** is evaluated **before** entering the loop and the statements execution.\n",
    "\n",
    "\n",
    "In XSharp, you can write it with several syntaxes, inherit from the xBase roots of the language. You can write :  \n",
    "`DO WHILE` or `WHILE`  \n",
    "`END DO` or `ENDDO` or `END`\n",
    "\n",
    "The `counter` increment can also be written using several syntaxes that are functionnaly equivalent :  \n",
    "`counter += 1`  \n",
    "`counter := counter + 1`  \n",
    "`counter++`  \n",
    "\n",
    "> Give yourself a try. Use these different syntaxes in the previous code cell."
   ]
  },
  {
   "cell_type": "markdown",
   "metadata": {},
   "source": [
    "<span style=\"color:red\">\n",
    "Beware of Infinite loops\n",
    "</span>"
   ]
  },
  {
   "cell_type": "markdown",
   "metadata": {},
   "source": [
    "It's easy to accidentally create a infinite loop : Forget the increment, Write a wrong exit condition, ....  \n",
    "Be aware that trying that inside an **XSharp Notebook** is a very *bad idea*, because we will have **no way to exit the loop**, except **killing** the Visual Studio Code process... ;)"
   ]
  },
  {
   "cell_type": "markdown",
   "metadata": {},
   "source": [
    "### REPEAT loop\n",
    "In such repetition, the statements are executed **before** the loop **condition**, so they will be executed *at least once*.  \n",
    "You will notice that the condition is placed after the **UNTIL** keyword.\n",
    "\n",
    "> Let's try to execute the same loop with the new syntax"
   ]
  },
  {
   "cell_type": "code",
   "execution_count": null,
   "metadata": {
    "dotnet_interactive": {
     "language": "xsharp"
    },
    "polyglot_notebook": {
     "kernelName": "xsharp"
    }
   },
   "outputs": [],
   "source": [
    "var counter := 1\n",
    "REPEAT \n",
    "    ? i\"Using REPEAT in XSharp, the counter is {counter}.\"\n",
    "    counter += 1\n",
    "UNTIL counter > 10"
   ]
  },
  {
   "cell_type": "markdown",
   "metadata": {},
   "source": [
    "You can also notice that it is the opposite of the previous one.  \n",
    "In XSharp, the logical **Not** *operator* can be written in seveval ways. So to write the opposite condition, we could also have written :  \n",
    "`!(counter <= 10)`  \n",
    "`NOT(counter <= 10)`  \n",
    "`.NOT.(counter <= 10)`\n",
    "\n",
    "> Modify the previous code to test"
   ]
  },
  {
   "cell_type": "markdown",
   "metadata": {},
   "source": [
    "### FOR loop\n",
    "A **FOR** loop functions by running a section of code repeatedly for a specified amount of times.\n",
    "\n",
    "> Try this"
   ]
  },
  {
   "cell_type": "code",
   "execution_count": null,
   "metadata": {
    "dotnet_interactive": {
     "language": "xsharp"
    },
    "polyglot_notebook": {
     "kernelName": "xsharp"
    }
   },
   "outputs": [],
   "source": [
    "LOCAL i AS INT\n",
    "FOR i := 1 TO 10\n",
    "    ? i\"Using FOR in XSharp, the counter is {i}.\"\n",
    "NEXT"
   ]
  },
  {
   "cell_type": "markdown",
   "metadata": {},
   "source": [
    "First, we had to declare the variable that will hold the counter.  \n",
    "Then, after the **FOR** keyword we specify the *start value*, and after the **TO** keyword we specify the *end value*.  \n",
    "You can notice than we did not indicate the increment value !? Because, *per default*, the counter is incremented by 1. After the operation, the counter value is checked against the *end value* : If equal or greater, the loop ends.\n",
    "\n",
    "Notice that you can change the value of the incrementation by indicating a **STEP** keyword at the end of the line, and give the value of the increment.\n",
    "\n",
    "> Modify the previous code, to move by 2."
   ]
  },
  {
   "cell_type": "markdown",
   "metadata": {},
   "source": [
    "### EXIT and LOOP\n",
    "All the loops are evaluating a condition for the execution of the statements.  \n",
    "But some times, these statements will need to break the loop, or to repeat it without executing the latest statements, you can do it :  \n",
    "- EXIT will jump to the statement immediately following the corresponding ENDDO or NEXT statement.\n",
    "- LOOP will jump to the top the loop"
   ]
  },
  {
   "cell_type": "code",
   "execution_count": null,
   "metadata": {
    "dotnet_interactive": {
     "language": "xsharp"
    },
    "polyglot_notebook": {
     "kernelName": "xsharp"
    }
   },
   "outputs": [],
   "source": [
    "var counter := 1\n",
    "REPEAT \n",
    "    ? i\"Using REPEAT in XSharp, the counter is {counter}.\"\n",
    "    counter += 1\n",
    "    IF counter >= 7\n",
    "        EXIT\n",
    "    ENDIF\n",
    "UNTIL counter > 10"
   ]
  },
  {
   "cell_type": "markdown",
   "metadata": {},
   "source": [
    "## Sandbox\n",
    "\n",
    "> Make a loop that counts backwards from 20 To 10\n",
    "\n",
    "> Make a loop that counts forward by 2.\n",
    "\n",
    "> Make a loop that counts from 7 to 22.\n",
    "\n",
    "> Bonus: Make the above with all three loop types."
   ]
  },
  {
   "cell_type": "code",
   "execution_count": null,
   "metadata": {
    "dotnet_interactive": {
     "language": "xsharp"
    },
    "polyglot_notebook": {
     "kernelName": "xsharp"
    }
   },
   "outputs": [],
   "source": [
    "? \"Sandbox\""
   ]
  }
 ],
 "metadata": {
  "kernelspec": {
   "display_name": ".NET (C#)",
   "language": "C#",
   "name": ".net-csharp"
  },
  "polyglot_notebook": {
   "kernelInfo": {
    "defaultKernelName": "csharp",
    "items": [
     {
      "aliases": [],
      "languageName": "csharp",
      "name": "csharp"
     },
     {
      "aliases": [],
      "languageName": "X#",
      "name": "xsharp"
     }
    ]
   }
  }
 },
 "nbformat": 4,
 "nbformat_minor": 2
}
