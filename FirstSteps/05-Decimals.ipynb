{
 "cells": [
  {
   "cell_type": "markdown",
   "metadata": {},
   "source": [
    "# Load the *XSharp Language kernel*."
   ]
  },
  {
   "cell_type": "code",
   "execution_count": null,
   "metadata": {
    "dotnet_interactive": {
     "language": "csharp"
    },
    "polyglot_notebook": {
     "kernelName": "csharp"
    }
   },
   "outputs": [],
   "source": [
    "// <-= Press on the Arrow to run Me\n",
    "#r \"nuget:XSharpInteractive\""
   ]
  },
  {
   "cell_type": "markdown",
   "metadata": {},
   "source": [
    "# Decimals\n",
    "`In Algebra, decimals are one of the types of numbers, which has a whole number and the fractional part separated by a decimal point. `\n",
    "\n",
    "### Doubles: Precision and Size\n",
    "Doubles variables belong to the previous definition. They can hold and answer in floating point.\n",
    "\n",
    "Let's repeat the same code as from the beginning of previous Notebook, and see the difference.\n",
    "\n",
    "> Try this code.  \n",
    "> But if we keep the **var** keyword, the compiler will *guess* an Integer.  \n",
    "> So we will have to force the type, either during assignment, or during declaration : we will show you both.  \n",
    "\n",
    "\n",
    "> and by the way <span style=\"color:green\">**//**</span> indicate that everything after is a comment, so will not be evaluated.  "
   ]
  },
  {
   "cell_type": "code",
   "execution_count": null,
   "metadata": {
    "dotnet_interactive": {
     "language": "xsharp"
    },
    "polyglot_notebook": {
     "kernelName": "xsharp"
    }
   },
   "outputs": [],
   "source": [
    "var a := (double)7          // cast-operation => We force the type during the assignment\n",
    "LOCAL b := 4 AS DOUBLE      // Declaration and assignment\n",
    "var c := 3.0                // another way is to specify a decimal part using .\n",
    "var d := (a + b) / c        // all values are double, so the result is a double too\n",
    "var e := (a + b) % c\n",
    "? i\"quotient: {d}\"\n",
    "? i\"remainder: {e}\""
   ]
  },
  {
   "cell_type": "markdown",
   "metadata": {},
   "source": [
    "### Size of a Double\n",
    "As for Integers, Double have a limit to their size.\n"
   ]
  },
  {
   "cell_type": "code",
   "execution_count": null,
   "metadata": {
    "dotnet_interactive": {
     "language": "xsharp"
    },
    "polyglot_notebook": {
     "kernelName": "xsharp"
    }
   },
   "outputs": [],
   "source": [
    "VAR min := double.MinValue\n",
    "VAR max := double.MaxValue\n",
    "? i\"The range for Double is from {min} to {max}.\""
   ]
  },
  {
   "cell_type": "markdown",
   "metadata": {},
   "source": [
    "That's large! Much larger than integers.\n",
    "\n",
    "But, doubles aren't perfect: They also have rounding errors.\n",
    "\n",
    "Let's check out"
   ]
  },
  {
   "cell_type": "code",
   "execution_count": null,
   "metadata": {
    "dotnet_interactive": {
     "language": "xsharp"
    },
    "polyglot_notebook": {
     "kernelName": "xsharp"
    }
   },
   "outputs": [],
   "source": [
    "VAR oneThird := 1.0 / 3.0\n",
    "? oneThird"
   ]
  },
  {
   "cell_type": "markdown",
   "metadata": {},
   "source": [
    "1/3 converted to a decimal value should be 3 repeating infinitely, but as double have limits this will stop, and that's good to know when you want to work with extremely precise value."
   ]
  },
  {
   "cell_type": "markdown",
   "metadata": {},
   "source": [
    "### Decimal type\n",
    "The `Decimal` type is similar to `Double`: they don't have a big range, but they have a higher precision.\n",
    "\n",
    "> What is the range for Decimal type ?"
   ]
  },
  {
   "cell_type": "code",
   "execution_count": null,
   "metadata": {
    "dotnet_interactive": {
     "language": "xsharp"
    },
    "polyglot_notebook": {
     "kernelName": "xsharp"
    }
   },
   "outputs": [],
   "source": [
    "VAR min := decimal.MinValue\n",
    "VAR max := decimal.MaxValue\n",
    "? i\"The range for decimal is from {min} to {max}.\""
   ]
  },
  {
   "cell_type": "markdown",
   "metadata": {},
   "source": [
    "> But how to Double compare to Decimal in precision ?"
   ]
  },
  {
   "cell_type": "code",
   "execution_count": null,
   "metadata": {
    "dotnet_interactive": {
     "language": "xsharp"
    },
    "polyglot_notebook": {
     "kernelName": "xsharp"
    }
   },
   "outputs": [],
   "source": [
    "VAR a := 1.0\n",
    "VAR b := 3.0\n",
    "? a / b\n",
    "\n",
    "VAR c := (decimal) 1.0\n",
    "VAR d := (decimal) 3.0\n",
    "? c / d"
   ]
  },
  {
   "cell_type": "markdown",
   "metadata": {},
   "source": [
    "You can see that `Decimal` have a higher precision than `Double`"
   ]
  },
  {
   "cell_type": "markdown",
   "metadata": {},
   "source": [
    "## Sandbox\n",
    "\n",
    "Ok, let's do some Math using Double or Decimal.\n",
    "\n",
    "> The distance between the Earth and the Moon is 384,467 km.  \n",
    "> If we use the distance to the moon in a math problem, would you use Double or Decimal ?  \n",
    "> What is value in inches ? And by the way, the distance to the Sun is 149.597.870,7 km\n",
    "\n",
    "> Can you find the area of a circle with a radius of 2.5 cm ?\n",
    "> What is the result if you change the number type, like int, short, double, decimal?  \n",
    "> Hint : Instead of using 3.14159 you can write `Math.PI`\n",
    "\n"
   ]
  },
  {
   "cell_type": "code",
   "execution_count": null,
   "metadata": {
    "dotnet_interactive": {
     "language": "xsharp"
    },
    "polyglot_notebook": {
     "kernelName": "xsharp"
    }
   },
   "outputs": [],
   "source": [
    "? \"Sandbox\"\n"
   ]
  }
 ],
 "metadata": {
  "kernelspec": {
   "display_name": ".NET (C#)",
   "language": "C#",
   "name": ".net-csharp"
  },
  "polyglot_notebook": {
   "kernelInfo": {
    "defaultKernelName": "csharp",
    "items": [
     {
      "aliases": [],
      "languageName": "csharp",
      "name": "csharp"
     },
     {
      "aliases": [],
      "languageName": "X#",
      "name": "xsharp"
     }
    ]
   }
  }
 },
 "nbformat": 4,
 "nbformat_minor": 2
}
