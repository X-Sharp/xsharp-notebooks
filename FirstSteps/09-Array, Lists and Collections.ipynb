{
 "cells": [
  {
   "cell_type": "markdown",
   "metadata": {},
   "source": [
    "# Load the *XSharp Language kernel*."
   ]
  },
  {
   "cell_type": "code",
   "execution_count": null,
   "metadata": {
    "dotnet_interactive": {
     "language": "csharp"
    },
    "polyglot_notebook": {
     "kernelName": "csharp"
    }
   },
   "outputs": [],
   "source": [
    "// <-= Press on the Arrow to run Me\n",
    "#r \"nuget:XSharpInteractive,1.0.0\""
   ]
  },
  {
   "cell_type": "markdown",
   "metadata": {},
   "source": [
    "# Arrays, Lists and Collections\n",
    "\n",
    "Arrays, lists, and collections can be pretty useful.  \n",
    "But even if they looks the same, there are some differences that we will see below."
   ]
  },
  {
   "cell_type": "markdown",
   "metadata": {},
   "source": [
    "### Array\n",
    "An Array define a fixed amount of values that have the same type.  \n",
    "It means that you cannot *grow* or *shrink* the array : its size has to be specified when you define the array.   \n",
    "You access the values by indicating an index into the array.  \n",
    "\n",
    "`Warning !!`  \n",
    "With X# Arrays, per default, array indices starts at 1 (one)\n",
    "\n",
    "> Try the following code. Change the size, and try to fill it from the end to the beginning."
   ]
  },
  {
   "cell_type": "code",
   "execution_count": null,
   "metadata": {
    "dotnet_interactive": {
     "language": "xsharp"
    },
    "polyglot_notebook": {
     "kernelName": "xsharp"
    }
   },
   "outputs": [],
   "source": [
    "LOCAL DIM z[10] AS INT\n",
    "FOR VAR i := 1 TO 10\n",
    "    z[i] := i\n",
    "NEXT\n",
    "FOR VAR i := 1 TO 10\n",
    "    ? z[i]\n",
    "NEXT"
   ]
  },
  {
   "cell_type": "markdown",
   "metadata": {},
   "source": [
    "You can also pre-fill the array with values, but you will have to indicate the type of elements between *chevrons* `< >`. **X#** will guess the size according to the number of values you have set.  \n",
    "Then you can use the property `Length` to check the size of the array."
   ]
  },
  {
   "cell_type": "code",
   "execution_count": null,
   "metadata": {
    "dotnet_interactive": {
     "language": "xsharp"
    },
    "polyglot_notebook": {
     "kernelName": "xsharp"
    }
   },
   "outputs": [],
   "source": [
    "VAR devTeam := <string>{ \"Chris\", \"Fabrice\", \"Nikos\", \"Robert\" }\n",
    "FOR VAR i := 1 TO devTeam:Length\n",
    "    ? devTeam[i]\n",
    "NEXT"
   ]
  },
  {
   "cell_type": "markdown",
   "metadata": {},
   "source": [
    "### List\n",
    "A List is a collection of strongly typed objects that can be accessed by index and having methods for sorting, searching, and modifying list.  \n",
    "Dotnet offers different types of List :\n",
    "- `ArrayList`, that is a list of `Object`s, so each element can have a different type than the others.\n",
    "- `List<T>`, where `<T>` indicates a strong type, so each element in the list has the same type.\n",
    "\n",
    "___\n",
    "\n",
    "**XSharp** with its dialects also offers support for differents type of arrays and lists.  \n",
    "From the xBase root, it inherits from a particular type called `USUAL`; it was before Object-Oriented Programming so before the `OBJECT` type. With it you can create dynamic arrays that behave a bit like ArrayList but the Functions/Methods used to manipulate it are different.  \n",
    "Unfortunately, we cannot show you these as the **XSharpInteractive** engine only support the **Core Dialect**, that doesn't support the `USUAL` type.\n",
    "___"
   ]
  },
  {
   "cell_type": "markdown",
   "metadata": {},
   "source": [
    "### ArrayList\n",
    "ArrayList is a Dotnet type. You will have to create an Object to create the List. \n",
    "\n",
    "*( If you are not familiar with Classes, Objects, Methods, Properties, ... please have a look at the corresponding [Notebook](). )*\n",
    "\n",
    "When it comes to create an Object, some languages uses a special keyword usually **new** in front of the name of the **CLASS** you want to instantiate.  \n",
    "With **X#**, to indicate the creation of an object, you specify an open `{` and close `}` *curly brace* after the name of the **CLASS**.\n",
    "\n",
    "When you want to use a **CLASS** that appears inside a **NAMESPACE**, you have two solutions :\n",
    "- Indicate it's Fully Qualified Named, here it would be `System.Collections.ArrayList`\n",
    "- Indicate the NAMESPACE in a `using` clause as below, and the compiler will resolve the name by itelf\n",
    "\n",
    "> Try the following code."
   ]
  },
  {
   "cell_type": "code",
   "execution_count": null,
   "metadata": {
    "dotnet_interactive": {
     "language": "xsharp"
    },
    "polyglot_notebook": {
     "kernelName": "xsharp"
    }
   },
   "outputs": [],
   "source": [
    "using System.Collections \n",
    "\n",
    "var myArray := ArrayList{}\n",
    "myArray:Add( \"XSharp\" )\n",
    "myArray:Add( 2.20 )\n",
    "myArray:Add( True )\n",
    "\n",
    "FOR VAR i := 0 TO myArray:Count-1\n",
    "    ? myArray[i]\n",
    "NEXT"
   ]
  },
  {
   "cell_type": "markdown",
   "metadata": {},
   "source": [
    "So, let's have a deeper look at the code :  \n",
    "- `myArray` is an Object of type ArraList\n",
    "- `Add()` is a method of the Class we are using to insert a value at the end of the List\n",
    "- `Count` is the counter part of `Length` in Array : A `Length` is fixed, so it used for Array. `Count` may change, so it applies to List, Collections,...\n",
    "\n",
    "Warning !!  \n",
    "`ArrayList` is a DotNet type, so the indices started at 0 (zero).\n",
    "\n",
    "> Modify the above cell code : Add more elements with mixed types, Specify the Fully Qualified Name for ArrayList, ..."
   ]
  }
 ],
 "metadata": {
  "kernelspec": {
   "display_name": ".NET (C#)",
   "language": "C#",
   "name": ".net-csharp"
  },
  "polyglot_notebook": {
   "kernelInfo": {
    "defaultKernelName": "csharp",
    "items": [
     {
      "aliases": [],
      "languageName": "csharp",
      "name": "csharp"
     },
     {
      "aliases": [],
      "languageName": "X#",
      "name": "xsharp"
     }
    ]
   }
  }
 },
 "nbformat": 4,
 "nbformat_minor": 2
}
