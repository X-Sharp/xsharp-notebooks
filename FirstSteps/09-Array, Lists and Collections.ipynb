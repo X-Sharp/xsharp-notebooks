{
 "cells": [
  {
   "cell_type": "markdown",
   "metadata": {},
   "source": [
    "# Load the *XSharp Language kernel*."
   ]
  },
  {
   "cell_type": "code",
   "execution_count": null,
   "metadata": {
    "dotnet_interactive": {
     "language": "csharp"
    },
    "polyglot_notebook": {
     "kernelName": "csharp"
    }
   },
   "outputs": [],
   "source": [
    "// <-= Press on the Arrow to run Me\n",
    "#r \"nuget:XSharpInteractive,1.0.0\""
   ]
  },
  {
   "cell_type": "markdown",
   "metadata": {},
   "source": [
    "# Arrays, Lists and Collections\n",
    "\n",
    "Arrays, lists, and collections can be pretty useful.  \n",
    "But even if they looks the same, there are some differences that we will see below."
   ]
  },
  {
   "cell_type": "markdown",
   "metadata": {},
   "source": [
    "### Arrays\n",
    "An Array define a fixed amount of values that have the same type.  \n",
    "It means that you cannot *grow* or *shrink* the array : its size has to be specified when you define the array.   \n",
    "You access the values by indicating an index into the array.  \n",
    "`Warning !!` `In X#, per default, array indices starts at 1`\n",
    "\n",
    "> Try the following code. Change the size, and try to fill it from the end to the beginning."
   ]
  },
  {
   "cell_type": "code",
   "execution_count": null,
   "metadata": {
    "dotnet_interactive": {
     "language": "xsharp"
    },
    "polyglot_notebook": {
     "kernelName": "xsharp"
    }
   },
   "outputs": [],
   "source": [
    "LOCAL DIM z[10] AS INT\n",
    "FOR VAR i := 1 TO 10\n",
    "    z[i] := i\n",
    "NEXT\n",
    "FOR VAR i := 1 TO 10\n",
    "    ? z[i]\n",
    "NEXT"
   ]
  },
  {
   "cell_type": "markdown",
   "metadata": {},
   "source": [
    "You can also pre-fill the array with values, but you will have to indicate the type of elements between *chevrons* `< >`. X# will guess the size according to the number of values you have set.  \n",
    "Then you can use the property `Length` to check the size of the array."
   ]
  },
  {
   "cell_type": "code",
   "execution_count": null,
   "metadata": {
    "dotnet_interactive": {
     "language": "xsharp"
    },
    "polyglot_notebook": {
     "kernelName": "xsharp"
    }
   },
   "outputs": [],
   "source": [
    "VAR devTeam := <string>{ \"Chris\", \"Fabrice\", \"Nikos\", \"Robert\" }\n",
    "FOR VAR i := 1 TO devTeam:Length\n",
    "    ? devTeam[i]\n",
    "NEXT"
   ]
  }
 ],
 "metadata": {
  "kernelspec": {
   "display_name": ".NET (C#)",
   "language": "C#",
   "name": ".net-csharp"
  },
  "polyglot_notebook": {
   "kernelInfo": {
    "defaultKernelName": "csharp",
    "items": [
     {
      "aliases": [],
      "languageName": "csharp",
      "name": "csharp"
     },
     {
      "aliases": [],
      "languageName": "X#",
      "name": "xsharp"
     }
    ]
   }
  }
 },
 "nbformat": 4,
 "nbformat_minor": 2
}
