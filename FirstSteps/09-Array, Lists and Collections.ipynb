{
 "cells": [
  {
   "cell_type": "markdown",
   "metadata": {},
   "source": [
    "# Load the *XSharp Language kernel*."
   ]
  },
  {
   "cell_type": "code",
   "execution_count": null,
   "metadata": {
    "dotnet_interactive": {
     "language": "csharp"
    },
    "polyglot_notebook": {
     "kernelName": "csharp"
    }
   },
   "outputs": [],
   "source": [
    "// <-= Press on the Arrow to run Me\n",
    "#r \"nuget:XSharpInteractive,1.0.0\""
   ]
  },
  {
   "cell_type": "markdown",
   "metadata": {},
   "source": [
    "# Arrays, Lists and Collections\n",
    "\n",
    "Arrays, lists, and collections can be pretty useful.  \n",
    "But even if they looks the same, there are some differences that we will see below."
   ]
  },
  {
   "cell_type": "markdown",
   "metadata": {},
   "source": [
    "### Array\n",
    "An Array define a fixed amount of values that have the same type.  \n",
    "It means that you cannot *grow* or *shrink* the array : its size has to be specified when you define the array.   \n",
    "You access the values by indicating an index between *square brackets* `[]`  \n",
    "\n",
    "`Warning !!`  \n",
    "With X# Arrays, per default, array indices starts at 1 (one)\n",
    "\n",
    "> Try the following code. Change the size, and try to fill it from the end to the beginning."
   ]
  },
  {
   "cell_type": "code",
   "execution_count": null,
   "metadata": {
    "dotnet_interactive": {
     "language": "xsharp"
    },
    "polyglot_notebook": {
     "kernelName": "xsharp"
    }
   },
   "outputs": [],
   "source": [
    "LOCAL DIM z[10] AS INT\n",
    "FOR VAR i := 1 TO 10\n",
    "    z[i] := i\n",
    "NEXT\n",
    "FOR VAR i := 1 TO 10\n",
    "    ? z[i]\n",
    "NEXT"
   ]
  },
  {
   "cell_type": "markdown",
   "metadata": {},
   "source": [
    "You can also pre-fill the array with values, but you will have to indicate the type of elements between *chevrons* `< >`. **X#** will guess the size according to the number of values you have set.  \n",
    "Then you can use the property `Length` to check the size of the array."
   ]
  },
  {
   "cell_type": "code",
   "execution_count": null,
   "metadata": {
    "dotnet_interactive": {
     "language": "xsharp"
    },
    "polyglot_notebook": {
     "kernelName": "xsharp"
    }
   },
   "outputs": [],
   "source": [
    "VAR devTeam := <string>{ \"Chris\", \"Fabrice\", \"Nikos\", \"Robert\" }\n",
    "FOR VAR i := 1 TO devTeam:Length\n",
    "    ? devTeam[i]\n",
    "NEXT"
   ]
  },
  {
   "cell_type": "markdown",
   "metadata": {},
   "source": [
    "### List\n",
    "A List is a collection of strongly typed objects that can be accessed by index and having methods for sorting, searching, and modifying list.  \n",
    "Dotnet offers different types of List :\n",
    "- `ArrayList`, that is a list of `Object`s, so each element can have a different type than the others.\n",
    "- `List<T>`, where `<T>` indicates a strong type, so each element in the list has the same type.\n",
    "\n",
    "___\n",
    "\n",
    "**XSharp** with its dialects also offers support for differents type of arrays and lists.  \n",
    "From the xBase root, it inherits from a particular type called `USUAL`; it was before Object-Oriented Programming so before the `OBJECT` type. With it you can create dynamic arrays that behave a bit like ArrayList but the Functions/Methods used to manipulate it are different.  \n",
    "Unfortunately, we cannot show you these as the **XSharpInteractive** engine only support the **Core Dialect**, that doesn't support the `USUAL` type.\n",
    "___"
   ]
  },
  {
   "cell_type": "markdown",
   "metadata": {},
   "source": [
    "### ArrayList\n",
    "ArrayList is a Dotnet type. You will have to create an Object to create the List. \n",
    "\n",
    "*( If you are not familiar with Classes, Objects, Methods, Properties, ... please have a look at the corresponding [Notebook](). )*\n",
    "\n",
    "When it comes to create an Object, some languages uses a special keyword usually **new** in front of the name of the **CLASS** you want to instantiate.  \n",
    "With **X#**, to indicate the creation of an object, you specify an open `{` and close `}` *curly brace* after the name of the **CLASS**.\n",
    "\n",
    "When you want to use a **CLASS** that appears inside a **NAMESPACE**, you have two solutions :\n",
    "- Indicate it's Fully Qualified Named, here it would be `System.Collections.ArrayList`\n",
    "- Indicate the NAMESPACE in a `using` clause as below, and the compiler will resolve the name by itelf\n",
    "\n",
    "> Try the following code."
   ]
  },
  {
   "cell_type": "code",
   "execution_count": null,
   "metadata": {
    "dotnet_interactive": {
     "language": "xsharp"
    },
    "polyglot_notebook": {
     "kernelName": "xsharp"
    }
   },
   "outputs": [],
   "source": [
    "using System.Collections \n",
    "\n",
    "var myArray := ArrayList{}\n",
    "myArray:Add( \"XSharp\" )\n",
    "myArray:Add( 2.20 )\n",
    "myArray:Add( True )\n",
    "\n",
    "FOR VAR i := 0 TO myArray:Count-1\n",
    "    ? myArray[i]\n",
    "NEXT"
   ]
  },
  {
   "cell_type": "markdown",
   "metadata": {},
   "source": [
    "Let's have a deeper look at the code :  \n",
    "- `using System.Collections` clause indicate to the compiler where to look if we use an unknown Type\n",
    "- `myArray` is an Object of type ArraList\n",
    "- `Add()` is a method of the Class we are using to insert a value at the end of the List\n",
    "- `Count` is the counter part of `Length` in Array : A `Length` is fixed, so it used for Array. `Count` may change, so it applies to List, Collections,...\n",
    "- `[]`, as with array, is the operator that allows to access a element by its Index.\n",
    "\n",
    "Warning !!  \n",
    "`ArrayList` is a DotNet type, so the indices started at 0 (zero).\n",
    "\n",
    "> Modify the above cell code : Add more elements with mixed types, Specify the Fully Qualified Name for ArrayList, ..."
   ]
  },
  {
   "cell_type": "markdown",
   "metadata": {},
   "source": [
    "### List\\<T\\>\n",
    "This type of List is also a Dotnet type.  \n",
    "The notation `<T>` indicate that you will have to specify a Type for the List, and that ALL elements of the List should be of that particular Type.  \n",
    "\n",
    "This type of notation, where a type appears as a *kind of* parameter, is called **Generic**.  \n",
    "Generics make it possible to design classes that defer the specification of one or more type parameters until you use the class or method in your code. The main advantage is that contrary to a parameter that is resolved at *Run Time*, the type is checked at *Compile Time*.\n",
    "\n",
    "So, it is a better practice to use Generics like **List<T>** than less-typed **ArrayList**. \n",
    "\n",
    "The List<T> is declared into the `System.Collection.Generic` Namespace.\n",
    "\n",
    "> Try this code."
   ]
  },
  {
   "cell_type": "code",
   "execution_count": null,
   "metadata": {
    "dotnet_interactive": {
     "language": "xsharp"
    },
    "polyglot_notebook": {
     "kernelName": "xsharp"
    }
   },
   "outputs": [],
   "source": [
    "using System.Collections.Generic\n",
    "VAR myList := List<Int>{}\n",
    "FOR VAR i := 1 TO 10\n",
    "    myList:Add( i )\n",
    "NEXT\n",
    "FOR VAR i := 1 TO 10\n",
    "    ? myList[i - 1]\n",
    "NEXT"
   ]
  },
  {
   "cell_type": "markdown",
   "metadata": {},
   "source": [
    "And you can also initialize a `List<T>` when you create the Object.  \n",
    "Here we give an Array to fill the `List<String>` !!"
   ]
  },
  {
   "cell_type": "code",
   "execution_count": null,
   "metadata": {
    "dotnet_interactive": {
     "language": "xsharp"
    },
    "polyglot_notebook": {
     "kernelName": "xsharp"
    }
   },
   "outputs": [],
   "source": [
    "using System.Collections.Generic\n",
    "VAR mySuperHeroes := List<String>{ <string>{\"Cyclops\", \"Beast\", \"Marvel Girl\", \"Angel\"} }\n",
    "FOR VAR i := 1 TO mySuperHeroes:Count\n",
    "    ? mySuperHeroes[i - 1]\n",
    "NEXT"
   ]
  },
  {
   "cell_type": "markdown",
   "metadata": {},
   "source": [
    "### Collection\n",
    "A Collection looks very similar to a List, except that you cannot access an element using its index : You will have to enumerate the Collection until you find, or count, what you are looking for.\n",
    "\n",
    "Interestingly, List and Array are kinds of Collection : Which means we can also enumerate these types.\n",
    "\n",
    "To proceed, we will have another Loop structure : `FOREACH` ... `IN` ...\n",
    "\n",
    "> Let's enumerate the List defined in the previous code block."
   ]
  },
  {
   "cell_type": "code",
   "execution_count": null,
   "metadata": {
    "dotnet_interactive": {
     "language": "xsharp"
    },
    "polyglot_notebook": {
     "kernelName": "xsharp"
    }
   },
   "outputs": [],
   "source": [
    "using System.Collections.Generic\n",
    "VAR mySuperHeroes := List<String>{ <string>{\"Cyclops\", \"Beast\", \"Marvel Girl\", \"Angel\"} }\n",
    "\n",
    "FOREACH VAR hero IN mySuperHeroes\n",
    "    ? hero\n",
    "NEXT\n",
    "\n",
    "FOREACH hero AS STRING IN mySuperHeroes\n",
    "    ? hero\n",
    "NEXT\n"
   ]
  },
  {
   "cell_type": "markdown",
   "metadata": {},
   "source": [
    "Let's have a deeper look at the code :  \n",
    "- `FOREACH`, indicate we will enumerate a Collection (Or a List or an Array)\n",
    "- `hero`, here it indicates the variable that will temporary contain the element we are extracting from the Collection. You can see that **X#** allows to let the compiler guess the type using **var**, as we are using typed list, or you can specify the type.\n",
    "- `IN`, is used to specify in which Collection you are extracting the element"
   ]
  },
  {
   "cell_type": "markdown",
   "metadata": {},
   "source": [
    "# Sandbox\n",
    "\n",
    "\n",
    "> Make a list of groceries, and call the List `groceries`.  \n",
    "> Can you print out `\"buy <grocery>!\"` for every item?  \n",
    "> What's the 3rd item of the list? Is that the same as groceries[3]?  \n",
    "> Make sure to add \"toothpaste\".  \n",
    "> Remove your least favorite item.  \n",
    "> Now what's third on the list?  "
   ]
  },
  {
   "cell_type": "code",
   "execution_count": null,
   "metadata": {
    "dotnet_interactive": {
     "language": "xsharp"
    },
    "polyglot_notebook": {
     "kernelName": "xsharp"
    }
   },
   "outputs": [],
   "source": [
    "? \"Sandbox\""
   ]
  }
 ],
 "metadata": {
  "kernelspec": {
   "display_name": ".NET (C#)",
   "language": "C#",
   "name": ".net-csharp"
  },
  "polyglot_notebook": {
   "kernelInfo": {
    "defaultKernelName": "csharp",
    "items": [
     {
      "aliases": [],
      "languageName": "csharp",
      "name": "csharp"
     },
     {
      "aliases": [],
      "languageName": "X#",
      "name": "xsharp"
     }
    ]
   }
  }
 },
 "nbformat": 4,
 "nbformat_minor": 2
}
