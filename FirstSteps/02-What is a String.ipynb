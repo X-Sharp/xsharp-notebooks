{
 "cells": [
  {
   "cell_type": "markdown",
   "metadata": {},
   "source": [
    "# Load the *XSharp Language kernel*."
   ]
  },
  {
   "cell_type": "code",
   "execution_count": null,
   "metadata": {
    "dotnet_interactive": {
     "language": "csharp"
    },
    "polyglot_notebook": {
     "kernelName": "csharp"
    }
   },
   "outputs": [],
   "source": [
    "// <-= Press on the Arrow to run Me\n",
    "#r \"nuget:XSharpInteractive,1.0.0\""
   ]
  },
  {
   "cell_type": "markdown",
   "metadata": {},
   "source": [
    "# What is a String?\n",
    "\n",
    "A string is a sequence of characters. It is immutable, which means you cannot modify it : each operation on a string will create a new *immutable* string.\n",
    "\n",
    "## Strings and String Literals\n",
    "\n",
    "`firstMember` and `secondMember` are variables typed as string.  \n",
    "The line after the `?` is also a string : It's a string literal.  \n",
    "A string literal is text what represents a constant string, it is surrounded by double quotes.\n",
    "\n",
    "> Run the following code, and check the output.  \n",
    "> Then, modify the variables content with new names and try again."
   ]
  },
  {
   "cell_type": "code",
   "execution_count": null,
   "metadata": {
    "dotnet_interactive": {
     "language": "xsharp"
    },
    "polyglot_notebook": {
     "kernelName": "xsharp"
    }
   },
   "outputs": [],
   "source": [
    "var firstMember := \"Robert\"\n",
    "var secondMember := \"Chris\"\n",
    "\n",
    "? i\"{firstMember} and {secondMember} are part of the XSharp DevTeam.\""
   ]
  },
  {
   "cell_type": "markdown",
   "metadata": {},
   "source": [
    "## String Properties\n",
    "\n",
    "A variable of type `STRING` is an *object* of type `STRING` than contains a collection of characters.  \n",
    "This *object* also has some properties, like the number of characters in the collection called `Length`.  \n",
    "When using an *Object*, in order to select a *Property* you will seperate the **object name** and the **property name** by a semi-colon **:**, this semi-colon is called a *selector*."
   ]
  },
  {
   "cell_type": "code",
   "execution_count": null,
   "metadata": {
    "dotnet_interactive": {
     "language": "xsharp"
    },
    "polyglot_notebook": {
     "kernelName": "xsharp"
    }
   },
   "outputs": [],
   "source": [
    "? i\"The name {firstMember} has {firstMember:Length} letters.\"\n",
    "? i\"The name {secondMember} has {secondMember:Length} letters.\""
   ]
  },
  {
   "cell_type": "markdown",
   "metadata": {},
   "source": [
    "## String Methods\n",
    "\n",
    "The same way you can call the *Property* of an *Object*, you can call a *Method* on an *Object*.  \n",
    "Usually, a *Property* contains a **State** related to the Object. (it is usuallay a *noun*)   \n",
    "A *Method* is an **Operation** applied or using the Object (it is using a action *verb*). You can recognize it as it ends with parenthesis.    \n",
    "\n",
    "### Removing the leading and the trailing spaces\n",
    "\n",
    "Suppose your strings have leading or trailing spaces (also called white space) that you don't want to show.   \n",
    "You want to remove these spaces from the strings. The **Trim()** method and related methods **TrimStart()** and **TrimEnd()** do that work. You can just use those methods to remove leading and trailing spaces.\n",
    "\n",
    "> Try the following code. The exclamation points are there to help you see all the white space."
   ]
  },
  {
   "cell_type": "code",
   "execution_count": null,
   "metadata": {
    "dotnet_interactive": {
     "language": "xsharp"
    },
    "polyglot_notebook": {
     "kernelName": "xsharp"
    }
   },
   "outputs": [],
   "source": [
    "var message := \"         XSharp runs         \"\n",
    "? i\"!{message}!\"\n",
    "\n",
    "var trimmedMessage := message:TrimStart()\n",
    "? i\"!{trimmedMessage}!\"\n",
    "\n",
    "trimmedMessage := message:TrimEnd()\n",
    "? i\"!{trimmedMessage}!\"\n",
    "\n",
    "trimmedMessage := message:Trim()\n",
    "? i\"!{trimmedMessage}!\""
   ]
  },
  {
   "cell_type": "markdown",
   "metadata": {},
   "source": [
    "### Replace\n",
    "\n",
    "You can also replace substrings with other values.  \n",
    "For example, in the code below, you can take \"XSharp runs\" and replace \"runs\" with \"rocks\"\n",
    "\n",
    "> Try it. Make your own change"
   ]
  },
  {
   "cell_type": "code",
   "execution_count": null,
   "metadata": {
    "dotnet_interactive": {
     "language": "xsharp"
    },
    "polyglot_notebook": {
     "kernelName": "xsharp"
    }
   },
   "outputs": [],
   "source": [
    "var message := \"XSharp runs\"\n",
    "? message\n",
    "message := message:Replace(\"runs\",\"rocks\")\n",
    "? message"
   ]
  },
  {
   "cell_type": "markdown",
   "metadata": {},
   "source": [
    "### Change casing\n",
    "\n",
    "Sometimes you need to change your string to be UPPERCASE or lowercase.  \n",
    "The methods ToUpper() and ToLower() are what you will use.\n",
    "\n",
    "> Try to change the casing so the first message won't be shouted ! :)\n"
   ]
  },
  {
   "cell_type": "code",
   "execution_count": null,
   "metadata": {
    "dotnet_interactive": {
     "language": "xsharp"
    },
    "polyglot_notebook": {
     "kernelName": "xsharp"
    }
   },
   "outputs": [],
   "source": [
    "var sayItLoud := \"Do you like XSharp Notebooks?\"\n",
    "? sayItLoud:ToUpper()\n",
    "var whisper := \"Are you Whispering ?\"\n",
    "? whisper:ToLower()\n"
   ]
  },
  {
   "cell_type": "markdown",
   "metadata": {},
   "source": [
    "## Contains\n",
    "\n",
    "Can you check if a string exist inside another string ?  \n",
    "You can use **Contains()** to check : this method returns a **boolean**. \n",
    "\n",
    "> A **boolean** is a type represented by the keyword ***bool*** that can hold two values: **true** or **false**. \n",
    "\n",
    "In this case, the method returns **true** when the searched string is found, and **false** when it's not found.\n",
    "\n",
    "> Try the following code, and change it.   \n",
    "> Does case matter?  \n",
    "> Can you store the return value of the Contains() method in a variable (Remember the type of the result is a *bool*.)"
   ]
  },
  {
   "cell_type": "code",
   "execution_count": null,
   "metadata": {
    "dotnet_interactive": {
     "language": "xsharp"
    },
    "polyglot_notebook": {
     "kernelName": "xsharp"
    }
   },
   "outputs": [],
   "source": [
    "var songLyrics := \"Somewhere, over the rainbow\"\n",
    "Console.WriteLine(songLyrics:Contains(\"rainbow\"))\n",
    "Console.WriteLine(songLyrics:Contains(\"showers\"))"
   ]
  },
  {
   "cell_type": "markdown",
   "metadata": {},
   "source": [
    "## StartsWith and EndsWith\n",
    "\n",
    "**StartsWith()** and **EndsWith()** are methods similar to **Contains()**, but more specific.  \n",
    "You can use them to check if a string starts with or ends with the another string.  \n",
    "It has the same structure as **Contains()**, that is: `container.StartsWith(searchedContent)`\n",
    "\n",
    "> Ok, let's try it  \n",
    "> In the following code, try searching the line to see if it starts with \"Somewhere\" or \"There\".  \n",
    "> Then, see if the code ends with \"rainbow\" or \"showers\"."
   ]
  },
  {
   "cell_type": "code",
   "execution_count": null,
   "metadata": {
    "dotnet_interactive": {
     "language": "xsharp"
    },
    "polyglot_notebook": {
     "kernelName": "xsharp"
    }
   },
   "outputs": [],
   "source": [
    "var songLyrics := \"Somewhere, over the rainbow\""
   ]
  },
  {
   "cell_type": "markdown",
   "metadata": {},
   "source": [
    "## Sandbox\n",
    "\n",
    "Ok, now try your self to work and check what you have learned in the beginning of the Notebook.  \n",
    "\n",
    "Try these exercises :\n",
    "\n",
    "\n",
    "> Create three variables that contains three different names.  \n",
    "> Find the length of the first person, make the second person uppercase, and the third person lowercase.  \n",
    "> How many letters are in \"XSharp interactive Notebooks\"?\n",
    "> How many characters are taken out when you trim \" XSharp interactive Notebooks \"? Does trimming take out the spaces in the middle of the string?\n",
    "> Let your creativity drives you !"
   ]
  },
  {
   "cell_type": "code",
   "execution_count": null,
   "metadata": {
    "dotnet_interactive": {
     "language": "xsharp"
    },
    "polyglot_notebook": {
     "kernelName": "xsharp"
    }
   },
   "outputs": [],
   "source": [
    "? \"Sandbox\"\n"
   ]
  },
  {
   "cell_type": "markdown",
   "metadata": {},
   "source": [
    "## Sandbox 2\n",
    "\n",
    "Now, let's continue with more content.\n",
    "\n",
    "Here are some ideas:\n",
    "\n",
    "> How many lines say rainbow? Which lines start with \"Skies\"? Which lines end with \"true\"?\n",
    "> Can you make some lines all uppercase and some lines all lowercase? If you change case, how does that affect Contains()?"
   ]
  },
  {
   "cell_type": "code",
   "execution_count": null,
   "metadata": {
    "dotnet_interactive": {
     "language": "xsharp"
    },
    "polyglot_notebook": {
     "kernelName": "xsharp"
    }
   },
   "outputs": [],
   "source": [
    "var line1 := \"Somewhere over the rainbow\"\n",
    "var line2 := \"Way up high\"\n",
    "var line3 := \"There's a land that I heard of once in a lullaby\"\n",
    "var line4 := \"Somewhere over the rainbow\"\n",
    "var line5 := \"Skies are blue\"\n",
    "var line6 := \"And the dreams that you dare to dream\"\n",
    "var line7 := \"Really do come true\""
   ]
  }
 ],
 "metadata": {
  "kernelspec": {
   "display_name": ".NET (C#)",
   "language": "C#",
   "name": ".net-csharp"
  },
  "polyglot_notebook": {
   "kernelInfo": {
    "defaultKernelName": "xsharp",
    "items": [
     {
      "aliases": [],
      "languageName": "xsharp",
      "name": "xsharp"
     }
    ]
   }
  }
 },
 "nbformat": 4,
 "nbformat_minor": 2
}
