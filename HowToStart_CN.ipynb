{
 "cells": [
  {
   "cell_type": "markdown",
   "metadata": {},
   "source": [
    "# 欢迎来到 XSharp Interactive\n",
    "\n",
    "如果您想使用我们的 XSharp 笔记本，那么首先需要加载 *XSharp Language kernel* .  \n",
    "每个笔记本都以相同的单元启动 :\n",
    ">#i \"nuget:C:\\XSharpInteractive\\\"  \n",
    "#r \"nuget:XSharpInteractive,1.0.0\"\n",
    "\n",
    "其内容如下 :\n",
    "\n",
    ">#i  \n",
    "\n",
    "这个 **i** 指明放置 `XSharpXSharpInteractive.1.0.0.nupkg` 文件的放置位置.  \n",
    "**千万不用忘记根据您的实际情况调整路径，然后执行 cell 中的内容.**\n",
    ">#r  \n",
    "\n",
    "这个 **r** 就表示运行加载文件：XSharp 的内核\n",
    "\n",
    "\n",
    "要运行代码单元(cell)，必须按下 *执行单元格*  按钮，当鼠标移至代码单元(cell)左上方时，按钮就会出现。你会发现该单元被标记为 csharp - C# Script： 它不能作为 xsharp 脚本运行，因为 XSharp 内核仍需加载！:)"
   ]
  },
  {
   "cell_type": "code",
   "execution_count": null,
   "metadata": {
    "dotnet_interactive": {
     "language": "csharp"
    },
    "polyglot_notebook": {
     "kernelName": "csharp"
    }
   },
   "outputs": [],
   "source": [
    "// <-= 按左侧简体执行这段代码\n",
    "#i \"nuget:C:\\XSharpInteractive\"\n",
    "#r \"nuget:XSharpInteractive,1.0.0\""
   ]
  },
  {
   "cell_type": "markdown",
   "metadata": {},
   "source": [
    "Ok, 如果你按下了 *执行单元格* 按钮，那么，如果最终有显示 XSharp Interactive 已加载成功的信息，后面标记为 **xsharp - X# Script** 的代码单元(cell)中的语句就可以被执行:)"
   ]
  },
  {
   "cell_type": "code",
   "execution_count": null,
   "metadata": {
    "dotnet_interactive": {
     "language": "xsharp"
    },
    "polyglot_notebook": {
     "kernelName": "xsharp"
    }
   },
   "outputs": [],
   "source": [
    "? \"Hello World !\""
   ]
  },
  {
   "cell_type": "markdown",
   "metadata": {},
   "source": [
    "您可以随意修改代码单元(cell)中的内容，然后再次执行。\n",
    "\n",
    "您还可以点击顶部的 *清除所有输出* 清除所有脚本的输出结果。"
   ]
  }
 ],
 "metadata": {
  "kernelspec": {
   "display_name": ".NET (C#)",
   "language": "C#",
   "name": ".net-csharp"
  },
  "language_info": {
   "name": "polyglot-notebook"
  },
  "polyglot_notebook": {
   "kernelInfo": {
    "defaultKernelName": "csharp",
    "items": [
     {
      "aliases": [],
      "languageName": "csharp",
      "name": "csharp"
     },
     {
      "aliases": [],
      "name": "xsharp"
     }
    ]
   }
  }
 },
 "nbformat": 4,
 "nbformat_minor": 2
}
