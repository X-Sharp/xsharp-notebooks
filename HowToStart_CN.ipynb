{
 "cells": [
  {
   "cell_type": "markdown",
   "metadata": {},
   "source": [
    "# 欢迎来到 XSharp Interactive\n",
    "\n",
    "如果您想使用我们的 XSharp 笔记本，那么首先需要加载 *XSharp Language kernel*.  \n",
    "每个笔记本都以相同的单元启动 :\n",
    ">#i \"nuget:C:\\XSharpInteractive\\\"  \n",
    "#r \"nuget:XSharpInteractive,1.0.0\"\n",
    "\n",
    "其内容如下 :\n",
    "\n",
    ">#i  \n",
    "\n",
    "this **i**ndicates the path where you have placed the file `XSharpXSharpInteractive.1.0.0.nupkg`  \n",
    "**Don't forget to adapt the path to your setting if needed, then execute the cell.**\n",
    ">#r  \n",
    "\n",
    "this **r**uns the loading of the file : This is the XSharp Kernel\n",
    "\n",
    "\n",
    "\n",
    "In order to run a code cell, you will have to press the *play* button that appears on the top-left of the code-cell when you move the mouse over it. You will notice that this cell is marked as *csharp - C# Script* : It cannot run as *xsharp Script* because the XSharp Kernel still needs to be loaded ! :)"
   ]
  },
  {
   "cell_type": "code",
   "execution_count": null,
   "metadata": {
    "dotnet_interactive": {
     "language": "csharp"
    },
    "polyglot_notebook": {
     "kernelName": "csharp"
    }
   },
   "outputs": [],
   "source": [
    "// <-= Press on the Arrow to run Me\n",
    "#i \"nuget:C:\\XSharpInteractive\"\n",
    "#r \"nuget:XSharpInteractive,1.0.0\""
   ]
  },
  {
   "cell_type": "markdown",
   "metadata": {},
   "source": [
    "Ok, if you have a message indicating that XSharp Interactive has been loaded successfully, the following cell that is marked as **xsharp - X# Script** should runs :)"
   ]
  },
  {
   "cell_type": "code",
   "execution_count": null,
   "metadata": {
    "dotnet_interactive": {
     "language": "xsharp"
    },
    "polyglot_notebook": {
     "kernelName": "xsharp"
    }
   },
   "outputs": [],
   "source": [
    "? \"Hello World !\""
   ]
  },
  {
   "cell_type": "markdown",
   "metadata": {},
   "source": [
    "You can modify the content of the code-cell as you wish, and execute again.   \n",
    "You can also clear all outputs by clicking the *Clear All Outputs* menuitem at the top of file."
   ]
  }
 ],
 "metadata": {
  "kernelspec": {
   "display_name": ".NET (C#)",
   "language": "C#",
   "name": ".net-csharp"
  },
  "language_info": {
   "name": "polyglot-notebook"
  },
  "polyglot_notebook": {
   "kernelInfo": {
    "defaultKernelName": "csharp",
    "items": [
     {
      "aliases": [],
      "languageName": "csharp",
      "name": "csharp"
     },
     {
      "aliases": [],
      "name": "xsharp"
     }
    ]
   }
  }
 },
 "nbformat": 4,
 "nbformat_minor": 2
}
