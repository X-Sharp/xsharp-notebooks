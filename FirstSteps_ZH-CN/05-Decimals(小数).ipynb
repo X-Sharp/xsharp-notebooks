{
 "cells": [
  {
   "cell_type": "markdown",
   "metadata": {},
   "source": [
    "# 加载 *XSharp 语言内核*."
   ]
  },
  {
   "cell_type": "code",
   "execution_count": null,
   "metadata": {
    "dotnet_interactive": {
     "language": "csharp"
    },
    "polyglot_notebook": {
     "kernelName": "csharp"
    }
   },
   "outputs": [],
   "source": [
    "// <-= 点击左侧箭头运行代码\n",
    "#r \"nuget:XSharpInteractive\""
   ]
  },
  {
   "cell_type": "markdown",
   "metadata": {},
   "source": [
    "# 小数\n",
    "在代数中，小数是数值的一种，整数和小数部分用小数点隔开。`\n",
    "\n",
    "### Double： 精度和大小\n",
    "Doubles 变量属于前一种定义。它们是浮点数，也可以进行运算。\n",
    "\n",
    "让我们重复上一笔记开头的代码，看看有什么不同。\n",
    "\n",
    "> 试试这段代码。 \n",
    "> 但如果我们保留 **var** 关键字，编译器会*猜*它是一个整数。 \n",
    "> 因此，我们必须在赋值或声明时强制类型：我们将向您展示这两种方法。 \n",
    "> 顺便说一下，**//** 表示后面的内容都是注释，因此不会被求值。 "
   ]
  },
  {
   "cell_type": "code",
   "execution_count": null,
   "metadata": {
    "dotnet_interactive": {
     "language": "xsharp"
    },
    "polyglot_notebook": {
     "kernelName": "xsharp"
    }
   },
   "outputs": [],
   "source": [
    "var a := (double)7          // cast-operation(类似转换操作) => 我们在赋值过程中强制类型\n",
    "LOCAL b := 4 AS DOUBLE      // 声明和赋值\n",
    "var c := 3.0                // 另一种方法\n",
    "var d := (a + b) / c        // 所有值都是 double, 所以结果也是 double\n",
    "var e := (a + b) % c\n",
    "? i\"商: {d}\"\n",
    "? i\"余数: {e}\""
   ]
  },
  {
   "cell_type": "markdown",
   "metadata": {},
   "source": [
    "### Double 值的范围\n",
    "与 Integers(整数), Double 的值也存在一个范围。"
   ]
  },
  {
   "cell_type": "code",
   "execution_count": null,
   "metadata": {
    "dotnet_interactive": {
     "language": "xsharp"
    },
    "polyglot_notebook": {
     "kernelName": "xsharp"
    }
   },
   "outputs": [],
   "source": [
    "VAR min := double.MinValue\n",
    "VAR max := double.MaxValue\n",
    "? i\"Double 值的范围是从 {min} 到 {max}.\""
   ]
  },
  {
   "cell_type": "markdown",
   "metadata": {},
   "source": [
    "范围很大！比整数的范围要大得多。\n",
    "\n",
    "但是，Double 并不完美： 它们也有四舍五入的误差。\n",
    "\n",
    "让我们看看"
   ]
  },
  {
   "cell_type": "code",
   "execution_count": null,
   "metadata": {
    "dotnet_interactive": {
     "language": "xsharp"
    },
    "polyglot_notebook": {
     "kernelName": "xsharp"
    }
   },
   "outputs": [],
   "source": [
    "VAR oneThird := 1.0 / 3.0\n",
    "? oneThird"
   ]
  },
  {
   "cell_type": "markdown",
   "metadata": {},
   "source": [
    "1/3 转换为十进制值时，应该有无限重复的 3，但由于 double 有极限，所以不会无限重复，当你想处理极其精确的运算时，知道这一点很有必要。"
   ]
  },
  {
   "cell_type": "markdown",
   "metadata": {},
   "source": [
    "### Decimal 类型\n",
    "`Decimal` 类型类似于 `Double`: 它的取值范围没那么大，但是精度比较高。\n",
    "\n",
    "> Decimal 类型的范围有多大呢？"
   ]
  },
  {
   "cell_type": "code",
   "execution_count": null,
   "metadata": {
    "dotnet_interactive": {
     "language": "xsharp"
    },
    "polyglot_notebook": {
     "kernelName": "xsharp"
    }
   },
   "outputs": [],
   "source": [
    "VAR min := decimal.MinValue\n",
    "VAR max := decimal.MaxValue\n",
    "? i\"decimal 的范围从 {min} 到 {max}.\""
   ]
  },
  {
   "cell_type": "markdown",
   "metadata": {},
   "source": [
    "> 比较一下 Double 和 Decimal 会怎么样呢？"
   ]
  },
  {
   "cell_type": "code",
   "execution_count": null,
   "metadata": {
    "dotnet_interactive": {
     "language": "xsharp"
    },
    "polyglot_notebook": {
     "kernelName": "xsharp"
    }
   },
   "outputs": [],
   "source": [
    "VAR a := 1.0\n",
    "VAR b := 3.0\n",
    "? a / b\n",
    "\n",
    "VAR c := (decimal) 1.0\n",
    "VAR d := (decimal) 3.0\n",
    "? c / d"
   ]
  },
  {
   "cell_type": "markdown",
   "metadata": {},
   "source": [
    "可以看到 `Decimal` 比 `Double` 拥有更高的精度！"
   ]
  },
  {
   "cell_type": "markdown",
   "metadata": {},
   "source": [
    "## 沙盒\n",
    "OK，让我们用 Double 或 Decimal 计算一下。\n",
    "\n",
    "> 地球和月球之间的距离是 384467 km。\n",
    "> 如果我们在一道数学题中使用这个距离，你会使用 Double 还是 Decimal？ \n",
    "> 以英寸为单位的值是多少？还有，地球到太阳的距离是 1495978707 km。\n",
    "\n",
    "> 你能求出半径为 2.5 厘米的圆的面积吗？\n",
    "> 如果改变数字类型，如 int、short、double 或 decimal，结果会怎样？ \n",
    "> 提示：可以使用 `Math.PI` 来代替 3.14159。"
   ]
  },
  {
   "cell_type": "code",
   "execution_count": null,
   "metadata": {
    "dotnet_interactive": {
     "language": "xsharp"
    },
    "polyglot_notebook": {
     "kernelName": "xsharp"
    }
   },
   "outputs": [],
   "source": [
    "? \"Sandbox\"\n"
   ]
  }
 ],
 "metadata": {
  "kernelspec": {
   "display_name": ".NET (C#)",
   "language": "C#",
   "name": ".net-csharp"
  },
  "polyglot_notebook": {
   "kernelInfo": {
    "defaultKernelName": "csharp",
    "items": [
     {
      "aliases": [],
      "languageName": "csharp",
      "name": "csharp"
     },
     {
      "aliases": [],
      "languageName": "X#",
      "name": "xsharp"
     }
    ]
   }
  }
 },
 "nbformat": 4,
 "nbformat_minor": 2
}
