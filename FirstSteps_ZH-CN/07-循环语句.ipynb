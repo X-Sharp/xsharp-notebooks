{
 "cells": [
  {
   "cell_type": "markdown",
   "metadata": {},
   "source": [
    "# 加载 *XSharp 语言内核*."
   ]
  },
  {
   "cell_type": "code",
   "execution_count": null,
   "metadata": {
    "dotnet_interactive": {
     "language": "csharp"
    },
    "polyglot_notebook": {
     "kernelName": "csharp"
    }
   },
   "outputs": [],
   "source": [
    "// <-= 点击左侧箭头运行代码\n",
    "#r \"nuget:XSharpInteractive,1.0.0\""
   ]
  },
  {
   "cell_type": "markdown",
   "metadata": {},
   "source": [
    "# 循环语句\n",
    "在大多数编程语言中，循环是允许重复执行代码的控制语句。\n",
    "\n",
    "\n",
    "## (DO) WHILE 循环\n",
    "`WHILE` 循环可以看作是使用**布尔值**条件的重复 if 语句。 \n",
    "\n",
    "> 试试下面的代码"
   ]
  },
  {
   "cell_type": "code",
   "execution_count": null,
   "metadata": {
    "dotnet_interactive": {
     "language": "xsharp"
    },
    "polyglot_notebook": {
     "kernelName": "xsharp"
    }
   },
   "outputs": [],
   "source": [
    "var counter := 1\n",
    "WHILE counter <= 10\n",
    "    ? i\"在 XSharp 中使用 WHILE 循环，计数器的值为 {counter}.\"\n",
    "    counter += 1\n",
    "END"
   ]
  },
  {
   "cell_type": "markdown",
   "metadata": {},
   "source": [
    "***运行原理***  \n",
    "`WHILE` 检查条件 `counter <= 10` :  \n",
    "如果为 **TRUE**, 它就执行循环。然后再次检查条件，继续运行循环，直到条件为 **FALSE**. \n",
    "\n",
    "您必须牢记，在这种重复运行中，**条件** 是在进入循环和执行语句 **之前** 进行评估的。\n",
    "\n",
    "\n",
    "在 XSharp 中，您可以使用多种语法来写循环语句，这些语法继承自该语言的 xBase 根。您可以编写.....：  \n",
    "`DO WHILE` 或 `WHILE`  \n",
    "`END DO` 或 `ENDDO` 或 `END`\n",
    "\n",
    "`计数器` 增量也可以用几种功能等同的语法编写：  \n",
    "`counter += 1`  \n",
    "`counter := counter + 1`  \n",
    "`counter++`  \n",
    "\n",
    "> 在前面的代码单元格中自己试试这些不同的语法。"
   ]
  },
  {
   "cell_type": "markdown",
   "metadata": {},
   "source": [
    "<span style=\"color:red\">\n",
    "谨防无限循环！\n",
    "</span>"
   ]
  },
  {
   "cell_type": "markdown",
   "metadata": {},
   "source": [
    "很容易不小心创建一个无限循环，例如：忘记增量，写错退出条件，....\n",
    "\n",
    "请注意，在 **XSharp 笔记** 中尝试这样做是一个非常 **糟糕的主意**，因为我们将 **没有办法退出循环**，除非 **杀死** Visual Studio Code进程......;)"
   ]
  },
  {
   "cell_type": "markdown",
   "metadata": {},
   "source": [
    "### REPEAT 循环\n",
    "在这种循环中，语句是在循环的 **条件之前** 执行的，因此至少会被执行一次。\n",
    "\n",
    "您会注意到，条件被置于 **UNTIL** 关键字之后。\n",
    "\n",
    "> 尝试用新语法执行相同的循环"
   ]
  },
  {
   "cell_type": "code",
   "execution_count": null,
   "metadata": {
    "dotnet_interactive": {
     "language": "xsharp"
    },
    "polyglot_notebook": {
     "kernelName": "xsharp"
    }
   },
   "outputs": [],
   "source": [
    "var counter := 1\n",
    "REPEAT \n",
    "    ? i\"在 XSharp 中使用 REPEAT 循环，计数器的值为 {counter}.\"\n",
    "    counter += 1\n",
    "UNTIL counter > 10"
   ]
  },
  {
   "cell_type": "markdown",
   "metadata": {},
   "source": [
    "你还可以注意到，它与前一个条件相反。 \n",
    "\n",
    "在 XSharp 中，逻辑 **Not** 操作符可以有多种写法。因此，要写出相反的条件，我们也可以写成 ：  \n",
    "`!(counter <= 10)`  \n",
    "`NOT(counter <= 10)`  \n",
    "`.NOT.(counter <= 10)`\n",
    "\n",
    "> 更改之前的代码尝试一下"
   ]
  },
  {
   "cell_type": "markdown",
   "metadata": {},
   "source": [
    "### FOR 循环\n",
    "**FOR** 循环的功能是在指定次数内重复运行一段代码。\n",
    "\n",
    "> 试试这个"
   ]
  },
  {
   "cell_type": "code",
   "execution_count": null,
   "metadata": {
    "dotnet_interactive": {
     "language": "xsharp"
    },
    "polyglot_notebook": {
     "kernelName": "xsharp"
    }
   },
   "outputs": [],
   "source": [
    "LOCAL i AS INT\n",
    "FOR i := 1 TO 10\n",
    "    ? i\"在 XSharp 中使用 FOR 循环，计数器的值为  {i}.\"\n",
    "NEXT"
   ]
  },
  {
   "cell_type": "markdown",
   "metadata": {},
   "source": [
    "首先，我们必须声明存放计数器的变量。\n",
    "\n",
    "然后，在 **FOR** 关键字后指定 *起始值*，在 **TO** 指定 *终止值*。 \n",
    "\n",
    "你可以注意到，我们并没有指明增量值。因为 *默认情况下*，计数器的增量为 1。操作完成后，计数器的值将与*结束值*进行比较： 如果等于或大于，循环结束。\n",
    "\n",
    "请注意，您可以通过在行尾标注 **STEP** 关键字来改变递增值，并限定递增的值。\n",
    "\n",
    "> 修改前面的代码，试试这些理论"
   ]
  },
  {
   "cell_type": "markdown",
   "metadata": {},
   "source": [
    "### EXIT 和 LOOP\n",
    "所有循环都在评估执行语句的条件。 \n",
    "但有时，这些语句需要中断循环，或在不执行最新语句的情况下重复循环：  \n",
    "- EXIT 将跳转到紧随相应的 ENDDO 或 NEXT 语句之后的语句。\n",
    "- LOOP 将跳转到循环的顶部"
   ]
  },
  {
   "cell_type": "code",
   "execution_count": null,
   "metadata": {
    "dotnet_interactive": {
     "language": "xsharp"
    },
    "polyglot_notebook": {
     "kernelName": "xsharp"
    }
   },
   "outputs": [],
   "source": [
    "var counter := 1\n",
    "REPEAT \n",
    "    ? i\"在 XSharp 中使用 REPEAT 循环, 计数器的值为 {counter}.\"\n",
    "    counter += 1\n",
    "    IF counter >= 7\n",
    "EXIT\n",
    "    ENDIF\n",
    "UNTIL counter > 10"
   ]
  },
  {
   "cell_type": "markdown",
   "metadata": {},
   "source": [
    "## 沙盒\n",
    "\n",
    "> 写一个从 20 倒数到 10 的循环\n",
    "\n",
    "> 写一个从 20 到 22 的循环。\n",
    "\n",
    "> 写一个从 7 到 22 的循环。\n",
    "\n",
    "> 额外奖励：混合三种循环类型写一个循环。"
   ]
  },
  {
   "cell_type": "code",
   "execution_count": null,
   "metadata": {
    "dotnet_interactive": {
     "language": "xsharp"
    },
    "polyglot_notebook": {
     "kernelName": "xsharp"
    }
   },
   "outputs": [],
   "source": [
    "? \"Sandbox\""
   ]
  }
 ],
 "metadata": {
  "kernelspec": {
   "display_name": ".NET (C#)",
   "language": "C#",
   "name": ".net-csharp"
  },
  "polyglot_notebook": {
   "kernelInfo": {
    "defaultKernelName": "csharp",
    "items": [
     {
      "aliases": [],
      "languageName": "csharp",
      "name": "csharp"
     },
     {
      "aliases": [],
      "languageName": "X#",
      "name": "xsharp"
     }
    ]
   }
  }
 },
 "nbformat": 4,
 "nbformat_minor": 2
}
