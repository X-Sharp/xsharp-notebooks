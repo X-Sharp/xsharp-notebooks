{
 "cells": [
  {
   "cell_type": "markdown",
   "metadata": {},
   "source": [
    "# *加载* XSharp 语言内核."
   ]
  },
  {
   "cell_type": "code",
   "execution_count": null,
   "metadata": {
    "dotnet_interactive": {
     "language": "csharp"
    },
    "polyglot_notebook": {
     "kernelName": "csharp"
    }
   },
   "outputs": [],
   "source": [
    "// <-= 按左侧箭头运行\n",
    "#r \"nuget:XSharpInteractive\""
   ]
  },
  {
   "cell_type": "markdown",
   "metadata": {},
   "source": [
    "# 什么是字符串？\n",
    "\n",
    "字符串是一个字符序列。它是不可变的，这意味着你不能修改它：对字符串的每次操作都会创建一个新的*不可变*字符串。\n",
    "\n",
    "## 字符串和字符串字面量\n",
    "\n",
    "`firstMember` 和 `secondMember` 是字符串类型的变量。 \n",
    "在 `?` 后面的一行也是字符串：它是一个字符串字面量。 \n",
    "字符串字面量是表示常量字符串的文本，它由双引号包围。\n",
    "\n",
    "> 运行以下代码并检查输出结果。 \n",
    "> 然后，用新名称修改变量内容并再试一次。"
   ]
  },
  {
   "cell_type": "code",
   "execution_count": null,
   "metadata": {
    "dotnet_interactive": {
     "language": "xsharp"
    },
    "polyglot_notebook": {
     "kernelName": "xsharp"
    }
   },
   "outputs": [],
   "source": [
    "var firstMember := \"Robert\"\n",
    "var secondMember := \"Chris\"\n",
    "\n",
    "? i\"{firstMember} and {secondMember} are part of the XSharp DevTeam.\""
   ]
  },
  {
   "cell_type": "markdown",
   "metadata": {},
   "source": [
    "## 字符串的属性\n",
    "\n",
    "`字符串`类型的变量是一个 `STRING` 类型的 *对象*，它包含一个字符集合。 \n",
    "这个*对象*也有一些属性，比如集合中的字符数，称为`Length`。 \n",
    "在使用 *对象* 时，为了选择一个 *属性* ，需要在*对象名*和*属性名*之间加上冒号 *`:`*，这个冒号称为 *选择符*。"
   ]
  },
  {
   "cell_type": "code",
   "execution_count": null,
   "metadata": {
    "dotnet_interactive": {
     "language": "xsharp"
    },
    "polyglot_notebook": {
     "kernelName": "xsharp"
    }
   },
   "outputs": [],
   "source": [
    "? i\"The name {firstMember} has {firstMember:Length} letters.\"\n",
    "? i\"The name {secondMember} has {secondMember:Length} letters.\""
   ]
  },
  {
   "cell_type": "markdown",
   "metadata": {},
   "source": [
    "## 字符串的方法\n",
    "\n",
    "与调用 *Object* 的 *Property* 一样，您也可以调用 *Object* 上的 *Method* 。 \n",
    "通常，*Property* 包含与对象相关的 **状态**。(它通常是一个名词）   \n",
    "*Method* 是应用或使用对象的 **操作** （它使用的是动作*verb*）。您可以识别它，因为它以括号结尾。   \n",
    "\n",
    "### 去除前导空格和尾部空格\n",
    "\n",
    "假设您的字符串有您不想显示的前导空格或尾部空格（也称为空白）。  \n",
    "您想删除字符串中的这些空格。**Trim()** 方法及相关的 **TrimStart()** 和 **TrimEnd()** 方法就能完成这项工作。您只需使用这些方法删除前导空格和尾部空格即可。\n",
    "\n",
    "> 试试下面的代码。感叹号的作用是有助你看到所有的空格。"
   ]
  },
  {
   "cell_type": "code",
   "execution_count": null,
   "metadata": {
    "dotnet_interactive": {
     "language": "xsharp"
    },
    "polyglot_notebook": {
     "kernelName": "xsharp"
    }
   },
   "outputs": [],
   "source": [
    "var message := \"         XSharp runs         \"\n",
    "? i\"!{message}!\"\n",
    "\n",
    "var trimmedMessage := message:TrimStart()\n",
    "? i\"!{trimmedMessage}!\"\n",
    "\n",
    "trimmedMessage := message:TrimEnd()\n",
    "? i\"!{trimmedMessage}!\"\n",
    "\n",
    "trimmedMessage := message:Trim()\n",
    "? i\"!{trimmedMessage}!\""
   ]
  },
  {
   "cell_type": "markdown",
   "metadata": {},
   "source": [
    "### Replace 方法\n",
    "\n",
    "你还可以用其他值替换子串(译者注：即字符串中部分字符)。 \n",
    "例如，在下面的代码中，可以将 “XSharp runs ”中的 “runs ”替换为 “rocks”。\n",
    "\n",
    "> 试试看。你可以自行修改代码来看到结果。"
   ]
  },
  {
   "cell_type": "code",
   "execution_count": null,
   "metadata": {
    "dotnet_interactive": {
     "language": "xsharp"
    },
    "polyglot_notebook": {
     "kernelName": "xsharp"
    }
   },
   "outputs": [],
   "source": [
    "var message := \"XSharp runs\"\n",
    "? message\n",
    "message := message:Replace(\"runs\",\"rocks\")\n",
    "? message"
   ]
  },
  {
   "cell_type": "markdown",
   "metadata": {},
   "source": [
    "### 更改大小写\n",
    "\n",
    "有时，您需要将字符串改为大写或小写。 \n",
    "您可以使用 **ToUpper()** 和 **ToLower()** 方法实现。\n",
    "\n",
    "> 试试下面的代码:)\n"
   ]
  },
  {
   "cell_type": "code",
   "execution_count": null,
   "metadata": {
    "dotnet_interactive": {
     "language": "xsharp"
    },
    "polyglot_notebook": {
     "kernelName": "xsharp"
    }
   },
   "outputs": [],
   "source": [
    "var sayItLoud := \"Do you like XSharp Notebooks?\"\n",
    "? sayItLoud:ToUpper()\n",
    "var whisper := \"Are you Whispering ?\"\n",
    "? whisper:ToLower()"
   ]
  },
  {
   "cell_type": "markdown",
   "metadata": {},
   "source": [
    "## 包含\n",
    "\n",
    "能够检查一个字符串是否存在于另一个字符串中吗？ \n",
    "您可以使用 **Contains()** 来检查：该方法返回一个 **布尔值**。\n",
    "\n",
    "**布尔值** 是一种由关键字 ***bool*** 表示的类型，可以保存两个值： **true** 或 **false**。\n",
    "\n",
    "在本例中，当找到需要搜索的字符串时，方法返回 **true**；当找不到时，方法返回 **false**。\n",
    "\n",
    "> 试着修改下面的代码。  \n",
    "> 大小写重要吗？ \n",
    "> 能否将 Contains() 方法的返回值存储在一个变量中（记住结果的类型是 *bool*）？"
   ]
  },
  {
   "cell_type": "code",
   "execution_count": null,
   "metadata": {
    "dotnet_interactive": {
     "language": "xsharp"
    },
    "polyglot_notebook": {
     "kernelName": "xsharp"
    }
   },
   "outputs": [],
   "source": [
    "var songLyrics := \"Somewhere, over the rainbow\"\n",
    "Console.WriteLine(songLyrics:Contains(\"rainbow\"))\n",
    "Console.WriteLine(songLyrics:Contains(\"showers\"))"
   ]
  },
  {
   "cell_type": "markdown",
   "metadata": {},
   "source": [
    "## StartsWith 和 EndsWith 方法\n",
    "\n",
    "**StartsWith()** 和 **EndsWith()** 类似于 **Contains()**, 但更“细致”。 \n",
    "您可以用它来检查一个字符串是否以另一个字符串开始或结束。 \n",
    "它的使用方法与 **Contains()** 相同，即 `container.StartsWith(searchedContent)` `。\n",
    "\n",
    "> 好的，让我们试试看  \n",
    "> 在以下代码中，尝试搜索该行是否以 “Somewhere ”或 “There ”开头。 \n",
    "> 然后，看看代码是否以 “rainbow ”或 “showers ”结尾。"
   ]
  },
  {
   "cell_type": "code",
   "execution_count": null,
   "metadata": {
    "dotnet_interactive": {
     "language": "xsharp"
    },
    "polyglot_notebook": {
     "kernelName": "xsharp"
    }
   },
   "outputs": [],
   "source": [
    "using System\n",
    "\n",
    "var songLyrics := \"Somewhere, over the rainbow\"\n",
    "Console.WriteLine(songLyrics:StartsWith(\"Somewhere\"))\n",
    "Console.WriteLine(songLyrics:EndsWith(\"showers\"))"
   ]
  },
  {
   "cell_type": "markdown",
   "metadata": {},
   "source": [
    "## 沙盒\n",
    "\n",
    "好了，现在试着做一做，检查一下你在笔记中学到的知识。 \n",
    "\n",
    "试试这些练习：\n",
    "\n",
    "\n",
    "> 创建包含三个不同字符串的变量。 \n",
    "> 找出第一个的长度，将第二个改为大写，第三个改为小写。 \n",
    "> \"XSharp interactive Notebooks\"中有多少个字母？\n",
    "> 修剪 \" XSharp interactive Notebooks \" 时会去掉多少个字符？修剪是否会去掉字符串中间的空格？\n",
    "> 发挥您的创造力吧！"
   ]
  },
  {
   "cell_type": "code",
   "execution_count": null,
   "metadata": {
    "dotnet_interactive": {
     "language": "xsharp"
    },
    "polyglot_notebook": {
     "kernelName": "xsharp"
    }
   },
   "outputs": [],
   "source": [
    "? \"Sandbox\""
   ]
  },
  {
   "cell_type": "markdown",
   "metadata": {},
   "source": [
    "## 沙盒2\n",
    "\n",
    "现在，让我们继续讨论更多内容。\n",
    "\n",
    "以下是一些想法：\n",
    "\n",
    "> 有多少行包含 \"rainbow\"？哪些行以 \"Skies \"开头？哪些行以 “true ”结尾？\n",
    "> 能否让某些行大写，某些行小写？如果改变大小写，对 Contains() 有什么影响？"
   ]
  },
  {
   "cell_type": "code",
   "execution_count": null,
   "metadata": {
    "dotnet_interactive": {
     "language": "xsharp"
    },
    "polyglot_notebook": {
     "kernelName": "xsharp"
    }
   },
   "outputs": [],
   "source": [
    "var line1 := \"Somewhere over the rainbow\"\n",
    "var line2 := \"Way up high\"\n",
    "var line3 := \"There's a land that I heard of once in a lullaby\"\n",
    "var line4 := \"Somewhere over the rainbow\"\n",
    "var line5 := \"Skies are blue\"\n",
    "var line6 := \"And the dreams that you dare to dream\"\n",
    "var line7 := \"Really do come true\""
   ]
  }
 ],
 "metadata": {
  "kernelspec": {
   "display_name": ".NET (C#)",
   "language": "C#",
   "name": ".net-csharp"
  },
  "polyglot_notebook": {
   "kernelInfo": {
    "defaultKernelName": "xsharp",
    "items": [
     {
      "aliases": [],
      "languageName": "xsharp",
      "name": "xsharp"
     }
    ]
   }
  }
 },
 "nbformat": 4,
 "nbformat_minor": 2
}
