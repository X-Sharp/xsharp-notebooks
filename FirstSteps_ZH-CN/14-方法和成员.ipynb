{
 "cells": [
  {
   "cell_type": "markdown",
   "metadata": {},
   "source": [
    "# 加载 *XSharp 语言核心*."
   ]
  },
  {
   "cell_type": "code",
   "execution_count": null,
   "metadata": {
    "dotnet_interactive": {
     "language": "csharp"
    },
    "polyglot_notebook": {
     "kernelName": "csharp"
    }
   },
   "outputs": [],
   "source": [
    "// <-= 点击左侧箭头运行代码\n",
    "#r \"nuget:XSharpInteractive\""
   ]
  },
  {
   "cell_type": "markdown",
   "metadata": {},
   "source": [
    "# 方法和成员\n",
    "\n",
    "这是我们的银行账户： 它暂时还不能做什么，但可以显示户主和余额。 \n",
    "目前还不显示其账号。 \n",
    "\n",
    "我们还将处理一个事务类，该类已为您添加。\n",
    "\n",
    "> 执行每一段代码，看看会显示什么。这就是我们上次完成的结果。"
   ]
  },
  {
   "cell_type": "code",
   "execution_count": null,
   "metadata": {
    "dotnet_interactive": {
     "language": "xsharp"
    },
    "polyglot_notebook": {
     "kernelName": "xsharp"
    }
   },
   "outputs": [],
   "source": [
    "CLASS BankAccount\n",
    "    // Properties (#1)\n",
    "    PUBLIC PROPERTY Number AS STRING AUTO GET SET\n",
    "    PUBLIC PROPERTY Owner AS STRING AUTO GET SET\n",
    "    PUBLIC PROPERTY Balance AS Decimal AUTO GET\n",
    "        \n",
    "    // Constructor (#2)\n",
    "    PUBLIC CONSTRUCTOR( name AS STRING, initialBalance AS DECIMAL )\n",
    "        SELF:Owner := name\n",
    "        SELF:Balance := initialBalance\n",
    "    END CONSTRUCTOR\n",
    "    \n",
    "    // Methods (#4)\n",
    "    PUBLIC METHOD MakeDeposit( amount AS DECIMAL, depositDate AS DateTime, notes AS STRING ) AS VOID\n",
    "\n",
    "    END METHOD\n",
    "\n",
    "    PUBLIC METHOD MakeWithdrawal( amount AS DECIMAL, withdrawDate AS DateTime, notes AS STRING ) AS VOID\n",
    "\n",
    "    END METHOD\n",
    "END CLASS"
   ]
  },
  {
   "cell_type": "code",
   "execution_count": null,
   "metadata": {
    "dotnet_interactive": {
     "language": "xsharp"
    },
    "polyglot_notebook": {
     "kernelName": "xsharp"
    }
   },
   "outputs": [],
   "source": [
    "var account := BankAccount{ \"Bruce\", 1000 }\n",
    "? i\"The account number [{account:Number}] belongs to {account:Owner}\"\n",
    "? i\"It has been created with {account:Balance} Euros.\""
   ]
  },
  {
   "cell_type": "markdown",
   "metadata": {},
   "source": [
    "## 1 : 账号\n",
    "\n",
    "我们需要一个起始号码，用于所有新银行账户的创建，以确保账号的唯一性。\n",
    "\n",
    "下面是这个 \"基本 \"号码的代码。它的含义是什么？\n",
    "\n",
    "- **PRIVATE**： 这意味着该号码的使用仅限于本类内部。除内部代码外，不可能使用它。\n",
    "- **STATIC**： 这表示该编号对**所有**`BankAccount`**对象**都是唯一的。如果一个账户更改了它，所有其他账户都会看到更改。这是确保银行账号唯一性的一种方法！一旦一个银行账户使用了它的值，我们就会在这个 \"基数 \"上加 1，下一个创建的账户就会有一个新的编号。 \n",
    "\n",
    "> 复制下面的代码并粘贴到 `BankAccount` 类的 // 属性部分。\n",
    "\n",
    "        PRIVATE STATIC accountBaseNumber := 1234567890 AS INT\n",
    "\n",
    "> 复制这部分代码并将其添加到构造函数中。\n",
    "\n",
    "        SELF:Number := accountBaseNumber:ToString()\n",
    "        accountBaseNumber ++\n",
    "\n",
    "> 运行这段代码，看看会发生什么！"
   ]
  },
  {
   "cell_type": "code",
   "execution_count": null,
   "metadata": {
    "dotnet_interactive": {
     "language": "xsharp"
    },
    "polyglot_notebook": {
     "kernelName": "xsharp"
    }
   },
   "outputs": [],
   "source": [
    "CLASS BankAccount\n",
    "    // 属性 (#1)\n",
    "    PUBLIC PROPERTY Number AS STRING AUTO GET SET\n",
    "    PUBLIC PROPERTY Owner AS STRING AUTO GET SET\n",
    "    PUBLIC PROPERTY Balance AS Decimal AUTO GET\n",
    "    // (将第一部分代码粘贴在此!)\n",
    "        \n",
    "    // 构造函数 (#2)\n",
    "    PUBLIC CONSTRUCTOR( name AS STRING, initialBalance AS DECIMAL )\n",
    "        SELF:Owner := name\n",
    "        SELF:Balance := initialBalance\n",
    "        // (将第二部分代码粘贴在此!)\n",
    "        \n",
    "    END CONSTRUCTOR\n",
    "    \n",
    "    // 方法 (#4)\n",
    "    PUBLIC METHOD MakeDeposit( amount AS DECIMAL, depositDate AS DateTime, notes AS STRING ) AS VOID\n",
    "\n",
    "    END METHOD\n",
    "\n",
    "    PUBLIC METHOD MakeWithdrawal( amount AS DECIMAL, withdrawDate AS DateTime, notes AS STRING ) AS VOID\n",
    "\n",
    "    END METHOD\n",
    "END CLASS"
   ]
  },
  {
   "cell_type": "code",
   "execution_count": null,
   "metadata": {
    "dotnet_interactive": {
     "language": "xsharp"
    },
    "polyglot_notebook": {
     "kernelName": "xsharp"
    }
   },
   "outputs": [],
   "source": [
    "var account := BankAccount{ \"Bruce\", 1000 }\n",
    "? i\"The account number [{account:Number}] belongs to {account:Owner}\"\n",
    "? i\"It has been created with {account:Balance} Euros.\""
   ]
  },
  {
   "cell_type": "markdown",
   "metadata": {},
   "source": [
    "> 嗯.... 尝试多次运行创建代码，并尝试猜测发生了什么......;)"
   ]
  },
  {
   "cell_type": "markdown",
   "metadata": {},
   "source": [
    "## 2: Transaction(交易)属性\n",
    "\n",
    "下一部分是余额！一种方法是只保留数值。 \n",
    "然而，另一种方法是创建交易历史。\n",
    "\n",
    "为此，您需要创建一个transaction(交易)类，记录一次交易。\n",
    "\n",
    "> 在 \"Transaction\"类中粘贴以下属性\n",
    "\n",
    "    PUBLIC PROPERTY Amount AS DECIMAL AUTO GET\n",
    "    PUBLIC PROPERTY Date AS DateTime AUTO GET\n",
    "    PUBLIC PROPERTY Notes AS STRING AUTO GET\n"
   ]
  },
  {
   "cell_type": "code",
   "execution_count": null,
   "metadata": {
    "dotnet_interactive": {
     "language": "xsharp"
    },
    "polyglot_notebook": {
     "kernelName": "xsharp"
    }
   },
   "outputs": [],
   "source": [
    "CLASS Transaction\n",
    "    // 属性 (粘贴到这里!)\n",
    "\n",
    "    // 构造函数\n",
    "\n",
    "END CLASS"
   ]
  },
  {
   "cell_type": "markdown",
   "metadata": {},
   "source": [
    "你可以注意到，这些属性只显示为 `GET` ：这意味着，除了在 `CONSTRUCTOR` 内部，这些属性都是 *只读* 的。"
   ]
  },
  {
   "cell_type": "markdown",
   "metadata": {},
   "source": [
    "## 3: Transaction 构造函数\n",
    "\n",
    "现在，让我们为该类添加一个 `CONSTRUCTOR` 构造函数！\n",
    "\n",
    "> 在 `Transaction` 类中添加以下代码。\n",
    "\n",
    "    PUBLIC CONSTRUCTOR( trAmount AS Decimal, trDate AS DateTime, trNote AS String )\n",
    "        SELF:Amount := trAmount\n",
    "        SELF:Date := trDate\n",
    "        SELF:Notes := trNote\n",
    "    END CONSTRUCTOR"
   ]
  },
  {
   "cell_type": "code",
   "execution_count": null,
   "metadata": {
    "dotnet_interactive": {
     "language": "xsharp"
    },
    "polyglot_notebook": {
     "kernelName": "xsharp"
    }
   },
   "outputs": [],
   "source": [
    "CLASS Transaction\n",
    "    // 属性\n",
    "    PUBLIC PROPERTY Amount AS DECIMAL AUTO GET\n",
    "    PUBLIC PROPERTY Date AS DateTime AUTO GET\n",
    "    PUBLIC PROPERTY Notes AS STRING AUTO GET\n",
    "    \n",
    "    // 构造函数 (粘贴到这里!)\n",
    "\n",
    "END CLASS"
   ]
  },
  {
   "cell_type": "markdown",
   "metadata": {},
   "source": [
    "## 4: 添加 `Transaction` 支持\n",
    "\n",
    "现在我们有了一个 transaction 类，我们将在银行账户中使用它。  \n",
    "首先，需要创建一个交易列表。\n",
    "\n",
    "> 复制以下代码到属性部分。\n",
    "\n",
    "    PRIVATE allTransactions := List<Transaction>{} AS List<Transaction>"
   ]
  },
  {
   "cell_type": "code",
   "execution_count": null,
   "metadata": {
    "dotnet_interactive": {
     "language": "xsharp"
    },
    "polyglot_notebook": {
     "kernelName": "xsharp"
    }
   },
   "outputs": [],
   "source": [
    "using System.Collections.Generic\n",
    "\n",
    "CLASS BankAccount\n",
    "    // 属性\n",
    "    PUBLIC PROPERTY Number AS STRING AUTO GET SET\n",
    "    PUBLIC PROPERTY Owner AS STRING AUTO GET SET\n",
    "    PUBLIC PROPERTY Balance AS Decimal AUTO GET\n",
    "    PRIVATE STATIC accountBaseNumber := 1234567890 AS INT\n",
    "    // 粘贴到这里\n",
    "        \n",
    "    // 构造函数\n",
    "    PUBLIC CONSTRUCTOR( name AS STRING, initialBalance AS DECIMAL )\n",
    "        SELF:Owner := name\n",
    "        SELF:Balance := initialBalance\n",
    "        SELF:Number := accountBaseNumber:ToString()\n",
    "        accountBaseNumber ++\n",
    "    END CONSTRUCTOR\n",
    "    \n",
    "    // 方法\n",
    "    PUBLIC METHOD MakeDeposit( amount AS DECIMAL, depositDate AS DateTime, notes AS STRING ) AS VOID\n",
    "\n",
    "    END METHOD\n",
    "\n",
    "    PUBLIC METHOD MakeWithdrawal( amount AS DECIMAL, withdrawDate AS DateTime, notes AS STRING ) AS VOID\n",
    "\n",
    "    END METHOD\n",
    "END CLASS"
   ]
  },
  {
   "cell_type": "markdown",
   "metadata": {},
   "source": [
    "## 5 : 计算`余额`\n",
    "\n",
    "既然已经有了可以使用的交易列表，就可以用它来计算余额了。 \n",
    "您要做的是，每当有人要获取余额时，先检查交易列表并将其全部统计起来，然后再返回答案。  \n",
    "为此，您可以在余额中的 `GET`中附加一些指令！\n",
    "\n",
    "    PUBLIC PROPERTY Balance AS Decimal\n",
    "        GET\n",
    "            VAR currentBalance := 0.0M\n",
    "            FOREACH VAR item IN SELF:allTransactions\n",
    "                currentBalance += item:Amount\n",
    "            NEXT\n",
    "            RETURN currentBalance\n",
    "        END GET\n",
    "    END PROPERTY"
   ]
  },
  {
   "cell_type": "code",
   "execution_count": null,
   "metadata": {
    "dotnet_interactive": {
     "language": "xsharp"
    },
    "polyglot_notebook": {
     "kernelName": "xsharp"
    }
   },
   "outputs": [],
   "source": [
    "using System.Collections.Generic\n",
    "\n",
    "CLASS BankAccount\n",
    "    // 属性\n",
    "    PUBLIC PROPERTY Number AS STRING AUTO GET SET\n",
    "    PUBLIC PROPERTY Owner AS STRING AUTO GET SET\n",
    "    PUBLIC PROPERTY Balance AS Decimal AUTO GET     // 替换这一行\n",
    "    PRIVATE STATIC accountBaseNumber := 1234567890 AS INT\n",
    "    PRIVATE allTransactions := List<Transaction>{} AS List<Transaction>\n",
    "        \n",
    "    // 构造函数\n",
    "    PUBLIC CONSTRUCTOR( name AS STRING, initialBalance AS DECIMAL )\n",
    "        SELF:Owner := name\n",
    "        SELF:Balance := initialBalance\n",
    "        SELF:Number := accountBaseNumber:ToString()\n",
    "        accountBaseNumber ++\n",
    "    END CONSTRUCTOR\n",
    "    \n",
    "    // 方法\n",
    "    PUBLIC METHOD MakeDeposit( amount AS DECIMAL, depositDate AS DateTime, notes AS STRING ) AS VOID\n",
    "\n",
    "    END METHOD\n",
    "\n",
    "    PUBLIC METHOD MakeWithdrawal( amount AS DECIMAL, withdrawDate AS DateTime, notes AS STRING ) AS VOID\n",
    "\n",
    "    END METHOD\n",
    "END CLASS"
   ]
  },
  {
   "cell_type": "markdown",
   "metadata": {},
   "source": [
    "## 6 : 纠正错误\n",
    "如果您尝试运行前面的代码块，您可能会发现一个错误： `Balance`不能赋值 - 它是只读的。 \n",
    "这是你造成的新错误！因为每次获取余额时，都要对交易列表进行汇总，所以不能说余额就是初始余额。本模块不会完全解决这个问题，但可以让代码暂时可用。\n",
    "\n",
    "删除 `SELF:Balance := initialBalance`"
   ]
  },
  {
   "cell_type": "code",
   "execution_count": null,
   "metadata": {
    "dotnet_interactive": {
     "language": "xsharp"
    },
    "polyglot_notebook": {
     "kernelName": "xsharp"
    }
   },
   "outputs": [],
   "source": [
    "using System.Collections.Generic\n",
    "\n",
    "CLASS BankAccount\n",
    "    // 属性\n",
    "    PUBLIC PROPERTY Number AS STRING AUTO GET SET\n",
    "    PUBLIC PROPERTY Owner AS STRING AUTO GET SET\n",
    "    PUBLIC PROPERTY Balance AS Decimal\n",
    "        GET\n",
    "            VAR currentBalance := 0.0M\n",
    "            FOREACH VAR item IN SELF:allTransactions\n",
    "                currentBalance += item:Amount\n",
    "            NEXT\n",
    "            RETURN currentBalance\n",
    "        END GET\n",
    "    END PROPERTY\n",
    "    PRIVATE STATIC accountBaseNumber := 1234567890 AS INT\n",
    "    PRIVATE allTransactions := List<Transaction>{} AS List<Transaction>\n",
    "        \n",
    "    // 构造函数\n",
    "    PUBLIC CONSTRUCTOR( name AS STRING, initialBalance AS DECIMAL )\n",
    "        SELF:Owner := name\n",
    "        SELF:Balance := initialBalance  // 删除这一行\n",
    "        SELF:Number := accountBaseNumber:ToString()\n",
    "        accountBaseNumber ++\n",
    "    END CONSTRUCTOR\n",
    "    \n",
    "    // 方法\n",
    "    PUBLIC METHOD MakeDeposit( amount AS DECIMAL, depositDate AS DateTime, notes AS STRING ) AS VOID\n",
    "\n",
    "    END METHOD\n",
    "\n",
    "    PUBLIC METHOD MakeWithdrawal( amount AS DECIMAL, withdrawDate AS DateTime, notes AS STRING ) AS VOID\n",
    "\n",
    "    END METHOD\n",
    "END CLASS"
   ]
  },
  {
   "cell_type": "markdown",
   "metadata": {},
   "source": [
    "## 回顾： 初始余额去哪儿了？\n",
    "下面是这个模块的最终代码。 \n",
    "不过有一个问题！你不再有初始余额，资金为 0！既然我们用交易绑定了你的余额，我们就需要能够存款和取款，把钱存入银行。我们将在下一个笔记本中看到这一点！\n",
    "\n",
    "> 运行下面的代码单元格。\n",
    "\n",
    "> 在下一个笔记本之前，请尝试创建自己的交易方法！哪里卡住了？你需要学习什么？"
   ]
  },
  {
   "cell_type": "code",
   "execution_count": null,
   "metadata": {
    "dotnet_interactive": {
     "language": "xsharp"
    },
    "polyglot_notebook": {
     "kernelName": "xsharp"
    }
   },
   "outputs": [],
   "source": [
    "CLASS Transaction\n",
    "    // 属性\n",
    "    PUBLIC PROPERTY Amount AS DECIMAL AUTO GET\n",
    "    PUBLIC PROPERTY Date AS DateTime AUTO GET\n",
    "    PUBLIC PROPERTY Notes AS STRING AUTO GET\n",
    "    \n",
    "    // 构造函数 \n",
    "    PUBLIC CONSTRUCTOR( trAmount AS Decimal, trDate AS DateTime, trNote AS String )\n",
    "        SELF:Amount := trAmount\n",
    "        SELF:Date := trDate\n",
    "        SELF:Notes := trNote\n",
    "    END CONSTRUCTOR\n",
    "\n",
    "END CLASS"
   ]
  },
  {
   "cell_type": "code",
   "execution_count": null,
   "metadata": {
    "dotnet_interactive": {
     "language": "xsharp"
    },
    "polyglot_notebook": {
     "kernelName": "xsharp"
    }
   },
   "outputs": [],
   "source": [
    "using System.Collections.Generic\n",
    "\n",
    "CLASS BankAccount\n",
    "    // 属性\n",
    "    PUBLIC PROPERTY Number AS STRING AUTO GET SET\n",
    "    PUBLIC PROPERTY Owner AS STRING AUTO GET SET\n",
    "    PUBLIC PROPERTY Balance AS Decimal\n",
    "        GET\n",
    "            VAR currentBalance := 0.0M\n",
    "            FOREACH VAR item IN SELF:allTransactions\n",
    "                currentBalance += item:Amount\n",
    "            NEXT\n",
    "            RETURN currentBalance\n",
    "        END GET\n",
    "    END PROPERTY\n",
    "    PRIVATE STATIC accountBaseNumber := 1234567890 AS INT\n",
    "    PRIVATE allTransactions := List<Transaction>{} AS List<Transaction>\n",
    "        \n",
    "    // 构造函数\n",
    "    PUBLIC CONSTRUCTOR( name AS STRING, initialBalance AS DECIMAL )\n",
    "        SELF:Owner := name\n",
    "        SELF:Number := accountBaseNumber:ToString()\n",
    "        accountBaseNumber ++\n",
    "    END CONSTRUCTOR\n",
    "    \n",
    "    // 方法\n",
    "    PUBLIC METHOD MakeDeposit( amount AS DECIMAL, depositDate AS DateTime, notes AS STRING ) AS VOID\n",
    "\n",
    "    END METHOD\n",
    "\n",
    "    PUBLIC METHOD MakeWithdrawal( amount AS DECIMAL, withdrawDate AS DateTime, notes AS STRING ) AS VOID\n",
    "\n",
    "    END METHOD\n",
    "END CLASS"
   ]
  }
 ],
 "metadata": {
  "kernelspec": {
   "display_name": ".NET (C#)",
   "language": "C#",
   "name": ".net-csharp"
  },
  "polyglot_notebook": {
   "kernelInfo": {
    "defaultKernelName": "csharp",
    "items": [
     {
      "aliases": [],
      "languageName": "csharp",
      "name": "csharp"
     },
     {
      "aliases": [],
      "languageName": "X#",
      "name": "xsharp"
     }
    ]
   }
  }
 },
 "nbformat": 4,
 "nbformat_minor": 2
}
