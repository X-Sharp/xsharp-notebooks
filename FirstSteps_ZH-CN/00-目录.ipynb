{
 "cells": [
  {
   "cell_type": "markdown",
   "metadata": {},
   "source": [
    "# 目录\n",
    "\n",
    "| 课程 |\n",
    "|-----|\n",
    "| [目录                                        ]( 00-目录.ipynb ) |\n",
    "| [变量的使用                                  ]( 01-变量的使用.ipynb ) |\n",
    "| [什么是字符串                                ]( 02-什么是字符串.ipynb ) |\n",
    "| [XSharp 中的字符串                           ]( 02b-XSharp%20中的字符串.ipynb ) |\n",
    "| [Integers(整数 - 1)                          ]( 03-Integers(整数%20-%201).ipynb ) |\n",
    "| [Integers(整数 - 2)                          ]( 04-Integers(整数%20-%202).ipynb ) |\n",
    "| [Decimals(小数)                              ]( 05-Decimals(小数).ipynb ) |\n",
    "| [条件语句                                    ]( 06-条件语句.ipynb ) |\n",
    "| [循环语句                                    ]( 07-循环语句.ipynb ) |\n",
    "| [循环和分支                                  ]( 08-循环和分支.ipynb ) |\n",
    "| [数组(Array)、列表(Lists)和集合(Collections) ]( 09-数组(Arrays)、列表(Lists)%20和集合(Collections).ipynb ) |\n",
    "| [搜索、排序和管理列表(Lists)                 ]( 10-搜索、排序和管理列表(Lists).ipynb ) |\n",
    "| [练习使用列表(Lists)                         ]( 11-练习使用列表(Lists).ipynb ) |\n",
    "| [函数和过程                                  ]( 12-函数和过程.ipynb ) |\n",
    "| [对象和类                                    ]( 13-对象和类.ipynb ) |\n",
    "\n",
    "\n",
    "                       \n"
   ]
  }
 ],
 "metadata": {
  "kernelspec": {
   "display_name": ".NET (C#)",
   "language": "C#",
   "name": ".net-csharp"
  },
  "polyglot_notebook": {
   "kernelInfo": {
    "defaultKernelName": "csharp",
    "items": [
     {
      "aliases": [],
      "languageName": "csharp",
      "name": "csharp"
     },
     {
      "aliases": [],
      "languageName": "X#",
      "name": "xsharp"
     }
    ]
   }
  }
 },
 "nbformat": 4,
 "nbformat_minor": 2
}
