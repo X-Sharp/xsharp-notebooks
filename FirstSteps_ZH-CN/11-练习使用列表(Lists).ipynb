{
 "cells": [
  {
   "cell_type": "markdown",
   "metadata": {},
   "source": [
    "# 加载 *XSharp 语言核心*."
   ]
  },
  {
   "cell_type": "code",
   "execution_count": null,
   "metadata": {
    "dotnet_interactive": {
     "language": "csharp"
    },
    "polyglot_notebook": {
     "kernelName": "csharp"
    }
   },
   "outputs": [],
   "source": [
    "// <-= Press on the Arrow to run Me\n",
    "#r \"nuget:XSharpInteractive\""
   ]
  },
  {
   "cell_type": "markdown",
   "metadata": {},
   "source": [
    "# 斐波那契数列\n",
    "在数学中，斐波那契数列是一个每个数字都是前两个数字之和的数列。\n",
    "\n",
    "从 1+1 开始：  \n",
    "1 + 1 = 2 (1, 1, 2) 1 + 2 = 3 (1, 1, 2, 3) 2 + 3 = 5 (1, 1, 2, 3, 5) 3 + 5 = 8 (1, 1, 2, 3, 5, 8) 等等。\n",
    "\n",
    "自然界有很多东西都遵循这个数列，如果你想研究它的话，还能发现很多很酷的东西！\n",
    "\n",
    "> 从基数开始： 这是一个只有 1、1 的列表。 \n",
    "\n",
    "运行试试，看看会发生什么。"
   ]
  },
  {
   "cell_type": "code",
   "execution_count": null,
   "metadata": {
    "dotnet_interactive": {
     "language": "xsharp"
    },
    "polyglot_notebook": {
     "kernelName": "xsharp"
    },
    "vscode": {
     "languageId": "csharp"
    }
   },
   "outputs": [],
   "source": [
    "using System.Collections.Generic\n",
    "\n",
    "var fibonacciNumbers := List<int>{}\n",
    "fibonacciNumbers:Add(1)\n",
    "fibonacciNumbers:Add(1)\n",
    "\n",
    "foreach var item in fibonacciNumbers\n",
    "    ? item\n",
    "next"
   ]
  },
  {
   "cell_type": "markdown",
   "metadata": {},
   "source": [
    "OK，但我们不希望只有 1,1！\n",
    "\n",
    "在下面这段代码中，使用列表中的最后两个数字，将它们相加得出下一个数字，然后将其添加到列表中。\n",
    "\n",
    "> 运行代码试试。"
   ]
  },
  {
   "cell_type": "code",
   "execution_count": null,
   "metadata": {
    "dotnet_interactive": {
     "language": "xsharp"
    },
    "polyglot_notebook": {
     "kernelName": "xsharp"
    },
    "vscode": {
     "languageId": "csharp"
    }
   },
   "outputs": [],
   "source": [
    "using System.Collections.Generic\n",
    "\n",
    "var fibonacciNumbers := List<int>{}\n",
    "fibonacciNumbers:Add(1)\n",
    "fibonacciNumbers:Add(1)\n",
    "\n",
    "var lastOne := fibonacciNumbers[fibonacciNumbers:Count - 1]         // 取列表中最后一个数字\n",
    "var beforeLastOne := fibonacciNumbers[fibonacciNumbers:Count - 2]   // 取列表中倒数第二个数字\n",
    "\n",
    "fibonacciNumbers:Add(lastOne + beforeLastOne)   // 将前面的数字相加，并将结果增加到列表末尾\n",
    "\n",
    "foreach var item in fibonacciNumbers\n",
    "    ? item\n",
    "next"
   ]
  },
  {
   "cell_type": "markdown",
   "metadata": {},
   "source": [
    "### Count -1\n",
    "请记住我们在 [09-数组、列表和集合](09-Array,%20Lists%20and%20Collections.ipynb) 笔记中学习到的内容：  \n",
    "\n",
    "Count 可以告诉你列表中有多少项。 \n",
    "\n",
    "但是，由于 List 是 Dotnet 类型，项的索引从 0 开始。因此，如果列表中只有一个项目，计数将是 1，但项的索引将是 0。"
   ]
  },
  {
   "cell_type": "markdown",
   "metadata": {},
   "source": [
    "## 挑战：斐波纳契数列计算到第 20 个数字\n",
    "我们为您提供了处理斐波那契的基础代码。你能制作一个包含前 20 个斐波那契数字的列表吗？\n",
    "\n",
    "> 制作并打印一个有前 20 个斐波那契数字的列表。"
   ]
  },
  {
   "cell_type": "code",
   "execution_count": null,
   "metadata": {
    "dotnet_interactive": {
     "language": "xsharp"
    },
    "polyglot_notebook": {
     "kernelName": "xsharp"
    },
    "vscode": {
     "languageId": "csharp"
    }
   },
   "outputs": [],
   "source": [
    "? \"Challenge\""
   ]
  },
  {
   "cell_type": "markdown",
   "metadata": {},
   "source": [
    "## 提示和技巧\n",
    "最后的数字应该是 6765。 \n",
    "\n",
    "试试 for 循环、foreach循环和 while 循环。\n",
    "\n",
    "你更喜欢哪种循环，你觉得哪种更有用？\n",
    "\n",
    "你是否已经很接近了，但还差一个数字？这是一个很常见的问题！记住，> 和 >= 是相似的，但它们最终会相差一个数字。试试看？ \n",
    "\n",
    "记住，你已经从列表中的两个项开始了。"
   ]
  }
 ],
 "metadata": {
  "kernelspec": {
   "display_name": ".NET (C#)",
   "language": "C#",
   "name": ".net-csharp"
  },
  "polyglot_notebook": {
   "kernelInfo": {
    "defaultKernelName": "csharp",
    "items": [
     {
      "aliases": [],
      "languageName": "csharp",
      "name": "csharp"
     },
     {
      "aliases": [],
      "languageName": "X#",
      "name": "xsharp"
     }
    ]
   }
  }
 },
 "nbformat": 4,
 "nbformat_minor": 2
}
