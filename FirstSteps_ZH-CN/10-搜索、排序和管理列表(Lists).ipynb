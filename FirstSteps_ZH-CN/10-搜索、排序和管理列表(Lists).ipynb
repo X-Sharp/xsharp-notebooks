{
 "cells": [
  {
   "cell_type": "markdown",
   "metadata": {},
   "source": [
    "# 加载 *XSharp 语言核心*."
   ]
  },
  {
   "cell_type": "code",
   "execution_count": null,
   "metadata": {
    "dotnet_interactive": {
     "language": "csharp"
    },
    "polyglot_notebook": {
     "kernelName": "csharp"
    }
   },
   "outputs": [],
   "source": [
    "// <-= 点击左侧箭头运行代码\n",
    "#r \"nuget:XSharpInteractive\""
   ]
  },
  {
   "cell_type": "markdown",
   "metadata": {},
   "source": [
    "# 搜索、排序和管理列表(Lists)"
   ]
  },
  {
   "cell_type": "markdown",
   "metadata": {},
   "source": [
    "### 搜索\n",
    "在前面的笔记中，学习了如何查找存储在特定索引中的项目。现在，给定一个项目，我们可以检查它是否存在，并找出它的索引。\n",
    "\n",
    "> 运行代码  \n",
    ">\n",
    "> “Angel” 的位置在哪里？ \n",
    ">\n",
    "> “Robert” 的位置在哪里？ "
   ]
  },
  {
   "cell_type": "code",
   "execution_count": null,
   "metadata": {
    "dotnet_interactive": {
     "language": "xsharp"
    },
    "polyglot_notebook": {
     "kernelName": "xsharp"
    }
   },
   "outputs": [],
   "source": [
    "using System.Collections.Generic\n",
    "VAR mySuperHeroes := List<String>{ <string>{\"Cyclops\", \"Beast\", \"Marvel Girl\", \"Angel\"} }\n",
    "var lookingFor := \"Beast\"\n",
    "? i\"{lookingFor} 这个单词存在于列表中吗 ? {mySuperHeroes:Contains(lookingFor)}\"\n",
    "var position = mySuperHeroes:IndexOf(lookingFor)\n",
    "? i\"{lookingFor} 在列表中的索引是 {position} \""
   ]
  },
  {
   "cell_type": "markdown",
   "metadata": {},
   "source": [
    "#### IndexOf 如果返回 -1 意味着什么？\n",
    "如果 IndexOf() 返回-1，则表示它无法在列表中找到该项目。事实上，你可以用一个 if 语句来解决找不到项的问题：\n",
    "\n",
    "> 运行代码\n",
    ">\n",
    "> 用几个不同的名称进行测试。"
   ]
  },
  {
   "cell_type": "code",
   "execution_count": null,
   "metadata": {
    "dotnet_interactive": {
     "language": "xsharp"
    },
    "polyglot_notebook": {
     "kernelName": "xsharp"
    }
   },
   "outputs": [],
   "source": [
    "using System.Collections.Generic\n",
    "VAR mySuperHeroes := List<String>{ <string>{\"Cyclops\", \"Beast\", \"Marvel Girl\", \"Angel\"} }\n",
    "var lookingFor := \"Beast\"\n",
    "var position = mySuperHeroes:IndexOf(lookingFor)\n",
    "IF position == -1\n",
    "    ? i\"在列表中没有找到 {lookingFor}\"\n",
    "ELSE\n",
    "    ? i\"{lookingFor} 在列表中的索引是 {position}\"\n",
    "ENDIF"
   ]
  },
  {
   "cell_type": "markdown",
   "metadata": {},
   "source": [
    "### 排序\n",
    "截至目前，都是按随机顺序设置名称。但有的时候，我们需要对列表进行排序。\n",
    "\n",
    "`Sort()`会对列表进行整理。它会查看元素类型，并以最合理的方式进行组织  \n",
    "- 字符串按字母顺序排序。\n",
    "- 数字按从小到大排序。\n",
    "\n",
    "请注意，`Sort()` 会改变列表本身，因此不必将操作保存到新对象中。\n",
    "\n",
    "> 测试代码  \n",
    "> 添加其他名称，查看它们的排序。"
   ]
  },
  {
   "cell_type": "code",
   "execution_count": null,
   "metadata": {
    "dotnet_interactive": {
     "language": "xsharp"
    },
    "polyglot_notebook": {
     "kernelName": "xsharp"
    }
   },
   "outputs": [],
   "source": [
    "using System.Collections.Generic\n",
    "VAR mySuperHeroes := List<String>{ <string>{\"Cyclops\", \"Beast\", \"Marvel Girl\", \"Angel\"} }\n",
    "? \"排序前:\"\n",
    "FOREACH VAR hero IN mySuperHeroes\n",
    "    ? hero\n",
    "NEXT\n",
    "mySuperHeroes:Sort()\n",
    "? \"-==-\"\n",
    "? \"排序后:\"\n",
    "FOREACH VAR hero IN mySuperHeroes\n",
    "    ? hero\n",
    "NEXT"
   ]
  },
  {
   "cell_type": "markdown",
   "metadata": {},
   "source": [
    "#### 更改排序\n",
    "如果要按逆序排序呢？为此，`Sort()` 可以接受一个参数实现逆序排序。 \n",
    "\n",
    "> 试试这段代码"
   ]
  },
  {
   "cell_type": "code",
   "execution_count": null,
   "metadata": {
    "dotnet_interactive": {
     "language": "xsharp"
    },
    "polyglot_notebook": {
     "kernelName": "xsharp"
    }
   },
   "outputs": [],
   "source": [
    "using System.Collections.Generic\n",
    "VAR mySuperHeroes := List<String>{ <string>{\"Cyclops\", \"Beast\", \"Marvel Girl\", \"Angel\"} }\n",
    "? \"排序前:\"\n",
    "FOREACH VAR hero IN mySuperHeroes\n",
    "    ? hero\n",
    "NEXT\n",
    "mySuperHeroes:Sort({|a,b| a:CompareTo(b)})\n",
    "? \"-==-\"\n",
    "? \"排序后:\"\n",
    "FOREACH VAR hero IN mySuperHeroes\n",
    "    ? hero\n",
    "NEXT"
   ]
  },
  {
   "cell_type": "markdown",
   "metadata": {},
   "source": [
    "##### 这里发生了什么？\n",
    "`|a,b|`是列表中用于比较的两个元素，`|`用作参数的分隔符和用于排序的代码。  \n",
    "`a:CompareTo(b)`将 a 与 b 进行比较：\n",
    "- 如果 a 在 b 之前，则返回 -1\n",
    "- 如果 a 等于 b，返回 0\n",
    "- 如果 b 在 a 之前，则返回 1\n",
    "-1、0、1 是 Sort() 希望用来组织元素的值。\n",
    "\n",
    "> 尝试通过交换 a 和 b 的顺序作为参数来改变 Sort() 的执行方式。"
   ]
  },
  {
   "cell_type": "markdown",
   "metadata": {},
   "source": [
    "### 管理列表\n",
    "您还可以使用各种方法对 List<T> 进行管理：\n",
    "- RemoveAt，通过位置删除元素。\n",
    "- Insert，在特定位置插入元素。\n",
    "- Clear，清空列表。\n",
    "- Reverse，用于... 猜猜看）\n",
    "\n",
    "> 在下面的单元格中尝试这些方法，发挥你的创造力！\n"
   ]
  },
  {
   "cell_type": "code",
   "execution_count": null,
   "metadata": {
    "dotnet_interactive": {
     "language": "xsharp"
    },
    "polyglot_notebook": {
     "kernelName": "xsharp"
    }
   },
   "outputs": [],
   "source": [
    "using System.Collections.Generic\n",
    "VAR mySuperHeroes := List<String>{ <string>{\"Cyclops\", \"Beast\", \"Marvel Girl\", \"Angel\"} }\n",
    "\n",
    "mySuperHeroes:Insert( 1, \"Professeur Xavier\" )\n",
    "FOREACH VAR hero IN mySuperHeroes\n",
    "    ? hero\n",
    "NEXT"
   ]
  },
  {
   "cell_type": "markdown",
   "metadata": {},
   "source": [
    "# 沙盒\n",
    "> 制作一个杂货清单，并将该清单称为`groceries`，然后对它们进行排序！\n",
    "\n",
    "> `胡萝卜`的索引是多少？\n",
    "\n",
    "> 删除一个元素，再插入一个元素，然后再次排序。\n",
    "\n",
    "\n",
    "> 试着创建一个数字列表！它们的排序方式符合你的预期吗？尝试改变排序顺序。"
   ]
  },
  {
   "cell_type": "code",
   "execution_count": null,
   "metadata": {
    "dotnet_interactive": {
     "language": "xsharp"
    },
    "polyglot_notebook": {
     "kernelName": "xsharp"
    }
   },
   "outputs": [],
   "source": [
    "? \"Sandbox\""
   ]
  }
 ],
 "metadata": {
  "kernelspec": {
   "display_name": ".NET (C#)",
   "language": "C#",
   "name": ".net-csharp"
  },
  "polyglot_notebook": {
   "kernelInfo": {
    "defaultKernelName": "csharp",
    "items": [
     {
      "aliases": [],
      "languageName": "csharp",
      "name": "csharp"
     },
     {
      "aliases": [],
      "languageName": "X#",
      "name": "xsharp"
     }
    ]
   }
  }
 },
 "nbformat": 4,
 "nbformat_minor": 2
}
