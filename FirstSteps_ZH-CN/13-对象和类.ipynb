{
 "cells": [
  {
   "cell_type": "markdown",
   "metadata": {},
   "source": [
    "# 加载 *XSharp 语言核心*."
   ]
  },
  {
   "cell_type": "code",
   "execution_count": null,
   "metadata": {
    "dotnet_interactive": {
     "language": "csharp"
    },
    "polyglot_notebook": {
     "kernelName": "csharp"
    }
   },
   "outputs": [],
   "source": [
    "// <-= 点击左侧箭头运行代码\n",
    "#r \"nuget:XSharpInteractive\""
   ]
  },
  {
   "cell_type": "markdown",
   "metadata": {},
   "source": [
    "# 对象和类\n",
    "\n",
    "## 面向对象编程(OOP)\n",
    "对象是一种在代码中模拟现实世界的方法。 \n",
    "\n",
    "以`人`这个概念为例，他可以有姓名、地址、身高，所有这些属性都会因人而异。 \n",
    "\n",
    "面向对象编码将这类信息打包，这样你就可以很容易地创建一个包含所有这些细节的`人`。 \n",
    "\n",
    "你可以用对象做很多事情，但现在你可以从最基本的开始。"
   ]
  },
  {
   "cell_type": "markdown",
   "metadata": {},
   "source": [
    "为了在内存中创建一个*对象*，我们需要首先为该*对象*创建一个*模型*或*模板*： 这就是**类**\n",
    "\n",
    "- **对象**： 对象是类的实例。它们拥有实际数据值以及执行类定义的操作的能力。\n",
    "- **方法**： 方法是在类中定义的函数或操作。它们定义了对象的行为。它们可以执行各种操作、处理数据并与其他对象交互。它们通常用动词来标识。\n",
    "- **属性**： 属性也称为属性或字段，是类的数据成员。它们存储与对象相关的特征或数据。它们通常用名词来标识。"
   ]
  },
  {
   "cell_type": "markdown",
   "metadata": {},
   "source": [
    "在接下来笔记中将创建一个具有以下属性的银行账户：  \n",
    "\n",
    "> 它有用于唯一标识账户的 10 位数的数字。 \n",
    ">\n",
    "> 它有存储所有者的姓名。 \n",
    ">\n",
    "> 可以查询余额。\n",
    ">\n",
    "> 可以存款。 \n",
    ">\n",
    "> 可以取款。 \n",
    ">\n",
    "> 取款不能导致负余额。\n",
    ">\n",
    "> 初始余额不能为负数。"
   ]
  },
  {
   "cell_type": "markdown",
   "metadata": {},
   "source": [
    "## 1. 属性\n",
    "您可以 ***get*** 和 ***set*** 属性值：有时您只想让用户看到变量，但不想更改它。有时你又希望用户可以更改变量。\n",
    "\n",
    "***get*** 可以让你看到变量，***set*** 可以让你更改变量。(对吗？)\n",
    "\n",
    "> 在 BankAccount 对象下键入以下代码\n",
    "\n",
    "        PUBLIC PROPERTY Number AS STRING AUTO GET SET\n",
    "        PUBLIC PROPERTY Owner AS STRING AUTO GET SET\n",
    "        PUBLIC PROPERTY Balance AS Decimal AUTO GET"
   ]
  },
  {
   "cell_type": "code",
   "execution_count": null,
   "metadata": {
    "dotnet_interactive": {
     "language": "xsharp"
    },
    "polyglot_notebook": {
     "kernelName": "xsharp"
    }
   },
   "outputs": [],
   "source": [
    "CLASS BankAccount\n",
    "    // 属性（粘贴在下）\n",
    "    PUBLIC PROPERTY Number AS STRING AUTO GET SET\n",
    "    PUBLIC PROPERTY Owner AS STRING AUTO GET SET\n",
    "    PUBLIC PROPERTY Balance AS Decimal AUTO GET\n",
    "        \n",
    "    // 构造函数\n",
    "\n",
    "    // 方法\n",
    "\n",
    "END CLASS"
   ]
  },
  {
   "cell_type": "markdown",
   "metadata": {},
   "source": [
    "## 2. 构造函数\n",
    "顾名思义，构造函数就是用于创建对象的特定实例。 \n",
    "\n",
    "像现在这样创建一个 BankAccount 类，就像是为所有银行账户创建一个模板。它不是一个特定的账户。 \n",
    "\n",
    "构造函数将创建一个包含所有实际细节的单一账户。你可以向构造函数提供你想要的特定账户的所有细节，然后构造函数会将这些细节赋值给新对象的属性。\n",
    "\n",
    "`SELF`是一个样式选择。它明确说明了属性 `Owner` 是该*实例*的变量。 \n",
    "\n",
    "将来，你会有多个实例进行交互，这将变得更加明确。如果你愿意，也可以写成 `Owner`，而不是 `SELF:Owner`！SELF \"表示赋值的上下文是我们当前正在操作的对象。\n",
    "\n",
    "\n",
    "与函数一样，构造函数也可以接收参数。 \n",
    "\n",
    "我们接收变量 `name` 和 `initialBalance` 并用这些值初始化一个银行账户对象。\n",
    "\n",
    "> 在 BankAccount 的构造函数键入如下代码\n",
    "\n",
    "    PUBLIC CONSTRUCTOR( name AS STRING, initialBalance AS DECIMAL )\n",
    "        SELF:Owner := name\n",
    "        SELF:Balance := initialBalance\n",
    "    END CONSTRUCTOR"
   ]
  },
  {
   "cell_type": "code",
   "execution_count": null,
   "metadata": {
    "dotnet_interactive": {
     "language": "xsharp"
    },
    "polyglot_notebook": {
     "kernelName": "xsharp"
    }
   },
   "outputs": [],
   "source": [
    "CLASS BankAccount\n",
    "    // 属性 \n",
    "    PUBLIC PROPERTY Number AS STRING AUTO GET SET\n",
    "    PUBLIC PROPERTY Owner AS STRING AUTO GET SET\n",
    "    PUBLIC PROPERTY Balance AS Decimal AUTO GET\n",
    "        \n",
    "    // 构造函数\n",
    "    PUBLIC CONSTRUCTOR( name AS STRING, initialBalance AS DECIMAL )\n",
    "        SELF:Owner := name\n",
    "        SELF:Balance := initialBalance\n",
    "    END CONSTRUCTOR\n",
    "    \n",
    "    // 方法\n",
    "\n",
    "END CLASS"
   ]
  }
 ],
 "metadata": {
  "kernelspec": {
   "display_name": ".NET (C#)",
   "language": "C#",
   "name": ".net-csharp"
  },
  "polyglot_notebook": {
   "kernelInfo": {
    "defaultKernelName": "csharp",
    "items": [
     {
      "aliases": [],
      "languageName": "csharp",
      "name": "csharp"
     },
     {
      "aliases": [],
      "languageName": "X#",
      "name": "xsharp"
     }
    ]
   }
  }
 },
 "nbformat": 4,
 "nbformat_minor": 2
}
