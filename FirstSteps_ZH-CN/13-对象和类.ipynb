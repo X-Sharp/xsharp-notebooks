{
 "cells": [
  {
   "cell_type": "markdown",
   "metadata": {},
   "source": [
    "# 加载 *XSharp 语言核心*."
   ]
  },
  {
   "cell_type": "code",
   "execution_count": null,
   "metadata": {
    "dotnet_interactive": {
     "language": "csharp"
    },
    "polyglot_notebook": {
     "kernelName": "csharp"
    }
   },
   "outputs": [],
   "source": [
    "// <-= 点击左侧箭头运行代码\n",
    "#r \"nuget:XSharpInteractive\""
   ]
  },
  {
   "cell_type": "markdown",
   "metadata": {},
   "source": [
    "# 对象和类\n",
    "\n",
    "## 面向对象编程(OOP)\n",
    "对象是一种在代码中模拟现实世界的方法。 \n",
    "\n",
    "如果以**人**为概念，他们可以有一个名字、地址、身高，所有这些属性都会因人而异。 \n",
    "\n",
    "面向对象编码将这类信息打包，这样你就可以很容易地创建一个包含所有这些细节的`人`。 \n",
    "\n",
    "你可以用对象做很多事情，但现在你可以从最基本的开始。"
   ]
  },
  {
   "cell_type": "markdown",
   "metadata": {},
   "source": [
    "为了在内存中创建一个*对象*，我们需要首先为该*对象*创建一个*模型*或*模板*： 这就是**类**\n",
    "\n",
    "- **对象**： 对象是类的实例。它们拥有实际数据值以及执行类定义的操作的能力。他们*存在*于内存。\n",
    "- **方法**： 方法是在类中定义的函数或操作。它们定义了对象的行为。它们可以执行各种操作、处理数据并与其他对象交互。它们通常用动词来标识。\n",
    "- **属性**： 属性也称为属性或字段，是类的数据成员。它们存储与对象相关的特征或数据。它们通常用名词来标识。  \n",
    "在 X# 中，\"字段\" 和 \"属性\"并不完全相同，但暂且不论(我们将在 [方法和成员](./14-方法和成员.ipynb) 中予以讨论其区别）。"
   ]
  },
  {
   "cell_type": "markdown",
   "metadata": {},
   "source": [
    "在接下来笔记中将创建一个具有以下属性的银行账户：  \n",
    "\n",
    "> 它有用于唯一标识账户的 10 位数的数字。 \n",
    ">\n",
    "> 它有存储所有者的姓名。 \n",
    ">\n",
    "> 可以查询余额。\n",
    ">\n",
    "> 可以存款。 \n",
    ">\n",
    "> 可以取款。 \n",
    ">\n",
    "> 取款不能导致负余额。\n",
    ">\n",
    "> 初始余额不能为负数。"
   ]
  },
  {
   "cell_type": "markdown",
   "metadata": {},
   "source": [
    "## 1. 属性\n",
    "您可以 ***get*** 和 ***set*** 属性值：有时您只想让用户看到变量，但不想更改它。有时你又希望用户可以更改变量。\n",
    "\n",
    "***get*** 可以让你看到变量，***set*** 可以让你更改变量。(对吗？)\n",
    "\n",
    "> 在 //属性 下的 BankAccount 对象中键入以下代码\n",
    "\n",
    "        PUBLIC PROPERTY Number AS STRING AUTO GET SET\n",
    "        PUBLIC PROPERTY Owner AS STRING AUTO GET SET\n",
    "        PUBLIC PROPERTY Balance AS Decimal AUTO GET"
   ]
  },
  {
   "cell_type": "code",
   "execution_count": null,
   "metadata": {
    "dotnet_interactive": {
     "language": "xsharp"
    },
    "polyglot_notebook": {
     "kernelName": "xsharp"
    }
   },
   "outputs": [],
   "source": [
    "CLASS BankAccount\n",
    "    // 属性（粘贴在这里）\n",
    "        \n",
    "    // 构造函数\n",
    "\n",
    "    // 方法\n",
    "\n",
    "END CLASS"
   ]
  },
  {
   "cell_type": "markdown",
   "metadata": {},
   "source": [
    "## 2. 构造函数\n",
    "顾名思义，构造函数就是用于**创建**对象的特定实例。 \n",
    "\n",
    "像现在这样创建一个 BankAccount 类，就像是为所有银行账户创建一个模板。它不是一个特定的账户。 \n",
    "\n",
    "构造函数将***制造***一个包含所有实际细节的单一账户。您可以向构造函数提供您想要的特定账户的所有详细信息，构造函数会将这些详细信息赋值给***新对象***的属性。\n",
    "\n",
    "> 请看下面的代码：\n",
    "\n",
    "在 `METHOD` 中使用 `SELF` 是一种样式选择。  \n",
    "它清楚地表明，在 `METHOD` 中编写的代码是相对于当前使用的对象而言的：属性 `Owner` 是 *that* 特定 *实例* 的变量。 \n",
    "今后，您将有多个实例进行交互，这一点将变得更加明确。如果需要，也可以写成 `Owner`，而不是 `SELF:Owner`！`SELF`表示赋值的上下文是我们当前正在操作的对象。\n",
    "\n",
    "\n",
    "与函数一样，构造函数也可以接收参数。 \n",
    "\n",
    "我们接收变量 `name` 和 `initialBalance` 并用这些值初始化一个银行账户对象。\n",
    "\n",
    "> 在 BankAccount 的构造函数键入如下代码\n",
    "\n",
    "    PUBLIC CONSTRUCTOR( name AS STRING, initialBalance AS DECIMAL )\n",
    "        SELF:Owner := name\n",
    "        SELF:Balance := initialBalance\n",
    "    END CONSTRUCTOR"
   ]
  },
  {
   "cell_type": "code",
   "execution_count": null,
   "metadata": {
    "dotnet_interactive": {
     "language": "xsharp"
    },
    "polyglot_notebook": {
     "kernelName": "xsharp"
    }
   },
   "outputs": [],
   "source": [
    "CLASS BankAccount\n",
    "    // 属性 \n",
    "    PUBLIC PROPERTY Number AS STRING AUTO GET SET\n",
    "    PUBLIC PROPERTY Owner AS STRING AUTO GET SET\n",
    "    PUBLIC PROPERTY Balance AS Decimal AUTO GET\n",
    "        \n",
    "    // 构造函数(粘贴到这里)\n",
    "    \n",
    "    // 方法\n",
    "\n",
    "END CLASS"
   ]
  },
  {
   "cell_type": "markdown",
   "metadata": {},
   "source": [
    "## 3. 创建对象\n",
    "\n",
    "代码编写完毕后，让我们创建一个 `BankAccount`！\n",
    "\n",
    "> 运行下面的两个代码单元，创建一个特定的银行账户。\n",
    ">> 是否如您所料？  \n",
    "\n",
    "> 更改代码，为自己创建一个银行账户。\n",
    ">> 你想在银行账户里存多少钱？"
   ]
  },
  {
   "cell_type": "code",
   "execution_count": null,
   "metadata": {
    "dotnet_interactive": {
     "language": "xsharp"
    },
    "polyglot_notebook": {
     "kernelName": "xsharp"
    }
   },
   "outputs": [],
   "source": [
    "CLASS BankAccount\n",
    "    // Properties \n",
    "    PUBLIC PROPERTY Number AS STRING AUTO GET SET\n",
    "    PUBLIC PROPERTY Owner AS STRING AUTO GET SET\n",
    "    PUBLIC PROPERTY Balance AS Decimal AUTO GET\n",
    "        \n",
    "    // Constructor \n",
    "    PUBLIC CONSTRUCTOR( name AS STRING, initialBalance AS DECIMAL )\n",
    "        SELF:Owner := name\n",
    "        SELF:Balance := initialBalance\n",
    "    END CONSTRUCTOR\n",
    "    \n",
    "    // Methods\n",
    "\n",
    "END CLASS"
   ]
  },
  {
   "cell_type": "code",
   "execution_count": null,
   "metadata": {
    "dotnet_interactive": {
     "language": "xsharp"
    },
    "polyglot_notebook": {
     "kernelName": "xsharp"
    }
   },
   "outputs": [],
   "source": [
    "var account := BankAccount{ \"Bruce\", 1000 }\n",
    "? i\"The account number [{account:Number}] belongs to {account:Owner}\"\n",
    "? i\"It has been created with {account:Balance} Euros.\""
   ]
  },
  {
   "cell_type": "markdown",
   "metadata": {},
   "source": [
    "#### account:Number 怎么办？\n",
    "您可能已经注意到，代码没有打印出 account.Number 的任何内容。  \n",
    "没关系！你还没有在其中输入任何内容。您将在另一个笔记中了解它。"
   ]
  },
  {
   "cell_type": "markdown",
   "metadata": {},
   "source": [
    "## 4: 方法\n",
    "方法（有些语言称之为*成员函数*）用于对对象执行操作或更改对象变量。 \n",
    "\n",
    "这两个方法将用于存款（添加资金）和取款（取出资金）。稍后您将在这些方法中添加代码，但现在您只想添加空白版本。\n",
    "\n",
    "> 复制下面的方法原型，并将它们添加到 BankAccount 的 // Methods 下\n",
    "\n",
    "    PUBLIC METHOD MakeDeposit( amount AS DECIMAL, depositDate AS DateTime, notes AS STRING ) AS VOID\n",
    "\n",
    "    END METHOD\n",
    "\n",
    "    PUBLIC METHOD MakeWithdrawal( amount AS DECIMAL, withdrawDate AS DateTime, notes AS STRING ) AS VOID\n",
    "\n",
    "    END METHOD"
   ]
  },
  {
   "cell_type": "code",
   "execution_count": null,
   "metadata": {
    "dotnet_interactive": {
     "language": "xsharp"
    },
    "polyglot_notebook": {
     "kernelName": "xsharp"
    }
   },
   "outputs": [],
   "source": [
    "CLASS BankAccount\n",
    "    // Properties \n",
    "    PUBLIC PROPERTY Number AS STRING AUTO GET SET\n",
    "    PUBLIC PROPERTY Owner AS STRING AUTO GET SET\n",
    "    PUBLIC PROPERTY Balance AS Decimal AUTO GET\n",
    "        \n",
    "    // Constructor \n",
    "    PUBLIC CONSTRUCTOR( name AS STRING, initialBalance AS DECIMAL )\n",
    "        SELF:Owner := name\n",
    "        SELF:Balance := initialBalance\n",
    "    END CONSTRUCTOR\n",
    "    \n",
    "    // Methods (粘贴到这里)\n",
    "\n",
    "END CLASS"
   ]
  },
  {
   "cell_type": "markdown",
   "metadata": {},
   "source": [
    "## 回顾\n",
    "\n",
    "下面是用来完成本笔记的 `BankAccount` 版本。  \n",
    "\n",
    "我们稍后会添加更多元素，但为什么不自己试一试，看看有什么遗漏呢？\n",
    "\n",
    "> 您能添加一个 10 位数的代码吗？你的对象需要什么才能独一无二？\n",
    ">\n",
    "> 试试添加存款方式的代码！它应该做什么？\n",
    ">\n",
    "> 如何检查初始余额是否为正？"
   ]
  },
  {
   "cell_type": "code",
   "execution_count": null,
   "metadata": {
    "dotnet_interactive": {
     "language": "xsharp"
    },
    "polyglot_notebook": {
     "kernelName": "xsharp"
    }
   },
   "outputs": [],
   "source": [
    "CLASS BankAccount\n",
    "    // Properties (#1)\n",
    "    PUBLIC PROPERTY Number AS STRING AUTO GET SET\n",
    "    PUBLIC PROPERTY Owner AS STRING AUTO GET SET\n",
    "    PUBLIC PROPERTY Balance AS Decimal AUTO GET\n",
    "        \n",
    "    // Constructor (#2)\n",
    "    PUBLIC CONSTRUCTOR( name AS STRING, initialBalance AS DECIMAL )\n",
    "        SELF:Owner := name\n",
    "        SELF:Balance := initialBalance\n",
    "    END CONSTRUCTOR\n",
    "    \n",
    "    // Methods (#4)\n",
    "    PUBLIC METHOD MakeDeposit( amount AS DECIMAL, depositDate AS DateTime, notes AS STRING ) AS VOID\n",
    "\n",
    "    END METHOD\n",
    "\n",
    "    PUBLIC METHOD MakeWithdrawal( amount AS DECIMAL, withdrawDate AS DateTime, notes AS STRING ) AS VOID\n",
    "\n",
    "    END METHOD\n",
    "END CLASS"
   ]
  },
  {
   "cell_type": "code",
   "execution_count": null,
   "metadata": {
    "dotnet_interactive": {
     "language": "xsharp"
    },
    "polyglot_notebook": {
     "kernelName": "xsharp"
    }
   },
   "outputs": [],
   "source": [
    "var account := BankAccount{ \"Bruce\", 1000 }\n",
    "? i\"The account number [{account:Number}] belongs to {account:Owner}\"\n",
    "? i\"It has been created with {account:Balance} Euros.\""
   ]
  }
 ],
 "metadata": {
  "kernelspec": {
   "display_name": ".NET (C#)",
   "language": "C#",
   "name": ".net-csharp"
  },
  "polyglot_notebook": {
   "kernelInfo": {
    "defaultKernelName": "csharp",
    "items": [
     {
      "aliases": [],
      "languageName": "csharp",
      "name": "csharp"
     },
     {
      "aliases": [],
      "languageName": "X#",
      "name": "xsharp"
     }
    ]
   }
  }
 },
 "nbformat": 4,
 "nbformat_minor": 2
}
