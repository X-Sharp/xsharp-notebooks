{
 "cells": [
  {
   "cell_type": "markdown",
   "metadata": {},
   "source": [
    "# *加载* XSharp 语言内核."
   ]
  },
  {
   "cell_type": "code",
   "execution_count": null,
   "metadata": {
    "dotnet_interactive": {
     "language": "csharp"
    },
    "polyglot_notebook": {
     "kernelName": "csharp"
    }
   },
   "outputs": [],
   "source": [
    "// <-= 按左侧箭头运行\n",
    "#r \"nuget:XSharpInteractive\""
   ]
  },
  {
   "cell_type": "markdown",
   "metadata": {},
   "source": [
    "# 声明并使用变量\n",
    "为了在控制台输出消息，你可以使用 .NET 的方法 `Console.WriteLine` 或者 xBase 的 `?` 命令.\n",
    "\n",
    "**变量** 是可以存储值的符号。  \n",
    "例如，你可以声明一个名为 `aFriend` 的变量，你可以使用 `?` 命令在控制台输出一个字符串.\n",
    "你也可以使用关键字 `var` 来声明变量，它会使用 `:=` 这个操作符来*猜测*变量类型(这里的类型是 `STRING`).  \n",
    "或者，你可以使用 `LOCAL` 语句的 `AS STRING` 来声明变量并指定类型.\n",
    "\n",
    "> 测试并检查下面的代码运行的结果.\n",
    ">\n",
    "> 然后，你可以更改变量的值并再次测试.\n",
    "\n",
    "> 为在控制台输出消息，可以使用 .NET 的方法 `Console.WriteLine` 或者 xBase 命令 `?` 。"
   ]
  },
  {
   "cell_type": "code",
   "execution_count": null,
   "metadata": {
    "dotnet_interactive": {
     "language": "xsharp"
    },
    "polyglot_notebook": {
     "kernelName": "xsharp"
    }
   },
   "outputs": [],
   "source": [
    "var aFriend := \"Fabrice\"\n",
    "? aFriend\n",
    "Local anotherOne AS STRING\n",
    "anotherOne := \"Robert\"\n",
    "? anotherOne"
   ]
  },
  {
   "cell_type": "markdown",
   "metadata": {},
   "source": [
    "## 字符串组合\n",
    "\n",
    "您可以使用 `+` 将多个字符串组合起来，创建一个新字符串，并打印到控制台。这样做的目的是用一个 **变量** 和一个 **常量** 创建一个新字符串。"
   ]
  },
  {
   "cell_type": "code",
   "execution_count": null,
   "metadata": {
    "dotnet_interactive": {
     "language": "xsharp"
    },
    "polyglot_notebook": {
     "kernelName": "xsharp"
    }
   },
   "outputs": [],
   "source": [
    "var aFriend := \"Fabrice\"\n",
    "Local anotherOne AS STRING\n",
    "anotherOne := \"Robert\"\n",
    "\n",
    "Console.WriteLine( \"Hello \" + aFriend + \" and \" + anotherOne + \" !\" )"
   ]
  },
  {
   "cell_type": "markdown",
   "metadata": {},
   "source": [
    "## 字符串插值\n",
    "\n",
    "还有一种更好的办法，将 **变量名** 放置在 {} 中。这就是告诉 X#，将这个位置的文本，使用对应的 **变量值** 替代。这就是字符串插值。  \n",
    "在引号之前增加 **i** 可以启用字符串插值。\n"
   ]
  },
  {
   "cell_type": "code",
   "execution_count": null,
   "metadata": {
    "dotnet_interactive": {
     "language": "xsharp"
    },
    "polyglot_notebook": {
     "kernelName": "xsharp"
    }
   },
   "outputs": [],
   "source": [
    "var aFriend := \"Chris\"\n",
    "var anotherOne := \"Nikos\"\n",
    "\n",
    "Console.WriteLine( i\"Hello {aFriend} and {anotherOne} !\" )"
   ]
  },
  {
   "cell_type": "markdown",
   "metadata": {},
   "source": [
    "## 沙盒：锻炼自己！\n",
    "\n",
    "每个笔记最后都会有一个小练习。在这里，你可以依据所学自己编写一些代码执行。 \n",
    "尝试打印单词和变量，这些单词和变量都是你自己定义的，名字也是你自己选择的。\n",
    "\n",
    "> 你可以随意玩耍，享受自己的盛宴！"
   ]
  },
  {
   "cell_type": "code",
   "execution_count": null,
   "metadata": {
    "dotnet_interactive": {
     "language": "xsharp"
    },
    "polyglot_notebook": {
     "kernelName": "xsharp"
    }
   },
   "outputs": [],
   "source": [
    "? \"Sandbox\""
   ]
  }
 ],
 "metadata": {
  "kernelspec": {
   "display_name": ".NET (C#)",
   "language": "C#",
   "name": ".net-csharp"
  },
  "polyglot_notebook": {
   "kernelInfo": {
    "defaultKernelName": "csharp",
    "items": [
     {
      "aliases": [],
      "languageName": "csharp",
      "name": "csharp"
     },
     {
      "aliases": [],
      "languageName": "X#",
      "name": "xsharp"
     }
    ]
   }
  }
 },
 "nbformat": 4,
 "nbformat_minor": 2
}
