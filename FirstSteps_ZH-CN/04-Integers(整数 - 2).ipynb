{
 "cells": [
  {
   "cell_type": "markdown",
   "metadata": {},
   "source": [
    "# 加载 *XSharp 语言内核*."
   ]
  },
  {
   "cell_type": "code",
   "execution_count": null,
   "metadata": {
    "dotnet_interactive": {
     "language": "csharp"
    },
    "polyglot_notebook": {
     "kernelName": "csharp"
    }
   },
   "outputs": [],
   "source": [
    "// <-= 点击左侧箭头运行代码\n",
    "#r \"nuget:XSharpInteractive\""
   ]
  },
  {
   "cell_type": "markdown",
   "metadata": {},
   "source": [
    "# 整数：第二部分\n",
    "我们之前已经看到，用整数做数学运算时，结果只能是整数。 \n",
    "数字被截断，这意味着余数被截去。你可以用余数运算符 **%** 求余数。 \n",
    "余数是除法的*余*量。\n",
    "\n",
    "> 试试这段代码"
   ]
  },
  {
   "cell_type": "code",
   "execution_count": null,
   "metadata": {
    "dotnet_interactive": {
     "language": "xsharp"
    },
    "polyglot_notebook": {
     "kernelName": "xsharp"
    }
   },
   "outputs": [],
   "source": [
    "var a := 7\n",
    "var b := 4\n",
    "var c := 3\n",
    "var d := (a + b) / c\n",
    "var e := (a + b) % c\n",
    "? i\"商: {d}\"\n",
    "? i\"余数: {e}\""
   ]
  },
  {
   "cell_type": "markdown",
   "metadata": {},
   "source": [
    "那么，这里实际是发生了什么呢？ \n",
    "当你用 11 除以 3 时，有 3x3 可以填入 11，剩下 2（余数）。 \n",
    "这就是为什么 3 是商，2 是余数的原因。"
   ]
  },
  {
   "cell_type": "markdown",
   "metadata": {},
   "source": [
    "### 整数的大小\n",
    "由于整数的存储方式，其大小是有限制的。\n",
    "\n",
    "> 你可以有这样的问题。但是最快得到答案的方式是亲自用 int64 和 int128 试试......"
   ]
  },
  {
   "cell_type": "code",
   "execution_count": null,
   "metadata": {
    "dotnet_interactive": {
     "language": "xsharp"
    },
    "polyglot_notebook": {
     "kernelName": "xsharp"
    }
   },
   "outputs": [],
   "source": [
    "VAR min := int32.MinValue\n",
    "VAR max := int32.MaxValue\n",
    "? i\"整数的范围是从 {min} 到 {max}.\""
   ]
  },
  {
   "cell_type": "markdown",
   "metadata": {},
   "source": [
    "问题是，超出这个范围怎么办？"
   ]
  },
  {
   "cell_type": "code",
   "execution_count": null,
   "metadata": {
    "dotnet_interactive": {
     "language": "xsharp"
    },
    "polyglot_notebook": {
     "kernelName": "xsharp"
    }
   },
   "outputs": [],
   "source": [
    "VAR max := int32.MaxValue\n",
    "max := max +3\n",
    "? i\"新的最大值： {max}.\""
   ]
  },
  {
   "cell_type": "markdown",
   "metadata": {},
   "source": [
    "结果看起来就像之前的 *最小* 值。它的工作原理有点像汽车的机械计数器，当你达到最高值时，它会返回到最小值，然后继续。"
   ]
  }
 ],
 "metadata": {
  "kernelspec": {
   "display_name": ".NET (C#)",
   "language": "C#",
   "name": ".net-csharp"
  },
  "polyglot_notebook": {
   "kernelInfo": {
    "defaultKernelName": "csharp",
    "items": [
     {
      "aliases": [],
      "languageName": "csharp",
      "name": "csharp"
     },
     {
      "aliases": [],
      "languageName": "X#",
      "name": "xsharp"
     }
    ]
   }
  }
 },
 "nbformat": 4,
 "nbformat_minor": 2
}
