{
 "cells": [
  {
   "cell_type": "markdown",
   "metadata": {},
   "source": [
    "# 加载 *XSharp 语言内核*."
   ]
  },
  {
   "cell_type": "code",
   "execution_count": null,
   "metadata": {
    "dotnet_interactive": {
     "language": "csharp"
    },
    "polyglot_notebook": {
     "kernelName": "csharp"
    }
   },
   "outputs": [],
   "source": [
    "// <-= 点击左侧箭头运行代码\n",
    "#r \"nuget:XSharpInteractive\""
   ]
  },
  {
   "cell_type": "markdown",
   "metadata": {
    "dotnet_interactive": {
     "language": "csharp"
    },
    "polyglot_notebook": {
     "kernelName": "csharp"
    }
   },
   "source": [
    "# XSharp 中的字符串\n",
    "我们在上一笔记中使用 *Dotnet方式* 来操作字符串。但不要忘了，XSharp 源自 xBase。  \n",
    "\n",
    "我们将探索一些 XSharp 原生支持的 xBase 函数，切记，这些笔记是在 X# 的精简版环境中运行的：   \n",
    "如果你想使用 X# 支持的各种方言来实验，就必须创建一个***真正的*** 应用程序。\n",
    "\n",
    "\n",
    "## 加载 XSharp Core(方言)\n",
    "这为所有 xBase 方言提供一些可以共享的函数。\n",
    "\n",
    "由于 xbase 的渊源，XSharp 语言默认情况下 **不区分大小写**，因此您可以使用大小写混合来编写和使用变量或函数名称。\n",
    "\n",
    "> 尝试运行以下代码"
   ]
  },
  {
   "cell_type": "code",
   "execution_count": null,
   "metadata": {
    "dotnet_interactive": {
     "language": "xsharp"
    },
    "polyglot_notebook": {
     "kernelName": "xsharp"
    }
   },
   "outputs": [],
   "source": [
    "#r \"C:\\Program Files (x86)\\XSharp\\Redist\\XSharp.Core.dll\" // 这里需要将路径更改为你自己机器上的路径\n",
    "using XSharp.Core\n",
    "\n",
    "? Functions.Upper(\"upper size me!\")"
   ]
  },
  {
   "cell_type": "markdown",
   "metadata": {},
   "source": [
    "在继续之前，让我们先看看这段代码：\n",
    "- `#r “C:\\Program Files (x86)\\XSharp\\Redist\\XSharp.Core.dll”`   \n",
    "这会将外部库 `Xsharp.Code.Dll` 加载到 **XSharpInteractive** 内存中。如有需要，请根据安装情况调整路径。\n",
    "- `Functions.Upper()` 函数  \n",
    "这将调用名为 `Functions` (类)的 `Upper()` 函数(方法)。在标准 X# 应用程序中，`Functions.` 这部分可以省略，只需 `Upper()` 即可。注意在 `Functions` 和函数名称之间加了一个**点**。\n",
    "- `using XSharp.Core`  \n",
    "这样做可以缩短我们调用各种函数时的代码。如果没有它，你应该把调用写成 `XSharp.Core.Functions.Upper()`"
   ]
  },
  {
   "cell_type": "markdown",
   "metadata": {},
   "source": [
    "## 摘录：XSharp 支持 xBase 的部分函数\n",
    "以下单元格包含 XSharp 支持的部分函数。\n",
    "\n",
    "> 请尝试使用该代码块，更改数值、函数名和变量名的大小写。"
   ]
  },
  {
   "cell_type": "code",
   "execution_count": null,
   "metadata": {
    "dotnet_interactive": {
     "language": "xsharp"
    },
    "polyglot_notebook": {
     "kernelName": "xsharp"
    }
   },
   "outputs": [],
   "source": [
    "var oneString := \"X# 是基于 xBase 语言的 .NET 平台的开源开发语言\"\n",
    "\n",
    "? Functions.Upper( oneString )\n",
    "? Functions.Lower( oneString )\n",
    "? Functions.IsLower( Functions.Lower( oneString ) )\n",
    "? Functions.Substr3( oneString, 66, 5 )\n",
    "\n",
    "oneString := \"   XSharp Rocks !   \"\n",
    "? \":\" + oneString + \":\"\n",
    "? \":\" + Functions.Ltrim(  oneString ) + \":\"\n",
    "? \":\" + Functions.Rtrim(  oneString ) + \":\"\n",
    "? \":\" + Functions.Alltrim(  oneString ) + \":\"\n",
    "\n",
    "oneString := \"1234\"\n",
    "? Functions.IsDigit( oneString )\n",
    "? Functions.IsAlpha( oneString )\n",
    "? Functions.IsSpace( oneString )"
   ]
  }
 ],
 "metadata": {
  "kernelspec": {
   "display_name": ".NET (C#)",
   "language": "C#",
   "name": ".net-csharp"
  },
  "polyglot_notebook": {
   "kernelInfo": {
    "defaultKernelName": "csharp",
    "items": [
     {
      "aliases": [],
      "name": "csharp"
     },
     {
      "aliases": [],
      "languageName": "X#",
      "name": "xsharp"
     }
    ]
   }
  }
 },
 "nbformat": 4,
 "nbformat_minor": 2
}
