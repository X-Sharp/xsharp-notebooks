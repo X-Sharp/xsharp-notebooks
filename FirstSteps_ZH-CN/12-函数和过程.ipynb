{
 "cells": [
  {
   "cell_type": "markdown",
   "metadata": {},
   "source": [
    "# 加载 *XSharp 语言核心*."
   ]
  },
  {
   "cell_type": "code",
   "execution_count": null,
   "metadata": {
    "dotnet_interactive": {
     "language": "csharp"
    },
    "polyglot_notebook": {
     "kernelName": "csharp"
    }
   },
   "outputs": [],
   "source": [
    "// <-= 点击左侧箭头运行代码\n",
    "#r \"nuget:XSharpInteractive\""
   ]
  },
  {
   "cell_type": "markdown",
   "metadata": {},
   "source": [
    "# 函数和过程\n",
    "函数和过程都是代码块，但它们具有不同的特性：  \n",
    "\n",
    "- **函数**： 它封装了一个指令序列，执行独立于程序其他部分的特定处理。函数可以在同一程序或其他程序中重复使用。它返回处理结果。使用 X# Core 时，必须指定返回值的类型。  \n",
    "- **程序**： 完成特定任务，但不返回值。这意味着过程等同于返回 `VOID` 类型的函数。 \n",
    "\n",
    "> 试试下面的代码"
   ]
  },
  {
   "cell_type": "code",
   "execution_count": null,
   "metadata": {
    "dotnet_interactive": {
     "language": "xsharp"
    },
    "polyglot_notebook": {
     "kernelName": "xsharp"
    }
   },
   "outputs": [],
   "source": [
    "PROCEDURE PrintHello()\n",
    "    ? \"Hello XSharp!\"\n",
    "END PROCEDURE\n",
    "\n",
    "PrintHello()\n",
    "PrintHello()"
   ]
  },
  {
   "cell_type": "markdown",
   "metadata": {},
   "source": [
    "代码分析：\n",
    "- `PROCEDURE` 表示代码块的开始\n",
    "- `PrintHello` 为代码块名词，在调用它时可以使用它。\n",
    "- `END PROCEDURE` 标志着代码块的结束。我们稍后会看到，块的关闭是可选的，但这是一个很好的做法。\n",
    "\n",
    "然后，我们调用该代码块两次，它会执行两次。"
   ]
  },
  {
   "cell_type": "markdown",
   "metadata": {},
   "source": [
    "### 参数\n",
    "函数或过程可以接收参数。参数是在函数定义的括号内指定的变量。它们代表函数/过程在被调用时希望接收的数据。通过参数，可以向函数/过程传递值，以便函数可以使用这些值执行任务。如果要传递多个参数，可以用逗号`,`作为分隔符。\n",
    "\n",
    "> 试试下面的代码"
   ]
  },
  {
   "cell_type": "code",
   "execution_count": null,
   "metadata": {
    "dotnet_interactive": {
     "language": "xsharp"
    },
    "polyglot_notebook": {
     "kernelName": "xsharp"
    }
   },
   "outputs": [],
   "source": [
    "PROCEDURE PrintHello( sayHello AS STRING, youAlso AS STRING )\n",
    "    ? i\"Hello {sayHello} and {youAlso}.\"\n",
    "END PROCEDURE\n",
    "\n",
    "PrintHello(\"Fabrice\",\"Chris\")"
   ]
  },
  {
   "cell_type": "markdown",
   "metadata": {},
   "source": [
    "### 函数\n",
    "在编写函数时，您必须指定结果的类型，并使用 RETURN 关键字指明要返回的值。\n",
    "\n",
    "> 试试这段代码"
   ]
  },
  {
   "cell_type": "code",
   "execution_count": null,
   "metadata": {
    "dotnet_interactive": {
     "language": "xsharp"
    },
    "polyglot_notebook": {
     "kernelName": "xsharp"
    }
   },
   "outputs": [],
   "source": [
    "FUNCTION AddTen( parameter AS int ) AS INT\n",
    "    parameter := parameter + 10\n",
    "    RETURN parameter\n",
    "END FUNCTION\n",
    "\n",
    "VAR x := 15\n",
    "? AddTen( x )\n",
    "? x\n",
    "x := AddTen( x )\n",
    "? x"
   ]
  },
  {
   "cell_type": "markdown",
   "metadata": {},
   "source": [
    "请注意，在传递参数时，它是按值传递的。这意味着 `X` 的值被复制并拷贝到了 `parameter` 中。这就是为什么在第一次调用后，x 的值没有改变。"
   ]
  },
  {
   "cell_type": "markdown",
   "metadata": {},
   "source": [
    "最后，当您有多个函数或过程时，`END` 不是必须的。 \n",
    "\n",
    "当下一个程序块开始时，第一个程序块就会结束，但最好始终使用 `END` 。"
   ]
  },
  {
   "cell_type": "code",
   "execution_count": null,
   "metadata": {
    "dotnet_interactive": {
     "language": "xsharp"
    },
    "polyglot_notebook": {
     "kernelName": "xsharp"
    }
   },
   "outputs": [],
   "source": [
    "FUNCTION AddTen( parameter AS int ) AS INT\n",
    "    parameter := parameter + 10\n",
    "    RETURN parameter\n",
    "\n",
    "PROCEDURE PrintHello( sayHello AS STRING )\n",
    "    ? i\"Hello {sayHello}\"\n",
    "END PROCEDURE\n",
    "\n",
    "PrintHello(\"Nikos\")"
   ]
  },
  {
   "cell_type": "markdown",
   "metadata": {},
   "source": [
    "### XSharp 入口点\n",
    "在标准的 X# 控制台应用程序中，应用程序的默认入口点*原型* 如下：\n",
    "\n",
    "> `FUNCTION Start() AS VOID`"
   ]
  },
  {
   "cell_type": "markdown",
   "metadata": {},
   "source": [
    "# 沙盒\n",
    "\n",
    "> 创建一个函数，将增值税与价格相加（两个值都作为参数传递）并返回结果。\n",
    "\n",
    "> 获取结果并打印。\n",
    "\n",
    "> 创建一个价格列表，然后调用每个价格的函数，并调用所有价格的增值税总计，然后打印总计。"
   ]
  },
  {
   "cell_type": "code",
   "execution_count": null,
   "metadata": {
    "dotnet_interactive": {
     "language": "xsharp"
    },
    "polyglot_notebook": {
     "kernelName": "xsharp"
    }
   },
   "outputs": [],
   "source": [
    "? \"Sandbox\""
   ]
  }
 ],
 "metadata": {
  "kernelspec": {
   "display_name": ".NET (C#)",
   "language": "C#",
   "name": ".net-csharp"
  },
  "polyglot_notebook": {
   "kernelInfo": {
    "defaultKernelName": "csharp",
    "items": [
     {
      "aliases": [],
      "languageName": "csharp",
      "name": "csharp"
     },
     {
      "aliases": [],
      "languageName": "X#",
      "name": "xsharp"
     }
    ]
   }
  }
 },
 "nbformat": 4,
 "nbformat_minor": 2
}
