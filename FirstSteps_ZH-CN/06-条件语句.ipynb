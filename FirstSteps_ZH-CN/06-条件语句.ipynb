{
 "cells": [
  {
   "cell_type": "markdown",
   "metadata": {},
   "source": [
    "# 加载 *XSharp 语言内核*."
   ]
  },
  {
   "cell_type": "code",
   "execution_count": null,
   "metadata": {
    "dotnet_interactive": {
     "language": "csharp"
    },
    "polyglot_notebook": {
     "kernelName": "csharp"
    }
   },
   "outputs": [],
   "source": [
    "// <-= 点击左侧箭头运行\n",
    "#r \"nuget:XSharpInteractive,1.0.0\""
   ]
  },
  {
   "cell_type": "markdown",
   "metadata": {},
   "source": [
    "# 条件语句\n",
    "条件语句是编程语言中用于控制决策的命令。\n",
    "\n",
    "### 简单的 IF\n",
    "**IF** 命令用于做出某种决定。\n",
    "\n",
    "> 试试下面的代码"
   ]
  },
  {
   "cell_type": "code",
   "execution_count": null,
   "metadata": {
    "dotnet_interactive": {
     "language": "xsharp"
    },
    "polyglot_notebook": {
     "kernelName": "xsharp"
    }
   },
   "outputs": [],
   "source": [
    "var a := 7\n",
    "var b := 4\n",
    "IF a + b > 10\n",
    "    ? \"结果大于 10.\"\n",
    "ENDIF"
   ]
  },
  {
   "cell_type": "markdown",
   "metadata": {},
   "source": [
    "如果我们将代码“翻译”成人类的自然语言，那么就是：“如果 a 加 b 的结果大于 10，那么就输出 '结果大于 10'”.\n",
    "\n",
    "如果 a + b < 10 时程序会做出什么反应呢？你可以更改上面的代码亲自试一下。\n",
    "\n",
    "是不是什么都没看到？这就对了！这说明 if 语句的 **条件** `(a + b > 10)` 没有满足，if 语句块中的代码并没有执行，因此不会输出任何信息。"
   ]
  },
  {
   "cell_type": "markdown",
   "metadata": {},
   "source": [
    "### 什么是条件？\n",
    "条件是 if 后面的语句。 \n",
    "条件的结果是一个``布尔值``，这意味着它必须返回 **true** 或 **false** 。\n",
    "您可以使用`>`、`<`、`<=`、`>=`或`==`等符号来达到目的。"
   ]
  },
  {
   "cell_type": "code",
   "execution_count": null,
   "metadata": {
    "dotnet_interactive": {
     "language": "xsharp"
    },
    "polyglot_notebook": {
     "kernelName": "xsharp"
    }
   },
   "outputs": [],
   "source": [
    "VAR boolVar := 3 > 5\n",
    "? i\"条件为 {boolVar}\""
   ]
  },
  {
   "cell_type": "markdown",
   "metadata": {},
   "source": [
    "### ELSE\n",
    "在前面的代码单元中，如果不满足 if 语句的条件，则跳过整个 if 语句。 \n",
    "但如果两种情况都要实现呢？如果条件的结果是 **false**，那么 **else** 就会发生。\n",
    "\n",
    "> 试试这段代码，改变值和条件，看看不同的结果。"
   ]
  },
  {
   "cell_type": "code",
   "execution_count": null,
   "metadata": {
    "dotnet_interactive": {
     "language": "xsharp"
    },
    "polyglot_notebook": {
     "kernelName": "xsharp"
    }
   },
   "outputs": [],
   "source": [
    "var a := 4\n",
    "var b := 4\n",
    "IF a + b > 10\n",
    "    ? \"结果大于 10.\"\n",
    "ELSE\n",
    "    ? \"结果不大于 10.\"\n",
    "ENDIF"
   ]
  }
 ],
 "metadata": {
  "kernelspec": {
   "display_name": ".NET (C#)",
   "language": "C#",
   "name": ".net-csharp"
  },
  "polyglot_notebook": {
   "kernelInfo": {
    "defaultKernelName": "csharp",
    "items": [
     {
      "aliases": [],
      "languageName": "csharp",
      "name": "csharp"
     },
     {
      "aliases": [],
      "languageName": "X#",
      "name": "xsharp"
     }
    ]
   }
  }
 },
 "nbformat": 4,
 "nbformat_minor": 2
}
