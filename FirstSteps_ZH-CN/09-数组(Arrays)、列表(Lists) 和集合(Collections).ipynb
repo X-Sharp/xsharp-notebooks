{
 "cells": [
  {
   "cell_type": "markdown",
   "metadata": {},
   "source": [
    "# 加载 *XSharp 语言内核*."
   ]
  },
  {
   "cell_type": "code",
   "execution_count": null,
   "metadata": {
    "dotnet_interactive": {
     "language": "csharp"
    },
    "polyglot_notebook": {
     "kernelName": "csharp"
    }
   },
   "outputs": [],
   "source": [
    "// <-= 点击左侧箭头运行代码\n",
    "#r \"nuget:XSharpInteractive,1.0.0\""
   ]
  },
  {
   "cell_type": "markdown",
   "metadata": {},
   "source": [
    "# 数组(Arrays)、列表(Lists) 和集合(Collections)\n",
    "\n",
    "数组、列表和集合都非常有用。不过，它们还是有一些区别，我们将在下文中看到。"
   ]
  },
  {
   "cell_type": "markdown",
   "metadata": {},
   "source": [
    "### 数组(Arrays)\n",
    "数组定义了固定数量的相同类型的值。\n",
    "\n",
    "这意味着不能增大或缩小数组：必须在定义数组时指定其大小。  \n",
    "\n",
    "访问数组值时，需要指定数组的索引。 \n",
    "\n",
    "`警告!!!` `在 X# 中，默认情况下数组索引从 1 开始。`\n",
    "\n",
    "> 试试下面的代码。改变数组的大小，并尝试从末尾开始填充。"
   ]
  },
  {
   "cell_type": "code",
   "execution_count": null,
   "metadata": {
    "dotnet_interactive": {
     "language": "xsharp"
    },
    "polyglot_notebook": {
     "kernelName": "xsharp"
    }
   },
   "outputs": [],
   "source": [
    "LOCAL DIM z[10] AS INT\n",
    "FOR VAR i := 1 TO 10\n",
    "    z[i] := i\n",
    "NEXT\n",
    "FOR VAR i := 1 TO 10\n",
    "    ? z[i]\n",
    "NEXT"
   ]
  },
  {
   "cell_type": "markdown",
   "metadata": {},
   "source": [
    "您也可以预先在数组中填入数值，但必须在尖括号 `<>` 中标明元素的类型。X# 会根据你设置的值的数量来猜测数组的大小。 \n",
    "然后，你可以使用属性 `Length` 来检查数组的大小。"
   ]
  },
  {
   "cell_type": "code",
   "execution_count": null,
   "metadata": {
    "dotnet_interactive": {
     "language": "xsharp"
    },
    "polyglot_notebook": {
     "kernelName": "xsharp"
    }
   },
   "outputs": [],
   "source": [
    "VAR devTeam := <string>{ \"Chris\", \"Fabrice\", \"Nikos\", \"Robert\" }\n",
    "FOR VAR i := 1 TO devTeam:Length\n",
    "    ? devTeam[i]\n",
    "NEXT"
   ]
  }
 ],
 "metadata": {
  "kernelspec": {
   "display_name": ".NET (C#)",
   "language": "C#",
   "name": ".net-csharp"
  },
  "polyglot_notebook": {
   "kernelInfo": {
    "defaultKernelName": "csharp",
    "items": [
     {
      "aliases": [],
      "languageName": "csharp",
      "name": "csharp"
     },
     {
      "aliases": [],
      "languageName": "X#",
      "name": "xsharp"
     }
    ]
   }
  }
 },
 "nbformat": 4,
 "nbformat_minor": 2
}
