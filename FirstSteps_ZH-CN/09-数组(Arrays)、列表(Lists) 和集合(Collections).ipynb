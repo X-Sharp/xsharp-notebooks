{
 "cells": [
  {
   "cell_type": "markdown",
   "metadata": {},
   "source": [
    "# 加载 *XSharp 语言内核*."
   ]
  },
  {
   "cell_type": "code",
   "execution_count": null,
   "metadata": {
    "dotnet_interactive": {
     "language": "csharp"
    },
    "polyglot_notebook": {
     "kernelName": "csharp"
    }
   },
   "outputs": [],
   "source": [
    "// <-= 点击左侧箭头运行代码\n",
    "#r \"nuget:XSharpInteractive\""
   ]
  },
  {
   "cell_type": "markdown",
   "metadata": {},
   "source": [
    "# 数组(Arrays)、列表(Lists) 和集合(Collections)\n",
    "\n",
    "数组、列表和集合都非常有用。不过，它们还是有一些区别，我们将在下文中看到。"
   ]
  },
  {
   "cell_type": "markdown",
   "metadata": {},
   "source": [
    "### 数组(Array)\n",
    "数组定义了固定数量的相同类型的值。\n",
    "\n",
    "这意味着不能增大或缩小数组：必须在定义数组时指定其大小。  \n",
    "\n",
    "访问数组元素值时，需要使用方括号 `[]` 来指定数组的索引。 \n",
    "\n",
    "`警告!!!` `在 X# 中，默认情况下数组索引从 1 开始。`\n",
    "\n",
    "> 试试下面的代码。改变数组的大小，并尝试从末尾开始填充。"
   ]
  },
  {
   "cell_type": "code",
   "execution_count": null,
   "metadata": {
    "dotnet_interactive": {
     "language": "xsharp"
    },
    "polyglot_notebook": {
     "kernelName": "xsharp"
    }
   },
   "outputs": [],
   "source": [
    "LOCAL DIM z[10] AS INT\n",
    "FOR VAR i := 1 TO 10\n",
    "    z[i] := i\n",
    "NEXT\n",
    "FOR VAR i := 1 TO 10\n",
    "    ? z[i]\n",
    "NEXT"
   ]
  },
  {
   "cell_type": "markdown",
   "metadata": {},
   "source": [
    "您也可以预先在数组中填入数值，但必须在尖括号 `<>` 中标明元素的类型。X# 会根据你设置的值的数量来猜测数组的大小。 \n",
    "然后，你可以使用属性 `Length` 来检查数组的大小。"
   ]
  },
  {
   "cell_type": "code",
   "execution_count": null,
   "metadata": {
    "dotnet_interactive": {
     "language": "xsharp"
    },
    "polyglot_notebook": {
     "kernelName": "xsharp"
    }
   },
   "outputs": [],
   "source": [
    "VAR devTeam := <string>{ \"Chris\", \"Fabrice\", \"Nikos\", \"Robert\" }\n",
    "FOR VAR i := 1 TO devTeam:Length\n",
    "    ? devTeam[i]\n",
    "NEXT"
   ]
  },
  {
   "cell_type": "markdown",
   "metadata": {},
   "source": [
    "### 列表(List)\n",
    "列表(List)是一个强类型对象的集合，可以通过索引访问，并具有排序、搜索和修改的方法。  \n",
    "\n",
    "Dotnet 提供了不同类型的列表：\n",
    "- `ArrayList`，它是一个 `Object` 的列表，因此每个元素可以与其他元素具有不同的类型。\n",
    "- `List<T>`，其中 `<T>` 表示强类型，因此列表中的每个元素都具有相同的类型。\n",
    "___\n",
    "\n",
    "**XSharp** 中其他方言也支持不同类型的数组和列表。  \n",
    "\n",
    "它从 xBase 继承了一种特殊类型，称为 `USUAL`；它是在面向对象编程之前的类型，所以在 `OBJECT` 类型之前。有了它，你可以创建动态数组，其行为有点像 `ArrayList`，但用于操作它的函数/方法是不同的。  \n",
    "\n",
    "很不幸，我们暂时无法向你展示这些，因为 **XSharpInteractive** 引擎现仅支持 **Core 方言**，而它不支持 `USUAL` 类型。\n",
    "___"
   ]
  },
  {
   "cell_type": "markdown",
   "metadata": {},
   "source": [
    "### ArrayList\n",
    "ArrayList 是一个 Dotnet 类型。您需要使用一个对象来创建这样的列表。 \n",
    "\n",
    "*( 如果您不熟悉类、对象、方法、熟悉......请参阅相关的 [笔记](12-对象和类.ipynb). )*\n",
    "\n",
    "在创建对象时，有些语言在实例化对象时在类名前使用一个特殊的关键字 **new**。\n",
    "在 **X#** 中，表示所创建的对象时，您需要在类名后使用花括号`{}`。\n",
    "\n",
    "当您想要使用一个**命名空间**中的**类**时，您有两种选择：\n",
    "- 指定它的完全限定名，这里使用的是 `System.Collections.ArrayList`\n",
    "- 使用 `using` 命令来指明命名空间，编辑器会自行解析类名。\n",
    "\n",
    "> 试试下面的代码"
   ]
  },
  {
   "cell_type": "code",
   "execution_count": null,
   "metadata": {
    "dotnet_interactive": {
     "language": "xsharp"
    },
    "polyglot_notebook": {
     "kernelName": "xsharp"
    }
   },
   "outputs": [],
   "source": [
    "using System.Collections \n",
    "\n",
    "var myArray := ArrayList{}\n",
    "myArray:Add( \"XSharp\" )\n",
    "myArray:Add( 2.20 )\n",
    "myArray:Add( True )\n",
    "\n",
    "FOR VAR i := 0 TO myArray:Count-1\n",
    "    ? myArray[i]\n",
    "NEXT"
   ]
  },
  {
   "cell_type": "markdown",
   "metadata": {},
   "source": [
    "让我们研究一下上面的代码：  \n",
    "- `using System.Collections` 子句告诉编译器，在遇到未知类型时到哪里去查找。\n",
    "- `myArray` 是一个类型为 ArraList 的对象。\n",
    "- `Add()` 是在列表末尾插入值的类方法。\n",
    "- `Count` 的作用与数组中的 `Length` 类似: `Length` 是固定的，所以它用于数组。`Count` 是可变的，所以它适用于列表和集合等类型。\n",
    "- `[]`, 与数组一样，列表允许通过索引访问其中的元素。\n",
    "\n",
    "警告！！  \n",
    "`ArrayList` 是一个 DotNet 类型，因此其索引从 0 开始。\n",
    "\n",
    "> 修改上面的代码，在其中添加更多类型的元素，使用 ArrayList 的完全限定名, ..."
   ]
  },
  {
   "cell_type": "markdown",
   "metadata": {},
   "source": [
    "### List\\<T\\>\n",
    "这种类型的 List 也是 Dotnet 类型。 \n",
    "\n",
    "符号 `<T>` 表示您必须为 List 指定一个类型，并且 List 中的所有元素都应属于该特定类型。 \n",
    "\n",
    "类型作为一种参数出现这种表示方法，被称为**泛型**。  \n",
    "泛型使设计类成为可能，这些类将一个或多个类型参数的指定推迟到你在代码中使用该类或方法时再进行。它的主要优点就是，与在 *运行时* 解析的参数相反，类型在 *编译时* 进行检查。\n",
    "\n",
    "因此，使用诸如 **List<T>** 这样的泛型比使用类型较少的 **ArrayList** 更好。\n",
    "\n",
    "List<T> 是在 `System.Collection.Generic` 命名空间中声明的。\n",
    "\n",
    "> 试试下面的代码"
   ]
  },
  {
   "cell_type": "code",
   "execution_count": null,
   "metadata": {
    "dotnet_interactive": {
     "language": "xsharp"
    },
    "polyglot_notebook": {
     "kernelName": "xsharp"
    }
   },
   "outputs": [],
   "source": [
    "using System.Collections.Generic\n",
    "VAR myList := List<Int>{}\n",
    "FOR VAR i := 1 TO 10\n",
    "    myList:Add( i )\n",
    "NEXT\n",
    "FOR VAR i := 1 TO 10\n",
    "    ? myList[i - 1]\n",
    "NEXT"
   ]
  },
  {
   "cell_type": "markdown",
   "metadata": {},
   "source": [
    "当创建对象时，你也可以对 `List<T>` 进行初始化。这里我们使用一个数组来填充 `List<String>`!!  注意，数组位于用于创建的`{` `}`之间。"
   ]
  },
  {
   "cell_type": "code",
   "execution_count": null,
   "metadata": {
    "dotnet_interactive": {
     "language": "xsharp"
    },
    "polyglot_notebook": {
     "kernelName": "xsharp"
    }
   },
   "outputs": [],
   "source": [
    "using System.Collections.Generic\n",
    "VAR mySuperHeroes := List<String>{ <string>{\"Cyclops\", \"Beast\", \"Marvel Girl\", \"Angel\"} }\n",
    "FOR VAR i := 1 TO mySuperHeroes:Count\n",
    "    ? mySuperHeroes[i - 1]\n",
    "NEXT"
   ]
  },
  {
   "cell_type": "markdown",
   "metadata": {},
   "source": [
    "但我们也可以创建 `List<String>` 并***在此之后***在 `{` `}` 之间的使用字符串对其进行初始化。"
   ]
  },
  {
   "cell_type": "code",
   "execution_count": null,
   "metadata": {
    "dotnet_interactive": {
     "language": "csharp"
    },
    "polyglot_notebook": {
     "kernelName": "csharp"
    }
   },
   "outputs": [],
   "source": [
    "VAR mySuperHeroes := List<String>{} {\"Cyclops\", \"Beast\", \"Marvel Girl\", \"Angel\"}\n",
    "FOR VAR i := 1 TO mySuperHeroes:Count\n",
    "    ? mySuperHeroes[i - 1]\n",
    "NEXT"
   ]
  },
  {
   "cell_type": "markdown",
   "metadata": {},
   "source": [
    "~~您还可以使用 List<T> 的各种方法：~~\n",
    "~~- RemoveAt，通过位置删除元素。~~\n",
    "~~- Insert，在特定位置插入一个元素。~~\n",
    "~~- Clear，清空列表。~~\n",
    "~~- Reverse，用于... 猜猜是什么的:)~~\n",
    "~~- Contains，检查列表中是否存在元素。~~\n",
    "~~- IndexOf，如果元素存在，则查找该元素的索引，如果不存在，则返回-1。~~\n",
    "\n",
    "\n",
    "~~> 在上面的代码中试试这些方法，这是你发挥创造力的时候！~~"
   ]
  },
  {
   "cell_type": "markdown",
   "metadata": {},
   "source": [
    "### 集合(Collection)\n",
    "除了不能使用索引访问元素外，集合与 List 非常相似：你必须枚举集合，直到找到你要找的元素。\n",
    "\n",
    "有趣的是，List 和 Array 也是集合的一种：这意味着我们也可以枚举这些类型。\n",
    "\n",
    "接下来，我们将使用另一种循环结构： `FOREACH` ... `IN` ...\n",
    "\n",
    "> 让我们枚举前面代码中定义的 List。"
   ]
  },
  {
   "cell_type": "code",
   "execution_count": null,
   "metadata": {
    "dotnet_interactive": {
     "language": "xsharp"
    },
    "polyglot_notebook": {
     "kernelName": "xsharp"
    }
   },
   "outputs": [],
   "source": [
    "using System.Collections.Generic\n",
    "VAR mySuperHeroes := List<String>{ <string>{\"Cyclops\", \"Beast\", \"Marvel Girl\", \"Angel\"} }\n",
    "\n",
    "FOREACH VAR hero IN mySuperHeroes\n",
    "    ? hero\n",
    "NEXT\n",
    "\n",
    "FOREACH hero AS STRING IN mySuperHeroes\n",
    "    ? hero\n",
    "NEXT"
   ]
  },
  {
   "cell_type": "markdown",
   "metadata": {},
   "source": [
    "让我们深入研究一下这个代码：  \n",
    "- `FOREACH`，表示我们将枚举一个集合（或列表或数组）\n",
    "- `hero`，表示临时包含从集合中提取的元素的变量。可以看到，**X#** 允许编译器使用 **var** 来猜测类型，因为我们使用的是类型化列表，或者，你也可以指定类型。\n",
    "- `IN`，用于指定从哪个集合中提取元素"
   ]
  },
  {
   "cell_type": "markdown",
   "metadata": {},
   "source": [
    "# 沙盒\n",
    "\n",
    "> 列出一份杂货清单，并将清单称为 `groceries`。\n",
    "\n",
    "> 你能为每项输出 `\"buy <grocery>!\"` 吗？ \n",
    "\n",
    "> 列表(List)的第 3 项是什么？和 groceries[3] 一样吗？\n",
    "\n",
    "> 一定要加上 “toothpaste” 这个品种。 \n",
    "\n",
    "> 去掉你最不喜欢的杂货。 \n",
    "\n",
    "> 现在清单的第三项是什么？"
   ]
  },
  {
   "cell_type": "code",
   "execution_count": null,
   "metadata": {
    "dotnet_interactive": {
     "language": "xsharp"
    },
    "polyglot_notebook": {
     "kernelName": "xsharp"
    }
   },
   "outputs": [],
   "source": [
    "? \"Sandbox\""
   ]
  }
 ],
 "metadata": {
  "kernelspec": {
   "display_name": ".NET (C#)",
   "language": "C#",
   "name": ".net-csharp"
  },
  "polyglot_notebook": {
   "kernelInfo": {
    "defaultKernelName": "csharp",
    "items": [
     {
      "aliases": [],
      "languageName": "csharp",
      "name": "csharp"
     },
     {
      "aliases": [],
      "languageName": "X#",
      "name": "xsharp"
     }
    ]
   }
  }
 },
 "nbformat": 4,
 "nbformat_minor": 2
}
