{
 "cells": [
  {
   "cell_type": "markdown",
   "metadata": {},
   "source": [
    "# Welcome to XSharp Interactive\n",
    "\n",
    "In order to use our XSharp Notebooks, you will need to first, load the *XSharp Language kernel*.  \n",
    "Each Notebook will start will the same cell :\n",
    ">#i \"nuget:C:\\XSharpInteractive\\\"  \n",
    "#r \"nuget:XSharpInteractive,1.0.0\"\n",
    "\n",
    "Its content is the following :\n",
    "\n",
    ">#i  \n",
    "\n",
    "this **i**ndicates the path where you have placed the file `XSharpXSharpInteractive.1.0.0.nupkg`  \n",
    "**Don't forget to adapt the path to your setting if needed, then execute the cell.**\n",
    ">#r  \n",
    "\n",
    "this **r**uns the loading of the file : This is the XSharp Kernel\n",
    "\n",
    "\n",
    "\n",
    "In order to run a code cell, you will have to press the *play* button that appears on the top-left of the code-cell when you move the mouse over it. You will notice that this cell is marked as *csharp - C# Script* : It cannot run as *xsharp Script* because the XSharp Kernel still needs to be loaded ! :)"
   ]
  },
  {
   "cell_type": "code",
   "execution_count": 2,
   "metadata": {
    "dotnet_interactive": {
     "language": "csharp"
    },
    "polyglot_notebook": {
     "kernelName": "csharp"
    }
   },
   "outputs": [
    {
     "data": {
      "text/html": [
       "<div><div><strong>Restore sources</strong><ul><li><span>E:\\source\\repos\\XSharpInteractive_Net\\XSharpInteractive\\bin\\Debug</span></li></ul></div><div></div><div><strong>Installed Packages</strong><ul><li><span>XSharpInteractive, 1.0.0</span></li></ul></div></div>"
      ]
     },
     "metadata": {},
     "output_type": "display_data"
    },
    {
     "data": {
      "text/plain": [
       "Loading extension script from `C:\\Users\\fabri\\.nuget\\packages\\xsharpinteractive\\1.0.0\\interactive-extensions\\dotnet\\extension.dib`"
      ]
     },
     "metadata": {},
     "output_type": "display_data"
    },
    {
     "data": {
      "text/html": [
       "<div>Loading XSharp Interactive... </div>"
      ]
     },
     "metadata": {},
     "output_type": "display_data"
    },
    {
     "data": {
      "text/html": [
       "<div><code>XSharpKernelVSExtension</code> has loaded successfully. It support XSharp Core Dialect language scripting. Try it by running: <code>#!xsharp</code>Or by selecting <code>xsharp</code> as language for the Notebook cell.</div>"
      ]
     },
     "metadata": {},
     "output_type": "display_data"
    }
   ],
   "source": [
    "// <-= Press on the Arrow to run Me\n",
    "#i \"nuget:E:\\source\\repos\\XSharpInteractive_Net\\XSharpInteractive\\bin\\Debug\"\n",
    "#r \"nuget:XSharpInteractive,1.0.0\""
   ]
  },
  {
   "cell_type": "markdown",
   "metadata": {},
   "source": [
    "Ok, if you have a message indicating that XSharp Interactive has been loaded successfully, the following cell that is marked as **xsharp - X# Script** should runs :)"
   ]
  },
  {
   "cell_type": "code",
   "execution_count": 4,
   "metadata": {
    "dotnet_interactive": {
     "language": "xsharp"
    },
    "polyglot_notebook": {
     "kernelName": "xsharp"
    }
   },
   "outputs": [
    {
     "data": {
      "text/html": [
       "<div><span><p style=\"color: red\"></p><br /></span></div>"
      ]
     },
     "metadata": {},
     "output_type": "display_data"
    },
    {
     "name": "stdout",
     "output_type": "stream",
     "text": [
      "\r\n",
      "Hello World !"
     ]
    }
   ],
   "source": [
    "? \"Hello World !\""
   ]
  },
  {
   "cell_type": "markdown",
   "metadata": {},
   "source": [
    "You can modify the content of the code-cell as you wish, and execute again.   \n",
    "You can also clear all outputs by clicking the *Clear All Outputs* menuitem at the top of file."
   ]
  }
 ],
 "metadata": {
  "kernelspec": {
   "display_name": ".NET (C#)",
   "language": "C#",
   "name": ".net-csharp"
  },
  "language_info": {
   "name": "polyglot-notebook"
  },
  "polyglot_notebook": {
   "kernelInfo": {
    "defaultKernelName": "csharp",
    "items": [
     {
      "aliases": [],
      "languageName": "csharp",
      "name": "csharp"
     },
     {
      "aliases": [],
      "name": "xsharp"
     }
    ]
   }
  }
 },
 "nbformat": 4,
 "nbformat_minor": 2
}
